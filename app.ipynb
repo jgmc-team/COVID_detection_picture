{
 "cells": [
  {
   "cell_type": "code",
   "execution_count": 1,
   "id": "martial-disclaimer",
   "metadata": {
    "id": "advance-fighter"
   },
   "outputs": [],
   "source": [
    "# !pip install pandas\n",
    "# !pip install plotly\n",
    "# !pip install dash_core_components dash_html_components\n",
    "# !pip install plotly.express\n",
    "# !pip install -U scikit-image\n",
    "# !pip install --upgrade jupyter_http_over_ws>=0.0.7 && jupyter serverextension enable --py jupyter_http_over_ws\n",
    "# !pip install dash_canvas\n",
    "# !pip install ipynb-py-convert\n",
    "# !pip install image-utils\n",
    "# !pip install nilearn\n",
    "# !pip install shapes\n",
    "# !pip install pybase64\n",
    "# !pip install shapes\n",
    "# !pip install boto3\n",
    "# !pip install python-dotenv\n",
    "# !pip install dash_bootstrap_components\n",
    "# !pip install pillow==7.0.0\n",
    "#!pip install tensorflow"
   ]
  },
  {
   "cell_type": "code",
   "execution_count": 2,
   "id": "hairy-degree",
   "metadata": {
    "id": "finite-pencil"
   },
   "outputs": [],
   "source": [
    "# pip list"
   ]
  },
  {
   "cell_type": "code",
   "execution_count": 3,
   "id": "minus-champion",
   "metadata": {
    "id": "second-italy"
   },
   "outputs": [],
   "source": [
    "# https://github.com/plotly/dash-3d-image-partitioning/blob/master/app.py\n",
    "# https://dash-gallery.plotly.host/dash-3d-image-partitioning/"
   ]
  },
  {
   "cell_type": "code",
   "execution_count": 4,
   "id": "enabling-wheat",
   "metadata": {
    "id": "electoral-minneapolis",
    "outputId": "81f710eb-c261-4d76-d729-ad6252f4336f"
   },
   "outputs": [
    {
     "name": "stderr",
     "output_type": "stream",
     "text": [
      "C:\\Users\\Admin\\anaconda3\\envs\\jupyterlab-debugger\\lib\\site-packages\\skimage\\io\\manage_plugins.py:23: UserWarning: Your installed pillow version is < 7.1.0. Several security issues (CVE-2020-11538, CVE-2020-10379, CVE-2020-10994, CVE-2020-10177) have been fixed in pillow 7.1.0 or higher. We recommend to upgrade this library.\n",
      "  from .collection import imread_collection_wrapper\n"
     ]
    }
   ],
   "source": [
    "import dash_html_components as html\n",
    "import dash_core_components as dcc\n",
    "import plotly.graph_objects as go\n",
    "import plotly.graph_objects as go\n",
    "import plotly.express as px\n",
    "from nilearn import image\n",
    "import nibabel as nib\n",
    "from sys import exit\n",
    "import image_utils\n",
    "import numpy as np\n",
    "import skimage\n",
    "import base64\n",
    "import dash\n",
    "import time\n",
    "import os\n",
    "import io\n",
    "import dash_bootstrap_components as dbc\n",
    "from dash_canvas.utils import array_to_data_url\n",
    "from skimage import data, img_as_ubyte, segmentation, measure\n",
    "from dash.dependencies import Input, Output, State, ClientsideFunction"
   ]
  },
  {
   "cell_type": "code",
   "execution_count": 5,
   "id": "intimate-exclusive",
   "metadata": {
    "id": "broken-noise"
   },
   "outputs": [],
   "source": [
    "from dash.dependencies import Input, Output, State\n",
    "from dotenv import load_dotenv, find_dotenv\n",
    "import json\n",
    "import time\n",
    "import uuid\n",
    "from copy import deepcopy\n",
    "import boto3\n",
    "import requests\n",
    "#from flask_caching import Cache\n",
    "\n",
    "# import dash_reusable_components as drc\n",
    "# from utils import STORAGE_PLACEHOLDER, GRAPH_PLACEHOLDER, IMAGE_STRING_PLACEHOLDER\n",
    "# from utils import apply_filters, show_histogram, generate_lasso_mask, apply_enhancements"
   ]
  },
  {
   "cell_type": "code",
   "execution_count": 6,
   "id": "atomic-engineering",
   "metadata": {
    "id": "removed-donor"
   },
   "outputs": [],
   "source": [
    "from mpl_toolkits.mplot3d.art3d import Poly3DCollection\n",
    "import plotly.graph_objects as go \n",
    "import plotly.express as px\n",
    "import dash\n",
    "import dash_core_components as dcc\n",
    "import dash_html_components as html\n",
    "import plotly.graph_objects as go\n",
    "import matplotlib.pyplot as plt\n",
    "from skimage import measure\n",
    "from scipy import ndimage\n",
    "import nibabel as nib\n",
    "import numpy as np\n",
    "import operator"
   ]
  },
  {
   "cell_type": "code",
   "execution_count": 7,
   "id": "ordered-iceland",
   "metadata": {
    "id": "developed-offset",
    "outputId": "ccb65dcc-0629-4da0-95b2-5ebb409da042"
   },
   "outputs": [],
   "source": [
    "# os.getcwd()  # TODO: REMOVE ME"
   ]
  },
  {
   "cell_type": "code",
   "execution_count": 8,
   "id": "unnecessary-mitchell",
   "metadata": {
    "id": "listed-league"
   },
   "outputs": [],
   "source": [
    "### self-made frameworks\n",
    "import K8L_detect"
   ]
  },
  {
   "cell_type": "code",
   "execution_count": 9,
   "id": "short-mentor",
   "metadata": {
    "id": "miniature-balloon"
   },
   "outputs": [],
   "source": [
    "from flask import Flask, Request\n",
    "from flask import Flask, request, redirect, url_for\n",
    "from werkzeug.utils import secure_filename\n",
    "\n",
    "UPLOAD_FOLDER = os.getcwd() + '/MRI'\n",
    "ALLOWED_EXTENSIONS = set(['txt', 'pdf', 'png', 'jpg', 'jpeg', 'gif'])\n",
    "\n",
    "app = Flask(__name__)\n",
    "app.config['UPLOAD_FOLDER'] = UPLOAD_FOLDER\n",
    "app = Flask(__name__)  # <---------  WTF??\n",
    "app.config['MAX_CONTENT_LENGTH'] = 16 * 1024 * 1024"
   ]
  },
  {
   "cell_type": "code",
   "execution_count": 10,
   "id": "previous-caution",
   "metadata": {
    "id": "ultimate-pierce"
   },
   "outputs": [],
   "source": [
    "def alert_():\n",
    "    alert = dbc.Alert(\n",
    "        [\n",
    "            html.H4(\"Well done!\", className=\"alert-heading\"),\n",
    "            html.P(\n",
    "                \"This is a success alert with loads of extra text in it. So much \"\n",
    "                \"that you can see how spacing within an alert works with this \"\n",
    "                \"kind of content.\"\n",
    "            ),\n",
    "            html.Hr(),\n",
    "            html.P(\n",
    "                \"Let's put some more text down here, but remove the bottom margin\",\n",
    "                className=\"mb-0\",\n",
    "            ),\n",
    "        ]\n",
    "    )\n",
    "    return alert"
   ]
  },
  {
   "cell_type": "code",
   "execution_count": 11,
   "id": "psychological-quest",
   "metadata": {
    "id": "supported-honor"
   },
   "outputs": [],
   "source": [
    "def plot_3d(image, threshold=-300):\n",
    "    fig = go.Figure()\n",
    "    p = image\n",
    "    # p = image.transpose(2,1,0)\n",
    "    p = ndimage.rotate(p, 180, axes=(1,0))\n",
    "    p = ndimage.zoom(p, (0.5, 0.5, 1), order= 3)\n",
    "    # p = image\n",
    "    verts, faces, normals, values = measure.marching_cubes_lewiner(p, threshold)\n",
    "    fig_ = plt.figure(figsize=(10, 10))\n",
    "    ax = fig_.add_subplot(111, projection='3d')\n",
    "    mesh = Poly3DCollection(verts[faces], alpha=0.1)\n",
    "    face_color = [0.5, 0.5, 1]\n",
    "    mesh.set_facecolor(face_color)\n",
    "    ax.add_collection3d(mesh)\n",
    "    ax.set_xlim(0, p.shape[0])\n",
    "    ax.set_ylim(0, p.shape[1])\n",
    "    ax.set_zlim(0, p.shape[2])\n",
    "\n",
    "    plt.show()\n",
    "    return fig\n",
    "# url = \"/run/user/1000/gvfs/google-drive:host=gmail.com,user=svetloffsergey/1XG17oqVBvn4Lusj4Yns-cFzWYx5DBWMT/1fcAJfhwZvXw2emzciyVp8SoN9EqxYXDA/1abY2afPM745jnKNGmKXA4BZgb6acjXQt\"\n",
    "# # image = \"/content/drive/MyDrive/JN/NN/COVID_detection_picture/sick_7c7160149aec1ebf15b28166f5458c49.nii\"\n",
    "# image = \"/sick_7c7160149aec1ebf15b28166f5458c49.nii\"\n",
    "# image = nib.load(url + image);\n",
    "# image = image.get_data();\n",
    "# image.shape\n",
    "# fig = go.Figure(plot_3d(image, threshold=-300))\n",
    "# fig.show()"
   ]
  },
  {
   "cell_type": "code",
   "execution_count": 12,
   "id": "invisible-comment",
   "metadata": {
    "id": "impaired-trading"
   },
   "outputs": [],
   "source": [
    "# layout = dict(\n",
    "#     autosize=True,\n",
    "#     automargin=True,\n",
    "#     margin=dict(\n",
    "#         l=30,\n",
    "#         r=30,\n",
    "#         b=20,\n",
    "#         t=40\n",
    "#     ),\n",
    "#     hovermode=\"closest\",\n",
    "#     plot_bgcolor=\"#F9F9F9\",\n",
    "#     paper_bgcolor=\"#F9F9F9\",\n",
    "#     legend=dict(font=dict(size=10), orientation='h'),\n",
    "#     title='Satellite Overview',\n",
    "# #     mapbox=dict(\n",
    "# #         accesstoken=mapbox_access_token,\n",
    "# #         style=\"light\",\n",
    "# #         center=dict(\n",
    "# #             lon=-78.05,\n",
    "# #             lat=42.54\n",
    "# #         ),\n",
    "# #         zoom=7,\n",
    "# #     )\n",
    "# )"
   ]
  },
  {
   "cell_type": "code",
   "execution_count": 13,
   "id": "suspected-batch",
   "metadata": {
    "id": "received-border"
   },
   "outputs": [],
   "source": [
    "# app = dash.Dash()\n",
    "external_stylesheets = ['https://codepen.io/chriddyp/pen/bWLwgP.css']\n",
    "app = dash.Dash(__name__, external_stylesheets=external_stylesheets)\n",
    "server = app.server"
   ]
  },
  {
   "cell_type": "code",
   "execution_count": 14,
   "id": "negative-quick",
   "metadata": {
    "id": "lesbian-authorization"
   },
   "outputs": [],
   "source": [
    "\n",
    "def plot_image(path):\n",
    "    fig = go.Figure();\n",
    "#     plt.figure(figsize=(12, 12));\n",
    "    # path = image_fetcher.fetch('data/cells.tif')\n",
    "    # path = image_fetcher.fetch('data/cells.tif')\n",
    "    try:\n",
    "        if path != None:\n",
    "            path = path\n",
    "    except:\n",
    "        print(f\"Default image:\")\n",
    "        path = '/С:/Users/Admin/Documents/JN/NN/COVID_detection_picture/MRI/sick_7c7160149aec1ebf15b28166f5458c49.nii'\n",
    "#     print(type(path))\n",
    "    data = nib.load(path);\n",
    "    print(type(data))\n",
    "    \n",
    "    data = data.get_data();\n",
    "    print(type(data[0]), data[0].shape)\n",
    "    data = data.transpose(2,1,0)\n",
    "    print(type(data), data.shape)\n",
    "    \n",
    "    data = ndimage.zoom(data, (1, 1, 1), order = 1)\n",
    "    print(data.shape)\n",
    "    img = data[:]\n",
    "    fig = px.imshow(img, \n",
    "                    animation_frame = 0, \n",
    "                    binary_string = True, \n",
    "                    labels = dict(animation_frame = \"slice\"),    \n",
    "                    width = 512,\n",
    "                    height = 512, \n",
    "#                     title = \"NIFTI Detection scanner\"\n",
    "                   )\n",
    "#     fig.show()    \n",
    "    return fig\n",
    "# plot_image(path)"
   ]
  },
  {
   "cell_type": "code",
   "execution_count": 15,
   "id": "composite-omaha",
   "metadata": {
    "id": "environmental-vanilla"
   },
   "outputs": [],
   "source": [
    "BANNER = html.Div(\n",
    "    [html.H3('--Neural net detection--'),\n",
    "     html.H3(' <COVID 19> from MRI-files type--',\n",
    "             id='title'),\n",
    "     html.Img(src=\"https://s3-us-west-1.amazonaws.com/plotly-tutorials/logo/new-branding/dash-logo-by-plotly-stripe-inverted.png\"\n",
    "         ,  style={'height':'11%', 'width':'11%'})],\n",
    "    className=\"row\", ### oldName 'banner' - ok!\n",
    "    style={'width': '100%', \n",
    "           'height' : '50%',\n",
    "           'lineHeight': '50px', \n",
    "           'borderWidth': '1px', \n",
    "#            'borderStyle': 'dashed', \n",
    "           'borderRadius': '5px',\n",
    "           'textAlign': 'center',\n",
    "          'float' : 'center',\n",
    "          'textAlign' : 'center'}\n",
    ", ) "
   ]
  },
  {
   "cell_type": "code",
   "execution_count": 16,
   "id": "apart-representative",
   "metadata": {
    "id": "chemical-silence"
   },
   "outputs": [],
   "source": [
    "CLASS_NAME_HEADER = 'two columns'"
   ]
  },
  {
   "cell_type": "code",
   "execution_count": 17,
   "id": "literary-tsunami",
   "metadata": {
    "id": "acknowledged-balloon"
   },
   "outputs": [],
   "source": [
    "HEADER_LEFT = html.Div(\n",
    "    className = 'four columns',\n",
    "    children=[\n",
    "        html.Div(className = 'pretty_container',\n",
    "                 children = [\n",
    "        dcc.Upload(id='upload_image', \n",
    "                   children=['Drag and Drop or .. ', \n",
    "                             html.A('Select an Image')]),\n",
    "                   ],\n",
    "#                    style={'width': '50%', \n",
    "#                           'height': '50px', \n",
    "#                           'lineHeight': '50px', \n",
    "#                           'borderWidth': '1px', \n",
    "# #                           'borderStyle': 'dashed', \n",
    "#                           'borderRadius': '5px',\n",
    "#                           'textAlign': 'center'},\n",
    "                  )\n",
    "    ])"
   ]
  },
  {
   "cell_type": "code",
   "execution_count": 18,
   "id": "generous-configuration",
   "metadata": {
    "id": "imported-notebook"
   },
   "outputs": [],
   "source": [
    "HEADER_CENTER  = html.Div(\n",
    "    className = 'four columns', \n",
    "    children = [\n",
    "        html.Div(className = 'pretty_container',\n",
    "                 children = [\n",
    "        dcc.RadioItems(\n",
    "            id = 'select_model',\n",
    "            options = [\n",
    "#                 {'label': ' ResNet50', 'value': 'ResNet50'},\n",
    "                {'label': ' Keras', 'value': 'Keras'}\n",
    "                      ],\n",
    "            value ='Keras', \n",
    "            labelStyle = {'margin-right': '5px',\n",
    "                         'display': 'inline-block'}\n",
    "        ),\n",
    "        html.Div([\n",
    "            html.Button('Run Detection',\n",
    "                        id='button_run_operation',\n",
    "                        style = {'margin-right': '10px', 'margin-top': '5px'},\n",
    "                        n_clicks = 0\n",
    "                       ),\n",
    "            html.Button('Undo', id='button_undo',\n",
    "                        style={'margin-top': '5px'},\n",
    "#                        n_clicks = 0\n",
    "                       ),\n",
    "        ])    \n",
    "    ]),\n",
    "                 ],\n",
    "#     style={'width': '50%', \n",
    "#            'height': '50px', \n",
    "#            'lineHeight': '50px',\n",
    "#            'borderWidth': '1px', \n",
    "# #            'borderStyle': 'dashed', \n",
    "#            'borderRadius': '5px',\n",
    "#            'textAlign': 'center'}\n",
    ")"
   ]
  },
  {
   "cell_type": "code",
   "execution_count": 19,
   "id": "distinct-lightning",
   "metadata": {
    "id": "macro-organizer"
   },
   "outputs": [],
   "source": [
    "HEADER_CLASS = html.Div(\n",
    "    className = 'two columns', #old four -ok!\n",
    "    children = [\n",
    "        html.Div([\n",
    "        html.Div([\n",
    "            html.P('Class:'),\n",
    "            html.H6(id=\"well_text\", className=\"info_text\"),]),\n",
    "        ],\n",
    "            className = 'pretty_container'\n",
    "        )],\n",
    "    id=\"wells_class\",\n",
    "#     style={'width': '100%', \n",
    "#            'height' : '50%',\n",
    "#            'lineHeight': '50px', \n",
    "#            'borderWidth': '1px', \n",
    "# #            'borderStyle': 'dashed', \n",
    "#            'borderRadius': '5px',\n",
    "#            'textAlign': 'left'}\n",
    ")"
   ]
  },
  {
   "cell_type": "code",
   "execution_count": 20,
   "id": "royal-storm",
   "metadata": {
    "id": "normal-browser"
   },
   "outputs": [],
   "source": [
    "HEADER_RATE = html.Div(\n",
    "    className = 'two columns', #old four -ok!\n",
    "    children = [\n",
    "        html.Div([\n",
    "        html.Div([\n",
    "            html.P('Rate:'), \n",
    "            html.H6(id=\"well_rate\", className=\"info_text\"),]),\n",
    "        ],\n",
    "            className = 'pretty_container'\n",
    "        )],\n",
    "    id=\"wells_rate\",\n",
    "#     style={'width': '100%', \n",
    "#            'height' : '50%',\n",
    "#            'lineHeight': '50px', \n",
    "#            'borderWidth': '1px', \n",
    "# #            'borderStyle': 'dashed', \n",
    "#            'borderRadius': '5px',\n",
    "#            'textAlign': 'left'}\n",
    ")"
   ]
  },
  {
   "cell_type": "code",
   "execution_count": 21,
   "id": "proof-killer",
   "metadata": {
    "id": "municipal-school"
   },
   "outputs": [],
   "source": [
    "MAIN_SCREEN = html.Div(className = 'row', \n",
    "                       children = [\n",
    "                        html.Div(\n",
    "                            className='pretty_container',\n",
    "                            children=[\n",
    "                            html.H6('File name:', id = 'well_file'),\n",
    "                            dcc.Graph(id = 'id_display_view',\n",
    "                                     )\n",
    "                            ],\n",
    "                        )\n",
    "                       ],\n",
    "                       style={\n",
    "                           'width': '80%',\n",
    "                           'display': 'inline-block', \n",
    "                           'padding': '20 20',\n",
    "                           'float': 'center'\n",
    "                       }\n",
    "                      )"
   ]
  },
  {
   "cell_type": "code",
   "execution_count": 22,
   "id": "diagnostic-ordering",
   "metadata": {
    "id": "driving-county"
   },
   "outputs": [],
   "source": [
    "HEADER = html.Div(\n",
    "    className = 'row',\n",
    "    children = [\n",
    "        html.Div(\n",
    "            HEADER_LEFT),\n",
    "        html.Div(\n",
    "            HEADER_CENTER),\n",
    "        html.Div(\n",
    "            HEADER_CLASS),\n",
    "        html.Div(\n",
    "            HEADER_RATE\n",
    "                )\n",
    "    ],\n",
    "    style={\n",
    "        'width': '80%',\n",
    "        'display': 'inline-block',\n",
    "#         'padding': '20 20',\n",
    "#         'float': 'center'\n",
    "    }\n",
    ")"
   ]
  },
  {
   "cell_type": "code",
   "execution_count": 23,
   "id": "unavailable-albuquerque",
   "metadata": {
    "id": "valid-corruption"
   },
   "outputs": [],
   "source": [
    "app.layout = html.Div([\n",
    "    dcc.Store(id='aggregate_data', ),\n",
    "    BANNER,\n",
    "    HEADER,\n",
    "    MAIN_SCREEN\n",
    "],\n",
    "    style={\n",
    "        \"display\": \"flex\",\n",
    "        \"flex-direction\": \"column\"\n",
    "    })"
   ]
  },
  {
   "cell_type": "code",
   "execution_count": 24,
   "id": "neither-paragraph",
   "metadata": {
    "id": "social-dragon",
    "outputId": "54cb2ece-000d-4e9d-9e28-5b7ef8fb7a01"
   },
   "outputs": [],
   "source": [
    "path_to_image = \"sick_7c7160149aec1ebf15b28166f5458c49.nii\"\n",
    "# os.path.abspath('MRI/' + path_to_image)  # TODO: REMOVE ME?"
   ]
  },
  {
   "cell_type": "code",
   "execution_count": 25,
   "id": "overall-operator",
   "metadata": {
    "id": "actual-messaging"
   },
   "outputs": [],
   "source": [
    "def fetch_aggregate_(full_path, model):\n",
    "    click = 0\n",
    "    try:\n",
    "        full_path == None\n",
    "    except:\n",
    "#         full_path = os.getcwd() + \"MRI/test_MRI.nii\"\n",
    "        full_path = os.getcwd() + \"/MRI/sick_7ff18f5d3de11b9ae7a9e5d651313fbd.nii\"\n",
    "#     fig = plot_image(full_path)\n",
    "    if model == 'Keras':\n",
    "#         full_path = os.getcwd() + full_path\n",
    "        predict = K8L_detect.main(full_path)\n",
    "    elif model == 'ResNet50':\n",
    "        pass\n",
    "#         predict = RN50_detect.main(full_path)\n",
    "#         predict = max(predict.items(), key = operator.itemgetter(1))\n",
    "        \n",
    "    return predict\n",
    "\n",
    "### get fetch ###\n",
    "@app.callback(\n",
    "#     Output('aggregate_data', 'data'),\n",
    "    Output('aggregate_data', 'data'),\n",
    "    [Input('upload_image', 'filename'), Input('select_model', 'value'), Input('button_run_operation', 'n_clicks')])\n",
    "def get_fetch_(filename, select_model, click):\n",
    "#     dir_path = os.getcwd()\n",
    "    try:\n",
    "        filename is None\n",
    "    except:\n",
    "        return print('Error path', type(filename))\n",
    "    \n",
    "    full_path = os.path.abspath('MRI/' + filename)\n",
    "    if filename != None and select_model != None and click != 0:\n",
    "        predict = fetch_aggregate_(full_path, select_model)\n",
    "        click = 0\n",
    "        return predict\n",
    "\n",
    "\n",
    "\n",
    "### get slicer ###\n",
    "@app.callback(\n",
    "#     Output('aggregate_data', 'data'),\n",
    "    Output('id_display_view', 'figure'),\n",
    "    [Input('upload_image', 'filename'), Input('select_model', 'value'), Input('button_run_operation', 'n_clicks')])\n",
    "def get_image_(filename, select_model, click):\n",
    "#     dir_path = os.getcwd()\n",
    "    try:\n",
    "        filename is None\n",
    "    except:\n",
    "        return print('Error path', type(filename))\n",
    "    full_path = os.path.abspath('MRI/' + filename)\n",
    "    if filename != None:\n",
    "        fig = plot_image(full_path)\n",
    "        return fig\n",
    "    \n",
    "### get responce from def fetch_aggregate ###\n",
    "@app.callback(\n",
    "    Output('well_text', 'children'),\n",
    "    Input('aggregate_data', 'data'))\n",
    "def predict_data_class(data):\n",
    "        return data[0]\n",
    "\n",
    "### get responce from def fetch_aggregate ###\n",
    "@app.callback(\n",
    "    Output('well_rate', 'children'),\n",
    "    Input('aggregate_data', 'data'))\n",
    "def predict_data_rate(data):\n",
    "        return str(round(float(data[1]) * 100, 2)) + \"%\"\n",
    "\n",
    "### get filename\n",
    "@app.callback(\n",
    "    Output('well_file', 'children'),\n",
    "    [Input('upload_image', 'filename'), Input('select_model', 'value'), Input('button_run_operation', 'n_clicks')])\n",
    "def get_name_file_(name, model, click):\n",
    "    if name != None:\n",
    "#             return [\"File: \" + os.fspath(name), \" | Model: \" + model, click]\n",
    "            return [\"File: \" + os.path.abspath(name), \" | Model: \" + model, click]\n",
    "#             return [\"File: \" + os.getcwd() + name, \" | Model: \" + model, click]\n",
    "    else:\n",
    "        alert()"
   ]
  },
  {
   "cell_type": "code",
   "execution_count": null,
   "id": "consecutive-roberts",
   "metadata": {
    "id": "greatest-funds",
    "outputId": "a7494380-7ea2-486c-cf08-c08c691f13d8"
   },
   "outputs": [
    {
     "name": "stdout",
     "output_type": "stream",
     "text": [
      "Dash is running on http://127.0.0.1:8050/\n",
      "\n",
      " * Serving Flask app \"__main__\" (lazy loading)\n",
      " * Environment: production\n",
      "   WARNING: This is a development server. Do not use it in a production deployment.\n",
      "   Use a production WSGI server instead.\n",
      " * Debug mode: off\n"
     ]
    },
    {
     "name": "stderr",
     "output_type": "stream",
     "text": [
      " * Running on http://127.0.0.1:8050/ (Press CTRL+C to quit)\n"
     ]
    }
   ],
   "source": [
    "if __name__ == \"__main__\":\n",
    "    !ipynb-py-convert app.ipynb app.py\n",
    "    app.run_server(debug=False);"
   ]
  }
 ],
 "metadata": {
  "colab": {
   "name": "app.ipynb",
   "provenance": []
  },
  "kernelspec": {
   "display_name": "Python 3",
   "language": "python",
   "name": "python3"
  },
  "language_info": {
   "codemirror_mode": {
    "name": "ipython",
    "version": 3
   },
   "file_extension": ".py",
   "mimetype": "text/x-python",
   "name": "python",
   "nbconvert_exporter": "python",
   "pygments_lexer": "ipython3",
   "version": "3.7.10"
  },
  "latex_envs": {
   "LaTeX_envs_menu_present": true,
   "autoclose": false,
   "autocomplete": true,
   "bibliofile": "biblio.bib",
   "cite_by": "apalike",
   "current_citInitial": 1,
   "eqLabelWithNumbers": true,
   "eqNumInitial": 1,
   "hotkeys": {
    "equation": "Ctrl-E",
    "itemize": "Ctrl-I"
   },
   "labels_anchors": false,
   "latex_user_defs": false,
   "report_style_numbering": false,
   "user_envs_cfg": false
  }
 },
 "nbformat": 4,
 "nbformat_minor": 5
}
