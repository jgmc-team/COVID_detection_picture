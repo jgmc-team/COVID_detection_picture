{
  "nbformat": 4,
  "nbformat_minor": 0,
  "metadata": {
    "kernelspec": {
      "display_name": "Python 3",
      "language": "python",
      "name": "python3"
    },
    "language_info": {
      "codemirror_mode": {
        "name": "ipython",
        "version": 3
      },
      "file_extension": ".py",
      "mimetype": "text/x-python",
      "name": "python",
      "nbconvert_exporter": "python",
      "pygments_lexer": "ipython3",
      "version": "3.7.6"
    },
    "latex_envs": {
      "LaTeX_envs_menu_present": true,
      "autoclose": false,
      "autocomplete": true,
      "bibliofile": "biblio.bib",
      "cite_by": "apalike",
      "current_citInitial": 1,
      "eqLabelWithNumbers": true,
      "eqNumInitial": 1,
      "hotkeys": {
        "equation": "Ctrl-E",
        "itemize": "Ctrl-I"
      },
      "labels_anchors": false,
      "latex_user_defs": false,
      "report_style_numbering": false,
      "user_envs_cfg": false
    },
    "colab": {
      "name": "convert_zip_to_nii.ipynb",
      "provenance": []
    }
  },
  "cells": [
    {
      "cell_type": "code",
      "metadata": {
        "id": "BpYX_UZroYbQ"
      },
      "source": [
        ""
      ],
      "execution_count": null,
      "outputs": []
    },
    {
      "cell_type": "code",
      "metadata": {
        "id": "P30gG5ZwoYb7"
      },
      "source": [
        "import os\n",
        "import gzip\n",
        "import numba\n",
        "import zipfile\n",
        "import numpy as np\n",
        "import threading as tr"
      ],
      "execution_count": null,
      "outputs": []
    },
    {
      "cell_type": "code",
      "metadata": {
        "colab": {
          "base_uri": "https://localhost:8080/"
        },
        "id": "DAN2eo5wtyn8",
        "outputId": "8ed403c4-5a6d-40ef-f6d5-a24cad83a88b"
      },
      "source": [
        "from google.colab import drive\n",
        "drive.mount('/content/drive')"
      ],
      "execution_count": null,
      "outputs": [
        {
          "output_type": "stream",
          "text": [
            "Drive already mounted at /content/drive; to attempt to forcibly remount, call drive.mount(\"/content/drive\", force_remount=True).\n"
          ],
          "name": "stdout"
        }
      ]
    },
    {
      "cell_type": "code",
      "metadata": {
        "id": "bS3GCJdNoYcB"
      },
      "source": [
        "nii_filepath_test = \"/content/drive/MyDrive/JN/NN/COVID_detection_picture/README/test_mosmed/\"\n",
        "nii_filepath_test_out = \"/content/drive/MyDrive/JN/NN/COVID_detection_picture/README/test_mosmed_out/\" #nii folder"
      ],
      "execution_count": null,
      "outputs": []
    },
    {
      "cell_type": "code",
      "metadata": {
        "id": "RSqYgTWmoYcD"
      },
      "source": [
        "def encoder_gzip2nii_(path, output_path = None):\n",
        "    os.chdir(path)\n",
        "    for item in os.listdir(path):\n",
        "        # print(item)\n",
        "        if (item.find('.')) > 0:\n",
        "            # print(str(item.find('.')))\n",
        "            continue\n",
        "        else:\n",
        "            print('Dot not find')\n",
        "            input = gzip.GzipFile(item)\n",
        "            # print(item)\n",
        "            data = input.read()\n",
        "            input.close()\n",
        "            # file_output = path + item + \".nii\"\n",
        "            file_output = path + item + \".nii\"\n",
        "            output = open(file_output, 'wb')\n",
        "            output.write(data)\n",
        "            output.close()\n",
        "#             os.remove(item)\n",
        "encoder_gzip2nii_(nii_filepath_test, output_path = nii_filepath_test_out)"
      ],
      "execution_count": null,
      "outputs": []
    }
  ]
}