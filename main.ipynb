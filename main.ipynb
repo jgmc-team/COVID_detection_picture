{
  "nbformat": 4,
  "nbformat_minor": 0,
  "metadata": {
    "anaconda-cloud": {},
    "kernelspec": {
      "display_name": "Python 3",
      "language": "python",
      "name": "python3"
    },
    "language_info": {
      "codemirror_mode": {
        "name": "ipython",
        "version": 3
      },
      "file_extension": ".py",
      "mimetype": "text/x-python",
      "name": "python",
      "nbconvert_exporter": "python",
      "pygments_lexer": "ipython3",
      "version": "3.7.6"
    },
    "latex_envs": {
      "LaTeX_envs_menu_present": true,
      "autoclose": false,
      "autocomplete": true,
      "bibliofile": "biblio.bib",
      "cite_by": "apalike",
      "current_citInitial": 1,
      "eqLabelWithNumbers": true,
      "eqNumInitial": 1,
      "hotkeys": {
        "equation": "Ctrl-E",
        "itemize": "Ctrl-I"
      },
      "labels_anchors": false,
      "latex_user_defs": false,
      "report_style_numbering": false,
      "user_envs_cfg": false
    },
    "colab": {
      "name": "main.ipynb",
      "provenance": []
    }
  },
  "cells": [
    {
      "cell_type": "code",
      "metadata": {
        "colab": {
          "base_uri": "https://localhost:8080/"
        },
        "id": "lPQ_E9HCa183",
        "outputId": "4dac5213-90b8-4c9c-9249-aa7a5f3569ee"
      },
      "source": [
        "from google.colab import drive\n",
        "drive.mount('/content/drive')"
      ],
      "execution_count": 7,
      "outputs": [
        {
          "output_type": "stream",
          "text": [
            "Drive already mounted at /content/drive; to attempt to forcibly remount, call drive.mount(\"/content/drive\", force_remount=True).\n"
          ],
          "name": "stdout"
        }
      ]
    },
    {
      "cell_type": "code",
      "metadata": {
        "id": "IzTa1bKGEJ9Z",
        "colab": {
          "base_uri": "https://localhost:8080/"
        },
        "outputId": "1e3a46a6-479f-4f1b-cac1-e49e5ec3948c"
      },
      "source": [
        "# -*- coding: utf-8 -*-\n",
        "from sklearn.metrics import f1_score\n",
        "import csv\n",
        "\n",
        "\n",
        "def csv_reader(file_obj):\n",
        "    \"\"\"\n",
        "    Read a csv file\n",
        "    \"\"\"\n",
        "    reader = csv.reader(file_obj)\n",
        "    # next(reader, None)\n",
        "    labels = []\n",
        "    for row in reader:\n",
        "        # print(row)\n",
        "        labels.append(int(row[1]))\n",
        "    return labels\n",
        "\n",
        "\n",
        "def load_data(csv_path):\n",
        "    with open(csv_path, \"r\") as f_obj:\n",
        "        labels = csv_reader(f_obj)\n",
        "\n",
        "    return labels\n",
        "\n",
        "\n",
        "def main():\n",
        "    labels_true = load_data('/content/drive/MyDrive/JN/NN/COVID_detection_picture/data/data_validate.csv')\n",
        "    labels_pred = load_data('/content/drive/MyDrive/JN/NN/COVID_detection_picture/data_decision.csv')\n",
        "#     print(labels_pred)\n",
        "#     print(labels_true)\n",
        "    try:\n",
        "        score = f1_score(labels_true, labels_pred, average=\"weighted\")\n",
        "        print('f1-score:', score)\n",
        "    except Exception as e:\n",
        "        print('Ошибка:', e)\n",
        "\n",
        "    file = open(\"score.txt\", \"w\")\n",
        "    file.write(str(score))\n",
        "    file.close()\n",
        "\n",
        "\n",
        "if __name__ == '__main__':\n",
        "    main()\n"
      ],
      "execution_count": 8,
      "outputs": [
        {
          "output_type": "stream",
          "text": [
            "f1-score: 0.52186699554122\n"
          ],
          "name": "stdout"
        }
      ]
    },
    {
      "cell_type": "code",
      "metadata": {
        "id": "-kO146a3alT4"
      },
      "source": [
        ""
      ],
      "execution_count": 8,
      "outputs": []
    }
  ]
}