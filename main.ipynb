{
 "cells": [
  {
   "cell_type": "code",
   "execution_count": 7,
   "metadata": {
    "colab": {
     "base_uri": "https://localhost:8080/"
    },
    "executionInfo": {
     "elapsed": 799,
     "status": "ok",
     "timestamp": 1613585511144,
     "user": {
      "displayName": "Диана С",
      "photoUrl": "",
      "userId": "10343442678953401424"
     },
     "user_tz": -180
    },
    "id": "lPQ_E9HCa183",
    "outputId": "0c7ea66f-1af5-45b6-fd09-5fe00c3a96b2"
   },
   "outputs": [
    {
     "name": "stdout",
     "output_type": "stream",
     "text": [
      "Drive already mounted at /content/drive; to attempt to forcibly remount, call drive.mount(\"/content/drive\", force_remount=True).\n"
     ]
    }
   ],
   "source": [
    "from google.colab import drive\n",
    "drive.mount('/content/drive')"
   ]
  },
  {
   "cell_type": "code",
   "execution_count": 8,
   "metadata": {
    "colab": {
     "base_uri": "https://localhost:8080/"
    },
    "executionInfo": {
     "elapsed": 1899,
     "status": "ok",
     "timestamp": 1613585512256,
     "user": {
      "displayName": "Диана С",
      "photoUrl": "",
      "userId": "10343442678953401424"
     },
     "user_tz": -180
    },
    "id": "IzTa1bKGEJ9Z",
    "outputId": "0c5262af-a675-45d7-a04c-6e2dc2fd0bf7"
   },
   "outputs": [
    {
     "name": "stdout",
     "output_type": "stream",
     "text": [
      "f1-score: 0.5458110516934046\n"
     ]
    }
   ],
   "source": [
    "# -*- coding: utf-8 -*-\n",
    "from sklearn.metrics import f1_score\n",
    "import csv\n",
    "\n",
    "\n",
    "def csv_reader(file_obj):\n",
    "    \"\"\"\n",
    "    Read a csv file\n",
    "    \"\"\"\n",
    "    reader = csv.reader(file_obj)\n",
    "    # next(reader, None)\n",
    "    labels = []\n",
    "    for row in reader:\n",
    "        # print(row)\n",
    "        labels.append(int(row[1]))\n",
    "    return labels\n",
    "\n",
    "\n",
    "def load_data(csv_path):\n",
    "    with open(csv_path, \"r\") as f_obj:\n",
    "        labels = csv_reader(f_obj)\n",
    "\n",
    "    return labels\n",
    "\n",
    "\n",
    "def main():\n",
    "    labels_true = load_data('/content/drive/MyDrive/JN/NN/COVID_detection_picture/data/data_validate.csv')\n",
    "    labels_pred = load_data('/content/drive/MyDrive/JN/NN/COVID_detection_picture/README/test_mosmed/data_decision.csv')\n",
    "#     print(labels_pred)\n",
    "#     print(labels_true)\n",
    "    try:\n",
    "        score = f1_score(labels_true, labels_pred, average=\"weighted\")\n",
    "        print('f1-score:', score)\n",
    "    except Exception as e:\n",
    "        print('Ошибка:', e)\n",
    "\n",
    "    file = open(\"score.txt\", \"w\")\n",
    "    file.write(str(score))\n",
    "    file.close()\n",
    "\n",
    "\n",
    "if __name__ == '__main__':\n",
    "    main()\n"
   ]
  },
  {
   "cell_type": "code",
   "execution_count": 8,
   "metadata": {
    "executionInfo": {
     "elapsed": 1901,
     "status": "ok",
     "timestamp": 1613585512261,
     "user": {
      "displayName": "Диана С",
      "photoUrl": "",
      "userId": "10343442678953401424"
     },
     "user_tz": -180
    },
    "id": "-kO146a3alT4"
   },
   "outputs": [],
   "source": []
  }
 ],
 "metadata": {
  "anaconda-cloud": {},
  "colab": {
   "name": "main.ipynb",
   "provenance": []
  },
  "kernelspec": {
   "display_name": "Python 3",
   "language": "python",
   "name": "python3"
  },
  "language_info": {
   "codemirror_mode": {
    "name": "ipython",
    "version": 3
   },
   "file_extension": ".py",
   "mimetype": "text/x-python",
   "name": "python",
   "nbconvert_exporter": "python",
   "pygments_lexer": "ipython3",
   "version": "3.7.10"
  },
  "latex_envs": {
   "LaTeX_envs_menu_present": true,
   "autoclose": false,
   "autocomplete": true,
   "bibliofile": "biblio.bib",
   "cite_by": "apalike",
   "current_citInitial": 1,
   "eqLabelWithNumbers": true,
   "eqNumInitial": 1,
   "hotkeys": {
    "equation": "Ctrl-E",
    "itemize": "Ctrl-I"
   },
   "labels_anchors": false,
   "latex_user_defs": false,
   "report_style_numbering": false,
   "user_envs_cfg": false
  }
 },
 "nbformat": 4,
 "nbformat_minor": 4
}
