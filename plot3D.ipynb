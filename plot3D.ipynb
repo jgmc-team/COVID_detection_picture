{
 "cells": [
  {
   "cell_type": "code",
   "execution_count": 1,
   "metadata": {
    "executionInfo": {
     "elapsed": 707,
     "status": "ok",
     "timestamp": 1613412596769,
     "user": {
      "displayName": "Диана С",
      "photoUrl": "",
      "userId": "10343442678953401424"
     },
     "user_tz": -180
    },
    "id": "vHpnmPS6yqi-"
   },
   "outputs": [],
   "source": [
    "### https://stackoverflow.com/questions/56035562/3d-dicom-visualisation-in-python"
   ]
  },
  {
   "cell_type": "code",
   "execution_count": 2,
   "metadata": {
    "executionInfo": {
     "elapsed": 1086,
     "status": "ok",
     "timestamp": 1613412597156,
     "user": {
      "displayName": "Диана С",
      "photoUrl": "",
      "userId": "10343442678953401424"
     },
     "user_tz": -180
    },
    "id": "OwJ1NUZ5hG07"
   },
   "outputs": [],
   "source": [
    "# !pip install imagecodecs\n",
    "# !pip install opencv"
   ]
  },
  {
   "cell_type": "code",
   "execution_count": 3,
   "metadata": {
    "colab": {
     "base_uri": "https://localhost:8080/"
    },
    "executionInfo": {
     "elapsed": 29402,
     "status": "ok",
     "timestamp": 1613412625482,
     "user": {
      "displayName": "Диана С",
      "photoUrl": "",
      "userId": "10343442678953401424"
     },
     "user_tz": -180
    },
    "id": "jZ1Y0UOdhtKm",
    "outputId": "7ba62699-ba42-4371-d82b-ca5ef303d46f"
   },
   "outputs": [
    {
     "name": "stdout",
     "output_type": "stream",
     "text": [
      "Mounted at /content/drive\n"
     ]
    }
   ],
   "source": [
    "from google.colab import drive\n",
    "drive.mount('/content/drive')"
   ]
  },
  {
   "cell_type": "code",
   "execution_count": 4,
   "metadata": {
    "executionInfo": {
     "elapsed": 30862,
     "status": "ok",
     "timestamp": 1613412626946,
     "user": {
      "displayName": "Диана С",
      "photoUrl": "",
      "userId": "10343442678953401424"
     },
     "user_tz": -180
    },
    "id": "LegkXZ2Dxum-"
   },
   "outputs": [],
   "source": [
    "from mpl_toolkits.mplot3d.art3d import Poly3DCollection\n",
    "import matplotlib.pyplot as plt\n",
    "from skimage import measure\n",
    "from scipy import ndimage\n",
    "import nibabel as nib\n",
    "import numpy as np\n",
    "import PIL\n",
    "import cv2\n",
    "import os\n",
    "\n",
    "def plot_3d(image, threshold=-300):\n",
    "    from skimage import io\n",
    "    p = image\n",
    "    # p = image.transpose(2,1,0)\n",
    "    p = ndimage.rotate(p, 180, axes=(1,0))\n",
    "    p = ndimage.zoom(p, (0.5, 0.5, 1), order= 3)\n",
    "    # p = image\n",
    "    verts, faces, normals, values = measure.marching_cubes_lewiner(p, threshold)\n",
    "    fig = plt.figure(figsize=(10, 10))\n",
    "    ax = fig.add_subplot(111, projection='3d')    \n",
    "    mesh = Poly3DCollection(verts[faces], alpha=0.1)\n",
    "    face_color = [0.5, 0.5, 1]\n",
    "    mesh.set_facecolor(face_color)\n",
    "    ax.add_collection3d(mesh)\n",
    "    ax.set_xlim(0, p.shape[0])\n",
    "    ax.set_ylim(0, p.shape[1])\n",
    "    ax.set_zlim(0, p.shape[2])\n",
    "#     plt.show()\n",
    "    plt.savefig('/content/drive/MyDrive/JN/NN/COVID_detection_picture/3Dimages/out_3D.png')\n",
    "    # return fig"
   ]
  },
  {
   "cell_type": "code",
   "execution_count": 5,
   "metadata": {
    "colab": {
     "base_uri": "https://localhost:8080/"
    },
    "executionInfo": {
     "elapsed": 33607,
     "status": "ok",
     "timestamp": 1613412629698,
     "user": {
      "displayName": "Диана С",
      "photoUrl": "",
      "userId": "10343442678953401424"
     },
     "user_tz": -180
    },
    "id": "tKX23txZxyUs",
    "outputId": "3570c4aa-0af4-4cb1-a60a-664e9d50097e"
   },
   "outputs": [
    {
     "name": "stdout",
     "output_type": "stream",
     "text": [
      "<class 'nibabel.nifti1.Nifti1Image'>\n",
      "<class 'numpy.memmap'>\n"
     ]
    },
    {
     "name": "stderr",
     "output_type": "stream",
     "text": [
      "/usr/local/lib/python3.6/dist-packages/ipykernel_launcher.py:4: DeprecationWarning: get_data() is deprecated in favor of get_fdata(), which has a more predictable return type. To obtain get_data() behavior going forward, use numpy.asanyarray(img.dataobj).\n",
      "\n",
      "* deprecated from version: 3.0\n",
      "* Will raise <class 'nibabel.deprecator.ExpiredDeprecationError'> as of version: 5.0\n",
      "  after removing the cwd from sys.path.\n"
     ]
    },
    {
     "data": {
      "text/plain": [
       "((512, 512, 45), numpy.memmap)"
      ]
     },
     "execution_count": 5,
     "metadata": {
      "tags": []
     },
     "output_type": "execute_result"
    }
   ],
   "source": [
    "path_to_image = \"/content/drive/MyDrive/JN/NN/COVID_detection_picture/MRI/sick_nii/sick_7c7160149aec1ebf15b28166f5458c49.nii\"\n",
    "image = nib.load(path_to_image)\n",
    "print(type(image))\n",
    "image = image.get_data()\n",
    "print(type(image))\n",
    "image.shape, type(image)"
   ]
  },
  {
   "cell_type": "code",
   "execution_count": null,
   "metadata": {
    "colab": {
     "base_uri": "https://localhost:8080/"
    },
    "id": "XJXgcTslyn6o",
    "outputId": "b9749f8b-131c-494b-89c9-5fa8b154d22f"
   },
   "outputs": [
    {
     "data": {
      "text/plain": [
       "NoneType"
      ]
     },
     "execution_count": 6,
     "metadata": {
      "tags": []
     },
     "output_type": "execute_result"
    }
   ],
   "source": [
    "image3D = plot_3d(image, threshold=-300)\n",
    "type(image3D)"
   ]
  },
  {
   "cell_type": "code",
   "execution_count": null,
   "metadata": {
    "id": "-G49M5q43KOS"
   },
   "outputs": [],
   "source": [
    "# plt.rcParams[\"figure.figsize\"] = (9,9)\n",
    "\n",
    "number_of_row = 9\n",
    "number_of_cell = 5\n",
    "# fig_heights = [slc[0].shape[0] for slc in image]\n",
    "# fig_widths = [slc.shape[1] for slc in image.shape[1]]\n",
    "fig_with = 8\n",
    "fig_height = fig_with * number_of_cell / number_of_row \n",
    "fig, ax = plt.subplots(number_of_cell, number_of_row, constrained_layout=False, figsize=(fig_with, fig_height))\n",
    "\n",
    "fig.canvas.set_window_title('SICK PATIENT = 4D Nifti Image')\n",
    "#-------------------------------------------------------------------------------\n",
    "mng = plt.get_current_fig_manager();\n",
    "mng.full_screen_toggle();\n",
    "for idx, slice in enumerate(range(0, number_of_cell * number_of_row, number_of_row)):\n",
    "    for frame in range(number_of_row):\n",
    "        # if your data in 4D, otherwise remove this loop\n",
    "        ax[idx, frame].imshow(image[:,:, frame + slice], cmap='gray', interpolation=None)\n",
    "        ax[idx, frame].set_title(f\"slice {frame + slice}\", )\n",
    "        ax[idx, frame].axis('off')\n",
    "plt.subplots_adjust(wspace=0, hspace = number_of_cell / 10, left=0, right=1, bottom=0, top=1)\n",
    "fig.suptitle(x=0.5, y=1.2, t=f'4D_Nifti {number_of_cell * number_of_row} slices 45 time Frames', fontsize=12)\n",
    "\n",
    "plt.show() "
   ]
  },
  {
   "cell_type": "code",
   "execution_count": null,
   "metadata": {
    "id": "2UuG-erShG1A"
   },
   "outputs": [],
   "source": []
  }
 ],
 "metadata": {
  "colab": {
   "collapsed_sections": [],
   "name": "plot3D.ipynb",
   "provenance": []
  },
  "kernelspec": {
   "display_name": "Python 3",
   "language": "python",
   "name": "python3"
  },
  "language_info": {
   "codemirror_mode": {
    "name": "ipython",
    "version": 3
   },
   "file_extension": ".py",
   "mimetype": "text/x-python",
   "name": "python",
   "nbconvert_exporter": "python",
   "pygments_lexer": "ipython3",
   "version": "3.8.5"
  },
  "latex_envs": {
   "LaTeX_envs_menu_present": true,
   "autoclose": false,
   "autocomplete": true,
   "bibliofile": "biblio.bib",
   "cite_by": "apalike",
   "current_citInitial": 1,
   "eqLabelWithNumbers": true,
   "eqNumInitial": 1,
   "hotkeys": {
    "equation": "Ctrl-E",
    "itemize": "Ctrl-I"
   },
   "labels_anchors": false,
   "latex_user_defs": false,
   "report_style_numbering": false,
   "user_envs_cfg": false
  }
 },
 "nbformat": 4,
 "nbformat_minor": 4
}
