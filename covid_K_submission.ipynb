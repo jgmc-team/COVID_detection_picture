{
  "nbformat": 4,
  "nbformat_minor": 0,
  "metadata": {
    "colab": {
      "name": "covid_K_submission.ipynb",
      "provenance": [],
      "collapsed_sections": []
    },
    "kernelspec": {
      "display_name": "Python 3",
      "language": "python",
      "name": "python3"
    },
    "language_info": {
      "codemirror_mode": {
        "name": "ipython",
        "version": 3
      },
      "file_extension": ".py",
      "mimetype": "text/x-python",
      "name": "python",
      "nbconvert_exporter": "python",
      "pygments_lexer": "ipython3",
      "version": "3.7.6"
    },
    "latex_envs": {
      "LaTeX_envs_menu_present": true,
      "autoclose": false,
      "autocomplete": true,
      "bibliofile": "biblio.bib",
      "cite_by": "apalike",
      "current_citInitial": 1,
      "eqLabelWithNumbers": true,
      "eqNumInitial": 1,
      "hotkeys": {
        "equation": "Ctrl-E",
        "itemize": "Ctrl-I"
      },
      "labels_anchors": false,
      "latex_user_defs": false,
      "report_style_numbering": false,
      "user_envs_cfg": false
    }
  },
  "cells": [
    {
      "cell_type": "code",
      "metadata": {
        "id": "5imFZ-jPk5sx"
      },
      "source": [
        "import os\n",
        "import gzip\n",
        "import numba\n",
        "import zipfile\n",
        "\n",
        "import nibabel as nib\n",
        "from scipy import ndimage\n",
        "import scipy.special as sc\n",
        "\n",
        "import numpy as np\n",
        "from numba import jit\n",
        "from numba import njit\n",
        "import threading as tr\n",
        "\n",
        "import tensorflow as tf\n",
        "from tensorflow import keras\n",
        "from tensorflow.keras import layers\n",
        "import matplotlib.pyplot as plt\n",
        "\n",
        "import pandas as pd\n",
        "import datetime as dt\n",
        "### numba warrnings ###########\n",
        "from numba import NumbaDeprecationWarning, NumbaPendingDeprecationWarning\n",
        "import warnings\n",
        "\n",
        "warnings.simplefilter('ignore', category=NumbaDeprecationWarning)\n",
        "warnings.simplefilter('ignore', category=NumbaPendingDeprecationWarning)"
      ],
      "execution_count": 41,
      "outputs": []
    },
    {
      "cell_type": "code",
      "metadata": {
        "id": "xDC_IhsQlAa-"
      },
      "source": [
        ""
      ],
      "execution_count": 41,
      "outputs": []
    },
    {
      "cell_type": "code",
      "metadata": {
        "colab": {
          "base_uri": "https://localhost:8080/"
        },
        "id": "ANl6EyaElA1U",
        "outputId": "5d977c69-e778-4390-b248-e2fea7f1f941"
      },
      "source": [
        "from google.colab import drive\n",
        "drive.mount('/content/drive')"
      ],
      "execution_count": 42,
      "outputs": [
        {
          "output_type": "stream",
          "text": [
            "Drive already mounted at /content/drive; to attempt to forcibly remount, call drive.mount(\"/content/drive\", force_remount=True).\n"
          ],
          "name": "stdout"
        }
      ]
    },
    {
      "cell_type": "code",
      "metadata": {
        "id": "y6IcyxoIxqxU"
      },
      "source": [
        "df_decision = pd.read_csv(\"/content/drive/MyDrive/JN/NN/COVID_detection_picture/data/new_data_decision.csv\", header = None)\n",
        "df_validation = pd.read_csv(\"/content/drive/MyDrive/JN/NN/COVID_detection_picture/data/data_validate.csv\", header = None)"
      ],
      "execution_count": 43,
      "outputs": []
    },
    {
      "cell_type": "code",
      "metadata": {
        "colab": {
          "base_uri": "https://localhost:8080/",
          "height": 204
        },
        "id": "JE6v7Zv6xqxW",
        "outputId": "17538c6a-67ec-4199-a3f7-fafb8f5bc672"
      },
      "source": [
        "df_validation.head()"
      ],
      "execution_count": 44,
      "outputs": [
        {
          "output_type": "execute_result",
          "data": {
            "text/html": [
              "<div>\n",
              "<style scoped>\n",
              "    .dataframe tbody tr th:only-of-type {\n",
              "        vertical-align: middle;\n",
              "    }\n",
              "\n",
              "    .dataframe tbody tr th {\n",
              "        vertical-align: top;\n",
              "    }\n",
              "\n",
              "    .dataframe thead th {\n",
              "        text-align: right;\n",
              "    }\n",
              "</style>\n",
              "<table border=\"1\" class=\"dataframe\">\n",
              "  <thead>\n",
              "    <tr style=\"text-align: right;\">\n",
              "      <th></th>\n",
              "      <th>0</th>\n",
              "      <th>1</th>\n",
              "    </tr>\n",
              "  </thead>\n",
              "  <tbody>\n",
              "    <tr>\n",
              "      <th>0</th>\n",
              "      <td>0d2c2e2355ef003b59db4af6cae2bf07</td>\n",
              "      <td>0</td>\n",
              "    </tr>\n",
              "    <tr>\n",
              "      <th>1</th>\n",
              "      <td>7a3066790cf024972d51480e095e976c</td>\n",
              "      <td>0</td>\n",
              "    </tr>\n",
              "    <tr>\n",
              "      <th>2</th>\n",
              "      <td>6ff9db5460fd6d2d050f77ee2976fdca</td>\n",
              "      <td>0</td>\n",
              "    </tr>\n",
              "    <tr>\n",
              "      <th>3</th>\n",
              "      <td>3b070df8068fc42b35b32257d664c369</td>\n",
              "      <td>0</td>\n",
              "    </tr>\n",
              "    <tr>\n",
              "      <th>4</th>\n",
              "      <td>7bc7e3ba48fe95a901481d3dc294bddc</td>\n",
              "      <td>0</td>\n",
              "    </tr>\n",
              "  </tbody>\n",
              "</table>\n",
              "</div>"
            ],
            "text/plain": [
              "                                  0  1\n",
              "0  0d2c2e2355ef003b59db4af6cae2bf07  0\n",
              "1  7a3066790cf024972d51480e095e976c  0\n",
              "2  6ff9db5460fd6d2d050f77ee2976fdca  0\n",
              "3  3b070df8068fc42b35b32257d664c369  0\n",
              "4  7bc7e3ba48fe95a901481d3dc294bddc  0"
            ]
          },
          "metadata": {
            "tags": []
          },
          "execution_count": 44
        }
      ]
    },
    {
      "cell_type": "code",
      "metadata": {
        "colab": {
          "base_uri": "https://localhost:8080/",
          "height": 204
        },
        "id": "mpNMjoM9xqxY",
        "outputId": "233678c5-9435-4246-c1cc-297b517be949"
      },
      "source": [
        "df_decision.head()"
      ],
      "execution_count": 45,
      "outputs": [
        {
          "output_type": "execute_result",
          "data": {
            "text/html": [
              "<div>\n",
              "<style scoped>\n",
              "    .dataframe tbody tr th:only-of-type {\n",
              "        vertical-align: middle;\n",
              "    }\n",
              "\n",
              "    .dataframe tbody tr th {\n",
              "        vertical-align: top;\n",
              "    }\n",
              "\n",
              "    .dataframe thead th {\n",
              "        text-align: right;\n",
              "    }\n",
              "</style>\n",
              "<table border=\"1\" class=\"dataframe\">\n",
              "  <thead>\n",
              "    <tr style=\"text-align: right;\">\n",
              "      <th></th>\n",
              "      <th>0</th>\n",
              "      <th>1</th>\n",
              "    </tr>\n",
              "  </thead>\n",
              "  <tbody>\n",
              "    <tr>\n",
              "      <th>0</th>\n",
              "      <td>55c0543ab410f3c3ce6687ebebad1821</td>\n",
              "      <td>1</td>\n",
              "    </tr>\n",
              "    <tr>\n",
              "      <th>1</th>\n",
              "      <td>2d5125b195fd987966f09441a207a61d</td>\n",
              "      <td>1</td>\n",
              "    </tr>\n",
              "    <tr>\n",
              "      <th>2</th>\n",
              "      <td>6f10da723511d7bf513878652ed07f4d</td>\n",
              "      <td>1</td>\n",
              "    </tr>\n",
              "    <tr>\n",
              "      <th>3</th>\n",
              "      <td>0f142314b332ce9efb8df615f5482df3</td>\n",
              "      <td>1</td>\n",
              "    </tr>\n",
              "    <tr>\n",
              "      <th>4</th>\n",
              "      <td>afc895f528c791d932ff0c2cfbd5ff21</td>\n",
              "      <td>1</td>\n",
              "    </tr>\n",
              "  </tbody>\n",
              "</table>\n",
              "</div>"
            ],
            "text/plain": [
              "                                  0  1\n",
              "0  55c0543ab410f3c3ce6687ebebad1821  1\n",
              "1  2d5125b195fd987966f09441a207a61d  1\n",
              "2  6f10da723511d7bf513878652ed07f4d  1\n",
              "3  0f142314b332ce9efb8df615f5482df3  1\n",
              "4  afc895f528c791d932ff0c2cfbd5ff21  1"
            ]
          },
          "metadata": {
            "tags": []
          },
          "execution_count": 45
        }
      ]
    },
    {
      "cell_type": "code",
      "metadata": {
        "id": "vo6KQLS8xqxd"
      },
      "source": [
        "t_start = dt.datetime.now()"
      ],
      "execution_count": 46,
      "outputs": []
    },
    {
      "cell_type": "code",
      "metadata": {
        "id": "IYv49S5Zs2mB"
      },
      "source": [
        "import traceback\n",
        "import contextlib\n",
        "\n",
        "# Some helper code to demonstrate the kinds of errors you might encounter.\n",
        "@contextlib.contextmanager\n",
        "def assert_raises(error_class):\n",
        "    try:\n",
        "        yield\n",
        "    except error_class as e:\n",
        "        print('Caught expected exception \\n  {}:'.format(error_class))\n",
        "        traceback.print_exc(limit=2)\n",
        "    except Exception as e:\n",
        "        raise e\n",
        "    else:\n",
        "        raise Exception('Expected {} to be raised but no error was raised!'.format(error_class))"
      ],
      "execution_count": 47,
      "outputs": []
    },
    {
      "cell_type": "code",
      "metadata": {
        "id": "wiZqxDaXlAJ4"
      },
      "source": [
        "# # Build model.\n",
        "# @tf.function(input_signature=(tf.TensorSpec(shape=[None], dtype=tf.int32),))\n",
        "def create_model_():\n",
        "#     model = get_model_8L_(width=128, height=128, depth = 64)\n",
        "    # Loads the weights\n",
        "#     loaded_model = keras.models.load_model('/content/drive/MyDrive/JN/NN/COVID_detection_picture/Keras/model/model_ex-083_acc-0_951409.h5')\n",
        "    #loaded_model = keras.models.load_model('/content/drive/MyDrive/JN/NN/COVID_detection_picture/Keras/model/model_keras_5L.h5')\n",
        "     loaded_model = keras.models.load_model('/content/drive/MyDrive/JN/NN/COVID_detection_picture/Keras/model/model_keras_F1_0819.h5')\n",
        "    # model.load_weights(checkpoint_path)\n",
        "     return loaded_model\n",
        "    # model.summary()\n",
        "loaded_model = create_model_()"
      ],
      "execution_count": 48,
      "outputs": []
    },
    {
      "cell_type": "code",
      "metadata": {
        "id": "d5NnZaRFlEwU"
      },
      "source": [
        "def read_nifti_file(filepath):\n",
        "    \"\"\"Read and load volume\"\"\"\n",
        "    # Read file\n",
        "    scan = nib.load(filepath)\n",
        "    # Get raw data\n",
        "    scan = scan.get_fdata()\n",
        "    return scan\n",
        "def normalize(volume):\n",
        "    \"\"\"Normalize the volume\"\"\"\n",
        "    min = -1000\n",
        "    max = 400\n",
        "    volume[volume < min] = min\n",
        "    volume[volume > max] = max\n",
        "    volume = (volume - min) / (max - min)\n",
        "    volume = volume.astype(\"float32\")\n",
        "    return volume\n",
        "\n",
        "# from numba import ndimage\n",
        "\n",
        "# @jit(parallel=True, cache=True, )\n",
        "def resize_volume(img):\n",
        "    \"\"\"Resize across z-axis\"\"\"\n",
        "    # Set the desired depth\n",
        "    # desired_depth = 64 #old\n",
        "    desired_depth = 64\n",
        "    desired_width = 128\n",
        "    desired_height = 128\n",
        "    # Get current depth\n",
        "    current_depth = img.shape[-1]\n",
        "    current_width = img.shape[0]\n",
        "    current_height = img.shape[1]\n",
        "    # Compute depth factor\n",
        "    depth = current_depth / desired_depth\n",
        "    width = current_width / desired_width\n",
        "    height = current_height / desired_height\n",
        "    depth_factor = 1 / depth\n",
        "    width_factor = 1 / width\n",
        "    height_factor = 1 / height\n",
        "    # Rotate\n",
        "    # img = ndimage.rotate(img, 90, reshape=False)\n",
        "    img = np.rot90(img)\n",
        "    # Resize across z-axis\n",
        "    img = ndimage.zoom(img, (width_factor, height_factor, depth_factor), order=1)\n",
        "    return img\n",
        "\n",
        "\n",
        "def process_scan(path):\n",
        "    \"\"\"Read and resize volume\"\"\"\n",
        "    # Read scan\n",
        "    volume = read_nifti_file(path)\n",
        "    # Normalize\n",
        "    volume = normalize(volume)\n",
        "    # Resize width, height and depth\n",
        "    volume = resize_volume(volume)\n",
        "    return volume\n",
        "### TESTING BLOCK #####################\n",
        "# test_image = process_scan(test_image)\n",
        "# test_image.shape\n",
        "######################################"
      ],
      "execution_count": 49,
      "outputs": []
    },
    {
      "cell_type": "code",
      "metadata": {
        "id": "ENa-SYYlxqxk"
      },
      "source": [
        "image = process_scan(\"/content/drive/MyDrive/JN/NN/COVID_detection_picture/MRI/healthy_2dfd2d7087aaee9777bf6ea42de958dc.nii\")"
      ],
      "execution_count": 50,
      "outputs": []
    },
    {
      "cell_type": "code",
      "metadata": {
        "colab": {
          "base_uri": "https://localhost:8080/"
        },
        "id": "QxBtlJ1Yxqxl",
        "outputId": "6ad04be9-f4e3-408a-807a-600a63a14d5b"
      },
      "source": [
        "loaded_model.predict(np.expand_dims(image, axis=0))"
      ],
      "execution_count": 51,
      "outputs": [
        {
          "output_type": "execute_result",
          "data": {
            "text/plain": [
              "array([[0.40984482]], dtype=float32)"
            ]
          },
          "metadata": {
            "tags": []
          },
          "execution_count": 51
        }
      ]
    },
    {
      "cell_type": "code",
      "metadata": {
        "id": "d-bN1BlAxqxm"
      },
      "source": [
        "image = process_scan(\"/content/drive/MyDrive/JN/NN/COVID_detection_picture/MRI/sick_7c983eabf45915f3e7e9cae2aa9a5569.nii\")"
      ],
      "execution_count": 52,
      "outputs": []
    },
    {
      "cell_type": "code",
      "metadata": {
        "colab": {
          "base_uri": "https://localhost:8080/"
        },
        "id": "pEi-LF8nxqxm",
        "outputId": "c48403fe-630b-40ac-9dcd-174ee088362a"
      },
      "source": [
        "loaded_model.predict(np.expand_dims(image, axis=0))"
      ],
      "execution_count": 53,
      "outputs": [
        {
          "output_type": "execute_result",
          "data": {
            "text/plain": [
              "array([[0.68781924]], dtype=float32)"
            ]
          },
          "metadata": {
            "tags": []
          },
          "execution_count": 53
        }
      ]
    },
    {
      "cell_type": "code",
      "metadata": {
        "id": "8SyAwDHnlJT7"
      },
      "source": [
        "def main(path):\n",
        "    label_image = ['normal', 'abnormal']\n",
        "    image = process_scan(path)\n",
        "    prediction = loaded_model.predict(np.expand_dims(image, axis=0))[0];\n",
        "    scores = [1 - prediction[0], prediction[0]]\n",
        "    class_names = [\"normal\", \"abnormal\"]\n",
        "    for score, name in zip(scores, class_names):\n",
        "        print(f\"This model is {100 * score:.2f} percent confident that CT scan is {name}\")\n",
        "    if scores[0] > scores[1]:\n",
        "        return [\"0\", str(scores[0])]\n",
        "    else:\n",
        "        return [\"1\", str(scores[1])]"
      ],
      "execution_count": 54,
      "outputs": []
    },
    {
      "cell_type": "code",
      "metadata": {
        "colab": {
          "base_uri": "https://localhost:8080/"
        },
        "id": "D1nYCrsmxqxv",
        "outputId": "b997a50a-d0c3-4f5b-d39e-e88ec07d3231"
      },
      "source": [
        "main(\"/content/drive/MyDrive/JN/NN/COVID_detection_picture/MRI/healthy_2dfd2d7087aaee9777bf6ea42de958dc.nii\")"
      ],
      "execution_count": 55,
      "outputs": [
        {
          "output_type": "stream",
          "text": [
            "This model is 59.02 percent confident that CT scan is normal\n",
            "This model is 40.98 percent confident that CT scan is abnormal\n"
          ],
          "name": "stdout"
        },
        {
          "output_type": "execute_result",
          "data": {
            "text/plain": [
              "['0', '0.5901551842689514']"
            ]
          },
          "metadata": {
            "tags": []
          },
          "execution_count": 55
        }
      ]
    },
    {
      "cell_type": "code",
      "metadata": {
        "colab": {
          "base_uri": "https://localhost:8080/"
        },
        "id": "yqzMVqdDxqyP",
        "outputId": "15f32c2c-0d77-46c3-c3d3-7ade7ddededd"
      },
      "source": [
        "main(\"/content/drive/MyDrive/JN/NN/COVID_detection_picture/MRI/sick_7c983eabf45915f3e7e9cae2aa9a5569.nii\")"
      ],
      "execution_count": 56,
      "outputs": [
        {
          "output_type": "stream",
          "text": [
            "This model is 31.22 percent confident that CT scan is normal\n",
            "This model is 68.78 percent confident that CT scan is abnormal\n"
          ],
          "name": "stdout"
        },
        {
          "output_type": "execute_result",
          "data": {
            "text/plain": [
              "['1', '0.68781924']"
            ]
          },
          "metadata": {
            "tags": []
          },
          "execution_count": 56
        }
      ]
    },
    {
      "cell_type": "code",
      "metadata": {
        "colab": {
          "base_uri": "https://localhost:8080/",
          "height": 35
        },
        "id": "NK8rkjKdpEgZ",
        "outputId": "50bb9cd6-7212-486e-85aa-7ca538167e7d"
      },
      "source": [
        "\n",
        "path = \"/content/drive/MyDrive/JN/NN/COVID_detection_picture/README/test_mosmed/\"\n",
        "path"
      ],
      "execution_count": 57,
      "outputs": [
        {
          "output_type": "execute_result",
          "data": {
            "application/vnd.google.colaboratory.intrinsic+json": {
              "type": "string"
            },
            "text/plain": [
              "'/content/drive/MyDrive/JN/NN/COVID_detection_picture/README/test_mosmed/'"
            ]
          },
          "metadata": {
            "tags": []
          },
          "execution_count": 57
        }
      ]
    },
    {
      "cell_type": "code",
      "metadata": {
        "colab": {
          "base_uri": "https://localhost:8080/"
        },
        "id": "rR0_CLGixqyV",
        "outputId": "099d4edd-9505-4677-a3cd-e40cae3f44aa"
      },
      "source": [
        "len(os.listdir(path))"
      ],
      "execution_count": 58,
      "outputs": [
        {
          "output_type": "execute_result",
          "data": {
            "text/plain": [
              "420"
            ]
          },
          "metadata": {
            "tags": []
          },
          "execution_count": 58
        }
      ]
    },
    {
      "cell_type": "code",
      "metadata": {
        "id": "-_7BS9i_xqyV",
        "colab": {
          "base_uri": "https://localhost:8080/"
        },
        "outputId": "ec5ce1cc-e795-46d4-eba2-ed5c27250047"
      },
      "source": [
        "# ### создаем энкодер для файлов gzip\n",
        "def encoder_gzip2nii_(path, output_path = None):\n",
        "#     global PROJECT_DIR\n",
        "    os.chdir(path)\n",
        "    for item in os.listdir(path):\n",
        "        # print(item)\n",
        "        if (item.find('.')) > 0:\n",
        "            # print(str(item.find('.')))\n",
        "            continue\n",
        "        else:\n",
        "            if item.endswith(\".gzip\"):\n",
        "                print('Dot not find, GZIP find')\n",
        "                input = gzip.GzipFile(item)\n",
        "                # print(item)\n",
        "                data = input.read()\n",
        "                input.close()\n",
        "            elif item.endswith(\".zip\"):\n",
        "                print('Dot not find, ZIP find')\n",
        "                input = zipfile.ZipFile.extract(item)\n",
        "                # print(item)\n",
        "                data = input.read()\n",
        "                input.close()\n",
        "            elif item.endswith(\"\") and (item.find('.') == -1):\n",
        "                print('Dot not find, GZIP find')\n",
        "                input = gzip.GzipFile(item)\n",
        "                # print(item)\n",
        "                data = input.read()\n",
        "                input.close()\n",
        "            file_output = path + item + \".nii\"\n",
        "            output = open(file_output, 'wb')\n",
        "            output.write(data)\n",
        "            output.close()\n",
        "            os.remove(item)\n",
        "encoder_gzip2nii_(path)"
      ],
      "execution_count": 59,
      "outputs": [
        {
          "output_type": "stream",
          "text": [
            "Dot not find, GZIP find\n",
            "Dot not find, GZIP find\n",
            "Dot not find, GZIP find\n",
            "Dot not find, GZIP find\n",
            "Dot not find, GZIP find\n",
            "Dot not find, GZIP find\n",
            "Dot not find, GZIP find\n",
            "Dot not find, GZIP find\n",
            "Dot not find, GZIP find\n",
            "Dot not find, GZIP find\n",
            "Dot not find, GZIP find\n",
            "Dot not find, GZIP find\n",
            "Dot not find, GZIP find\n",
            "Dot not find, GZIP find\n",
            "Dot not find, GZIP find\n",
            "Dot not find, GZIP find\n",
            "Dot not find, GZIP find\n",
            "Dot not find, GZIP find\n",
            "Dot not find, GZIP find\n",
            "Dot not find, GZIP find\n",
            "Dot not find, GZIP find\n",
            "Dot not find, GZIP find\n",
            "Dot not find, GZIP find\n",
            "Dot not find, GZIP find\n",
            "Dot not find, GZIP find\n",
            "Dot not find, GZIP find\n",
            "Dot not find, GZIP find\n",
            "Dot not find, GZIP find\n",
            "Dot not find, GZIP find\n",
            "Dot not find, GZIP find\n",
            "Dot not find, GZIP find\n",
            "Dot not find, GZIP find\n",
            "Dot not find, GZIP find\n",
            "Dot not find, GZIP find\n",
            "Dot not find, GZIP find\n",
            "Dot not find, GZIP find\n",
            "Dot not find, GZIP find\n",
            "Dot not find, GZIP find\n",
            "Dot not find, GZIP find\n",
            "Dot not find, GZIP find\n",
            "Dot not find, GZIP find\n",
            "Dot not find, GZIP find\n",
            "Dot not find, GZIP find\n",
            "Dot not find, GZIP find\n",
            "Dot not find, GZIP find\n",
            "Dot not find, GZIP find\n",
            "Dot not find, GZIP find\n",
            "Dot not find, GZIP find\n",
            "Dot not find, GZIP find\n",
            "Dot not find, GZIP find\n",
            "Dot not find, GZIP find\n",
            "Dot not find, GZIP find\n",
            "Dot not find, GZIP find\n",
            "Dot not find, GZIP find\n",
            "Dot not find, GZIP find\n",
            "Dot not find, GZIP find\n",
            "Dot not find, GZIP find\n",
            "Dot not find, GZIP find\n",
            "Dot not find, GZIP find\n",
            "Dot not find, GZIP find\n",
            "Dot not find, GZIP find\n",
            "Dot not find, GZIP find\n",
            "Dot not find, GZIP find\n",
            "Dot not find, GZIP find\n",
            "Dot not find, GZIP find\n",
            "Dot not find, GZIP find\n",
            "Dot not find, GZIP find\n",
            "Dot not find, GZIP find\n",
            "Dot not find, GZIP find\n",
            "Dot not find, GZIP find\n",
            "Dot not find, GZIP find\n",
            "Dot not find, GZIP find\n",
            "Dot not find, GZIP find\n",
            "Dot not find, GZIP find\n",
            "Dot not find, GZIP find\n",
            "Dot not find, GZIP find\n",
            "Dot not find, GZIP find\n",
            "Dot not find, GZIP find\n",
            "Dot not find, GZIP find\n",
            "Dot not find, GZIP find\n",
            "Dot not find, GZIP find\n",
            "Dot not find, GZIP find\n",
            "Dot not find, GZIP find\n",
            "Dot not find, GZIP find\n",
            "Dot not find, GZIP find\n",
            "Dot not find, GZIP find\n",
            "Dot not find, GZIP find\n",
            "Dot not find, GZIP find\n",
            "Dot not find, GZIP find\n",
            "Dot not find, GZIP find\n",
            "Dot not find, GZIP find\n",
            "Dot not find, GZIP find\n",
            "Dot not find, GZIP find\n",
            "Dot not find, GZIP find\n",
            "Dot not find, GZIP find\n",
            "Dot not find, GZIP find\n",
            "Dot not find, GZIP find\n",
            "Dot not find, GZIP find\n",
            "Dot not find, GZIP find\n",
            "Dot not find, GZIP find\n",
            "Dot not find, GZIP find\n",
            "Dot not find, GZIP find\n",
            "Dot not find, GZIP find\n",
            "Dot not find, GZIP find\n",
            "Dot not find, GZIP find\n",
            "Dot not find, GZIP find\n",
            "Dot not find, GZIP find\n",
            "Dot not find, GZIP find\n",
            "Dot not find, GZIP find\n",
            "Dot not find, GZIP find\n",
            "Dot not find, GZIP find\n",
            "Dot not find, GZIP find\n",
            "Dot not find, GZIP find\n",
            "Dot not find, GZIP find\n",
            "Dot not find, GZIP find\n",
            "Dot not find, GZIP find\n",
            "Dot not find, GZIP find\n",
            "Dot not find, GZIP find\n",
            "Dot not find, GZIP find\n",
            "Dot not find, GZIP find\n",
            "Dot not find, GZIP find\n",
            "Dot not find, GZIP find\n",
            "Dot not find, GZIP find\n",
            "Dot not find, GZIP find\n",
            "Dot not find, GZIP find\n",
            "Dot not find, GZIP find\n",
            "Dot not find, GZIP find\n",
            "Dot not find, GZIP find\n",
            "Dot not find, GZIP find\n",
            "Dot not find, GZIP find\n",
            "Dot not find, GZIP find\n",
            "Dot not find, GZIP find\n",
            "Dot not find, GZIP find\n",
            "Dot not find, GZIP find\n",
            "Dot not find, GZIP find\n",
            "Dot not find, GZIP find\n",
            "Dot not find, GZIP find\n",
            "Dot not find, GZIP find\n",
            "Dot not find, GZIP find\n",
            "Dot not find, GZIP find\n",
            "Dot not find, GZIP find\n",
            "Dot not find, GZIP find\n",
            "Dot not find, GZIP find\n",
            "Dot not find, GZIP find\n",
            "Dot not find, GZIP find\n",
            "Dot not find, GZIP find\n",
            "Dot not find, GZIP find\n",
            "Dot not find, GZIP find\n",
            "Dot not find, GZIP find\n",
            "Dot not find, GZIP find\n",
            "Dot not find, GZIP find\n",
            "Dot not find, GZIP find\n",
            "Dot not find, GZIP find\n",
            "Dot not find, GZIP find\n",
            "Dot not find, GZIP find\n",
            "Dot not find, GZIP find\n",
            "Dot not find, GZIP find\n",
            "Dot not find, GZIP find\n",
            "Dot not find, GZIP find\n",
            "Dot not find, GZIP find\n",
            "Dot not find, GZIP find\n",
            "Dot not find, GZIP find\n",
            "Dot not find, GZIP find\n",
            "Dot not find, GZIP find\n",
            "Dot not find, GZIP find\n",
            "Dot not find, GZIP find\n",
            "Dot not find, GZIP find\n",
            "Dot not find, GZIP find\n",
            "Dot not find, GZIP find\n",
            "Dot not find, GZIP find\n",
            "Dot not find, GZIP find\n",
            "Dot not find, GZIP find\n",
            "Dot not find, GZIP find\n",
            "Dot not find, GZIP find\n",
            "Dot not find, GZIP find\n",
            "Dot not find, GZIP find\n",
            "Dot not find, GZIP find\n",
            "Dot not find, GZIP find\n",
            "Dot not find, GZIP find\n",
            "Dot not find, GZIP find\n",
            "Dot not find, GZIP find\n",
            "Dot not find, GZIP find\n",
            "Dot not find, GZIP find\n",
            "Dot not find, GZIP find\n",
            "Dot not find, GZIP find\n",
            "Dot not find, GZIP find\n",
            "Dot not find, GZIP find\n",
            "Dot not find, GZIP find\n",
            "Dot not find, GZIP find\n",
            "Dot not find, GZIP find\n",
            "Dot not find, GZIP find\n",
            "Dot not find, GZIP find\n",
            "Dot not find, GZIP find\n",
            "Dot not find, GZIP find\n",
            "Dot not find, GZIP find\n",
            "Dot not find, GZIP find\n",
            "Dot not find, GZIP find\n",
            "Dot not find, GZIP find\n",
            "Dot not find, GZIP find\n",
            "Dot not find, GZIP find\n",
            "Dot not find, GZIP find\n",
            "Dot not find, GZIP find\n",
            "Dot not find, GZIP find\n",
            "Dot not find, GZIP find\n",
            "Dot not find, GZIP find\n",
            "Dot not find, GZIP find\n",
            "Dot not find, GZIP find\n",
            "Dot not find, GZIP find\n",
            "Dot not find, GZIP find\n",
            "Dot not find, GZIP find\n"
          ],
          "name": "stdout"
        }
      ]
    },
    {
      "cell_type": "code",
      "metadata": {
        "id": "BpYX_UZroYbQ"
      },
      "source": [
        ""
      ],
      "execution_count": 59,
      "outputs": []
    },
    {
      "cell_type": "code",
      "metadata": {
        "colab": {
          "base_uri": "https://localhost:8080/",
          "height": 1000
        },
        "id": "Yi3QCo5klNaY",
        "outputId": "07b551c3-1f55-457a-821f-76b3bd866015"
      },
      "source": [
        "### TEST MODEL # AFTER TESTING COMMENT THIS BLOCK ###\n",
        "# print(os.getcwd()) # check path to project folder\n",
        "# path = \"/C:/Users/Admin/Documents/COVID_detection_picture/MRI/\" # full path to image.nii \n",
        "# path = os.getcwd() + \"/MRI/sick_7ff18f5d3de11b9ae7a9e5d651313fbd.nii\" # check classification\n",
        "# print(path) # check full path to image .nii\n",
        "data_decision = pd.DataFrame([], columns = [])\n",
        "for idx, item in enumerate(os.listdir(path)):\n",
        "    if idx <= 500:\n",
        "#         print(idx)\n",
        "#         print()\n",
        "        clf = main(path + item)\n",
        "#         print(item.split(\".\")[:-1], clf)\n",
        "        data_decision = data_decision.append({\"0\" : str(item.split(\".\")[:-1]).strip(\"[' ']\"), \"1\" : clf[0]}, ignore_index = True)\n",
        "#         data_decision.loc[str(item.split(\".\")[:-1]).strip(\"[' ']\")] = clf[0]\n",
        "#         data_decision.loc[idx] = [[str(item.split(\".\")[:-1]).strip(\"[' ']\")], clf[0]]\n",
        "#         print()\n",
        "####################################################\n",
        "data_decision.head()"
      ],
      "execution_count": 60,
      "outputs": [
        {
          "output_type": "stream",
          "text": [
            "This model is 32.61 percent confident that CT scan is normal\n",
            "This model is 67.39 percent confident that CT scan is abnormal\n",
            "This model is 68.18 percent confident that CT scan is normal\n",
            "This model is 31.82 percent confident that CT scan is abnormal\n",
            "This model is 62.38 percent confident that CT scan is normal\n",
            "This model is 37.62 percent confident that CT scan is abnormal\n",
            "This model is 75.50 percent confident that CT scan is normal\n",
            "This model is 24.50 percent confident that CT scan is abnormal\n",
            "This model is 51.72 percent confident that CT scan is normal\n",
            "This model is 48.28 percent confident that CT scan is abnormal\n",
            "This model is 80.53 percent confident that CT scan is normal\n",
            "This model is 19.47 percent confident that CT scan is abnormal\n",
            "This model is 84.14 percent confident that CT scan is normal\n",
            "This model is 15.86 percent confident that CT scan is abnormal\n",
            "This model is 96.13 percent confident that CT scan is normal\n",
            "This model is 3.87 percent confident that CT scan is abnormal\n",
            "This model is 60.65 percent confident that CT scan is normal\n",
            "This model is 39.35 percent confident that CT scan is abnormal\n",
            "This model is 40.11 percent confident that CT scan is normal\n",
            "This model is 59.89 percent confident that CT scan is abnormal\n",
            "This model is 47.13 percent confident that CT scan is normal\n",
            "This model is 52.87 percent confident that CT scan is abnormal\n",
            "This model is 83.31 percent confident that CT scan is normal\n",
            "This model is 16.69 percent confident that CT scan is abnormal\n",
            "This model is 84.97 percent confident that CT scan is normal\n",
            "This model is 15.03 percent confident that CT scan is abnormal\n",
            "This model is 44.05 percent confident that CT scan is normal\n",
            "This model is 55.95 percent confident that CT scan is abnormal\n",
            "This model is 34.98 percent confident that CT scan is normal\n",
            "This model is 65.02 percent confident that CT scan is abnormal\n",
            "This model is 70.11 percent confident that CT scan is normal\n",
            "This model is 29.89 percent confident that CT scan is abnormal\n",
            "This model is 61.09 percent confident that CT scan is normal\n",
            "This model is 38.91 percent confident that CT scan is abnormal\n",
            "This model is 59.70 percent confident that CT scan is normal\n",
            "This model is 40.30 percent confident that CT scan is abnormal\n",
            "This model is 58.30 percent confident that CT scan is normal\n",
            "This model is 41.70 percent confident that CT scan is abnormal\n",
            "This model is 57.58 percent confident that CT scan is normal\n",
            "This model is 42.42 percent confident that CT scan is abnormal\n",
            "This model is 59.43 percent confident that CT scan is normal\n",
            "This model is 40.57 percent confident that CT scan is abnormal\n",
            "This model is 44.46 percent confident that CT scan is normal\n",
            "This model is 55.54 percent confident that CT scan is abnormal\n",
            "This model is 69.10 percent confident that CT scan is normal\n",
            "This model is 30.90 percent confident that CT scan is abnormal\n",
            "This model is 51.20 percent confident that CT scan is normal\n",
            "This model is 48.80 percent confident that CT scan is abnormal\n",
            "This model is 40.22 percent confident that CT scan is normal\n",
            "This model is 59.78 percent confident that CT scan is abnormal\n",
            "This model is 51.21 percent confident that CT scan is normal\n",
            "This model is 48.79 percent confident that CT scan is abnormal\n",
            "This model is 37.76 percent confident that CT scan is normal\n",
            "This model is 62.24 percent confident that CT scan is abnormal\n",
            "This model is 40.18 percent confident that CT scan is normal\n",
            "This model is 59.82 percent confident that CT scan is abnormal\n",
            "This model is 49.32 percent confident that CT scan is normal\n",
            "This model is 50.68 percent confident that CT scan is abnormal\n",
            "This model is 41.18 percent confident that CT scan is normal\n",
            "This model is 58.82 percent confident that CT scan is abnormal\n",
            "This model is 36.77 percent confident that CT scan is normal\n",
            "This model is 63.23 percent confident that CT scan is abnormal\n",
            "This model is 27.68 percent confident that CT scan is normal\n",
            "This model is 72.32 percent confident that CT scan is abnormal\n",
            "This model is 66.32 percent confident that CT scan is normal\n",
            "This model is 33.68 percent confident that CT scan is abnormal\n",
            "This model is 31.26 percent confident that CT scan is normal\n",
            "This model is 68.74 percent confident that CT scan is abnormal\n",
            "This model is 42.33 percent confident that CT scan is normal\n",
            "This model is 57.67 percent confident that CT scan is abnormal\n",
            "This model is 29.46 percent confident that CT scan is normal\n",
            "This model is 70.54 percent confident that CT scan is abnormal\n",
            "This model is 39.57 percent confident that CT scan is normal\n",
            "This model is 60.43 percent confident that CT scan is abnormal\n",
            "This model is 56.50 percent confident that CT scan is normal\n",
            "This model is 43.50 percent confident that CT scan is abnormal\n",
            "This model is 49.07 percent confident that CT scan is normal\n",
            "This model is 50.93 percent confident that CT scan is abnormal\n",
            "This model is 5.63 percent confident that CT scan is normal\n",
            "This model is 94.37 percent confident that CT scan is abnormal\n",
            "This model is 47.47 percent confident that CT scan is normal\n",
            "This model is 52.53 percent confident that CT scan is abnormal\n",
            "This model is 59.74 percent confident that CT scan is normal\n",
            "This model is 40.26 percent confident that CT scan is abnormal\n",
            "This model is 25.24 percent confident that CT scan is normal\n",
            "This model is 74.76 percent confident that CT scan is abnormal\n",
            "This model is 47.74 percent confident that CT scan is normal\n",
            "This model is 52.26 percent confident that CT scan is abnormal\n",
            "This model is 32.85 percent confident that CT scan is normal\n",
            "This model is 67.15 percent confident that CT scan is abnormal\n",
            "This model is 27.10 percent confident that CT scan is normal\n",
            "This model is 72.90 percent confident that CT scan is abnormal\n",
            "This model is 2.85 percent confident that CT scan is normal\n",
            "This model is 97.15 percent confident that CT scan is abnormal\n",
            "This model is 29.82 percent confident that CT scan is normal\n",
            "This model is 70.18 percent confident that CT scan is abnormal\n",
            "This model is 37.65 percent confident that CT scan is normal\n",
            "This model is 62.35 percent confident that CT scan is abnormal\n",
            "This model is 27.66 percent confident that CT scan is normal\n",
            "This model is 72.34 percent confident that CT scan is abnormal\n",
            "This model is 19.52 percent confident that CT scan is normal\n",
            "This model is 80.48 percent confident that CT scan is abnormal\n",
            "This model is 29.23 percent confident that CT scan is normal\n",
            "This model is 70.77 percent confident that CT scan is abnormal\n",
            "This model is 20.59 percent confident that CT scan is normal\n",
            "This model is 79.41 percent confident that CT scan is abnormal\n",
            "This model is 37.21 percent confident that CT scan is normal\n",
            "This model is 62.79 percent confident that CT scan is abnormal\n",
            "This model is 51.26 percent confident that CT scan is normal\n",
            "This model is 48.74 percent confident that CT scan is abnormal\n",
            "This model is 24.24 percent confident that CT scan is normal\n",
            "This model is 75.76 percent confident that CT scan is abnormal\n",
            "This model is 25.01 percent confident that CT scan is normal\n",
            "This model is 74.99 percent confident that CT scan is abnormal\n",
            "This model is 45.31 percent confident that CT scan is normal\n",
            "This model is 54.69 percent confident that CT scan is abnormal\n",
            "This model is 31.06 percent confident that CT scan is normal\n",
            "This model is 68.94 percent confident that CT scan is abnormal\n",
            "This model is 29.43 percent confident that CT scan is normal\n",
            "This model is 70.57 percent confident that CT scan is abnormal\n",
            "This model is 15.97 percent confident that CT scan is normal\n",
            "This model is 84.03 percent confident that CT scan is abnormal\n",
            "This model is 14.47 percent confident that CT scan is normal\n",
            "This model is 85.53 percent confident that CT scan is abnormal\n",
            "This model is 35.13 percent confident that CT scan is normal\n",
            "This model is 64.87 percent confident that CT scan is abnormal\n",
            "This model is 23.67 percent confident that CT scan is normal\n",
            "This model is 76.33 percent confident that CT scan is abnormal\n",
            "This model is 43.58 percent confident that CT scan is normal\n",
            "This model is 56.42 percent confident that CT scan is abnormal\n",
            "This model is 12.06 percent confident that CT scan is normal\n",
            "This model is 87.94 percent confident that CT scan is abnormal\n",
            "This model is 62.29 percent confident that CT scan is normal\n",
            "This model is 37.71 percent confident that CT scan is abnormal\n",
            "This model is 46.30 percent confident that CT scan is normal\n",
            "This model is 53.70 percent confident that CT scan is abnormal\n",
            "This model is 11.47 percent confident that CT scan is normal\n",
            "This model is 88.53 percent confident that CT scan is abnormal\n",
            "This model is 18.74 percent confident that CT scan is normal\n",
            "This model is 81.26 percent confident that CT scan is abnormal\n",
            "This model is 28.36 percent confident that CT scan is normal\n",
            "This model is 71.64 percent confident that CT scan is abnormal\n",
            "This model is 30.80 percent confident that CT scan is normal\n",
            "This model is 69.20 percent confident that CT scan is abnormal\n",
            "This model is 19.46 percent confident that CT scan is normal\n",
            "This model is 80.54 percent confident that CT scan is abnormal\n",
            "This model is 36.68 percent confident that CT scan is normal\n",
            "This model is 63.32 percent confident that CT scan is abnormal\n",
            "This model is 24.60 percent confident that CT scan is normal\n",
            "This model is 75.40 percent confident that CT scan is abnormal\n",
            "This model is 25.86 percent confident that CT scan is normal\n",
            "This model is 74.14 percent confident that CT scan is abnormal\n",
            "This model is 6.56 percent confident that CT scan is normal\n",
            "This model is 93.44 percent confident that CT scan is abnormal\n",
            "This model is 57.18 percent confident that CT scan is normal\n",
            "This model is 42.82 percent confident that CT scan is abnormal\n",
            "This model is 20.34 percent confident that CT scan is normal\n",
            "This model is 79.66 percent confident that CT scan is abnormal\n",
            "This model is 19.04 percent confident that CT scan is normal\n",
            "This model is 80.96 percent confident that CT scan is abnormal\n",
            "This model is 35.15 percent confident that CT scan is normal\n",
            "This model is 64.85 percent confident that CT scan is abnormal\n",
            "This model is 40.65 percent confident that CT scan is normal\n",
            "This model is 59.35 percent confident that CT scan is abnormal\n",
            "This model is 45.45 percent confident that CT scan is normal\n",
            "This model is 54.55 percent confident that CT scan is abnormal\n",
            "This model is 20.61 percent confident that CT scan is normal\n",
            "This model is 79.39 percent confident that CT scan is abnormal\n",
            "This model is 41.54 percent confident that CT scan is normal\n",
            "This model is 58.46 percent confident that CT scan is abnormal\n",
            "This model is 17.07 percent confident that CT scan is normal\n",
            "This model is 82.93 percent confident that CT scan is abnormal\n",
            "This model is 20.18 percent confident that CT scan is normal\n",
            "This model is 79.82 percent confident that CT scan is abnormal\n",
            "This model is 16.44 percent confident that CT scan is normal\n",
            "This model is 83.56 percent confident that CT scan is abnormal\n",
            "This model is 34.42 percent confident that CT scan is normal\n",
            "This model is 65.58 percent confident that CT scan is abnormal\n",
            "This model is 18.96 percent confident that CT scan is normal\n",
            "This model is 81.04 percent confident that CT scan is abnormal\n",
            "This model is 43.11 percent confident that CT scan is normal\n",
            "This model is 56.89 percent confident that CT scan is abnormal\n",
            "This model is 48.85 percent confident that CT scan is normal\n",
            "This model is 51.15 percent confident that CT scan is abnormal\n",
            "This model is 50.82 percent confident that CT scan is normal\n",
            "This model is 49.18 percent confident that CT scan is abnormal\n",
            "This model is 5.89 percent confident that CT scan is normal\n",
            "This model is 94.11 percent confident that CT scan is abnormal\n",
            "This model is 54.40 percent confident that CT scan is normal\n",
            "This model is 45.60 percent confident that CT scan is abnormal\n",
            "This model is 50.36 percent confident that CT scan is normal\n",
            "This model is 49.64 percent confident that CT scan is abnormal\n",
            "This model is 23.40 percent confident that CT scan is normal\n",
            "This model is 76.60 percent confident that CT scan is abnormal\n",
            "This model is 7.20 percent confident that CT scan is normal\n",
            "This model is 92.80 percent confident that CT scan is abnormal\n",
            "This model is 50.25 percent confident that CT scan is normal\n",
            "This model is 49.75 percent confident that CT scan is abnormal\n",
            "This model is 48.69 percent confident that CT scan is normal\n",
            "This model is 51.31 percent confident that CT scan is abnormal\n",
            "This model is 44.43 percent confident that CT scan is normal\n",
            "This model is 55.57 percent confident that CT scan is abnormal\n",
            "This model is 12.92 percent confident that CT scan is normal\n",
            "This model is 87.08 percent confident that CT scan is abnormal\n",
            "This model is 13.63 percent confident that CT scan is normal\n",
            "This model is 86.37 percent confident that CT scan is abnormal\n",
            "This model is 25.29 percent confident that CT scan is normal\n",
            "This model is 74.71 percent confident that CT scan is abnormal\n",
            "This model is 5.90 percent confident that CT scan is normal\n",
            "This model is 94.10 percent confident that CT scan is abnormal\n",
            "This model is 51.99 percent confident that CT scan is normal\n",
            "This model is 48.01 percent confident that CT scan is abnormal\n",
            "This model is 36.20 percent confident that CT scan is normal\n",
            "This model is 63.80 percent confident that CT scan is abnormal\n",
            "This model is 21.35 percent confident that CT scan is normal\n",
            "This model is 78.65 percent confident that CT scan is abnormal\n",
            "This model is 32.03 percent confident that CT scan is normal\n",
            "This model is 67.97 percent confident that CT scan is abnormal\n",
            "This model is 51.18 percent confident that CT scan is normal\n",
            "This model is 48.82 percent confident that CT scan is abnormal\n",
            "This model is 30.25 percent confident that CT scan is normal\n",
            "This model is 69.75 percent confident that CT scan is abnormal\n",
            "This model is 24.13 percent confident that CT scan is normal\n",
            "This model is 75.87 percent confident that CT scan is abnormal\n",
            "This model is 33.86 percent confident that CT scan is normal\n",
            "This model is 66.14 percent confident that CT scan is abnormal\n",
            "This model is 27.21 percent confident that CT scan is normal\n",
            "This model is 72.79 percent confident that CT scan is abnormal\n",
            "This model is 24.94 percent confident that CT scan is normal\n",
            "This model is 75.06 percent confident that CT scan is abnormal\n",
            "This model is 37.10 percent confident that CT scan is normal\n",
            "This model is 62.90 percent confident that CT scan is abnormal\n",
            "This model is 31.03 percent confident that CT scan is normal\n",
            "This model is 68.97 percent confident that CT scan is abnormal\n",
            "This model is 30.38 percent confident that CT scan is normal\n",
            "This model is 69.62 percent confident that CT scan is abnormal\n",
            "This model is 26.63 percent confident that CT scan is normal\n",
            "This model is 73.37 percent confident that CT scan is abnormal\n",
            "This model is 48.81 percent confident that CT scan is normal\n",
            "This model is 51.19 percent confident that CT scan is abnormal\n",
            "This model is 65.14 percent confident that CT scan is normal\n",
            "This model is 34.86 percent confident that CT scan is abnormal\n",
            "This model is 48.54 percent confident that CT scan is normal\n",
            "This model is 51.46 percent confident that CT scan is abnormal\n",
            "This model is 59.16 percent confident that CT scan is normal\n",
            "This model is 40.84 percent confident that CT scan is abnormal\n",
            "This model is 16.60 percent confident that CT scan is normal\n",
            "This model is 83.40 percent confident that CT scan is abnormal\n",
            "This model is 16.38 percent confident that CT scan is normal\n",
            "This model is 83.62 percent confident that CT scan is abnormal\n",
            "This model is 10.20 percent confident that CT scan is normal\n",
            "This model is 89.80 percent confident that CT scan is abnormal\n",
            "This model is 19.28 percent confident that CT scan is normal\n",
            "This model is 80.72 percent confident that CT scan is abnormal\n",
            "This model is 28.12 percent confident that CT scan is normal\n",
            "This model is 71.88 percent confident that CT scan is abnormal\n",
            "This model is 34.24 percent confident that CT scan is normal\n",
            "This model is 65.76 percent confident that CT scan is abnormal\n",
            "This model is 46.84 percent confident that CT scan is normal\n",
            "This model is 53.16 percent confident that CT scan is abnormal\n",
            "This model is 26.86 percent confident that CT scan is normal\n",
            "This model is 73.14 percent confident that CT scan is abnormal\n",
            "This model is 37.30 percent confident that CT scan is normal\n",
            "This model is 62.70 percent confident that CT scan is abnormal\n",
            "This model is 40.56 percent confident that CT scan is normal\n",
            "This model is 59.44 percent confident that CT scan is abnormal\n",
            "This model is 37.82 percent confident that CT scan is normal\n",
            "This model is 62.18 percent confident that CT scan is abnormal\n",
            "This model is 41.03 percent confident that CT scan is normal\n",
            "This model is 58.97 percent confident that CT scan is abnormal\n",
            "This model is 24.85 percent confident that CT scan is normal\n",
            "This model is 75.15 percent confident that CT scan is abnormal\n",
            "This model is 10.82 percent confident that CT scan is normal\n",
            "This model is 89.18 percent confident that CT scan is abnormal\n",
            "This model is 32.63 percent confident that CT scan is normal\n",
            "This model is 67.37 percent confident that CT scan is abnormal\n",
            "This model is 19.22 percent confident that CT scan is normal\n",
            "This model is 80.78 percent confident that CT scan is abnormal\n",
            "This model is 27.07 percent confident that CT scan is normal\n",
            "This model is 72.93 percent confident that CT scan is abnormal\n",
            "This model is 28.53 percent confident that CT scan is normal\n",
            "This model is 71.47 percent confident that CT scan is abnormal\n",
            "This model is 29.17 percent confident that CT scan is normal\n",
            "This model is 70.83 percent confident that CT scan is abnormal\n",
            "This model is 22.03 percent confident that CT scan is normal\n",
            "This model is 77.97 percent confident that CT scan is abnormal\n",
            "This model is 3.69 percent confident that CT scan is normal\n",
            "This model is 96.31 percent confident that CT scan is abnormal\n",
            "This model is 25.01 percent confident that CT scan is normal\n",
            "This model is 74.99 percent confident that CT scan is abnormal\n",
            "This model is 48.61 percent confident that CT scan is normal\n",
            "This model is 51.39 percent confident that CT scan is abnormal\n",
            "This model is 23.87 percent confident that CT scan is normal\n",
            "This model is 76.13 percent confident that CT scan is abnormal\n",
            "This model is 31.52 percent confident that CT scan is normal\n",
            "This model is 68.48 percent confident that CT scan is abnormal\n",
            "This model is 48.82 percent confident that CT scan is normal\n",
            "This model is 51.18 percent confident that CT scan is abnormal\n",
            "This model is 18.48 percent confident that CT scan is normal\n",
            "This model is 81.52 percent confident that CT scan is abnormal\n",
            "This model is 24.83 percent confident that CT scan is normal\n",
            "This model is 75.17 percent confident that CT scan is abnormal\n",
            "This model is 12.42 percent confident that CT scan is normal\n",
            "This model is 87.58 percent confident that CT scan is abnormal\n",
            "This model is 18.59 percent confident that CT scan is normal\n",
            "This model is 81.41 percent confident that CT scan is abnormal\n",
            "This model is 53.69 percent confident that CT scan is normal\n",
            "This model is 46.31 percent confident that CT scan is abnormal\n",
            "This model is 38.31 percent confident that CT scan is normal\n",
            "This model is 61.69 percent confident that CT scan is abnormal\n",
            "This model is 55.32 percent confident that CT scan is normal\n",
            "This model is 44.68 percent confident that CT scan is abnormal\n",
            "This model is 51.87 percent confident that CT scan is normal\n",
            "This model is 48.13 percent confident that CT scan is abnormal\n",
            "This model is 58.29 percent confident that CT scan is normal\n",
            "This model is 41.71 percent confident that CT scan is abnormal\n",
            "This model is 24.54 percent confident that CT scan is normal\n",
            "This model is 75.46 percent confident that CT scan is abnormal\n",
            "This model is 35.29 percent confident that CT scan is normal\n",
            "This model is 64.71 percent confident that CT scan is abnormal\n",
            "This model is 26.46 percent confident that CT scan is normal\n",
            "This model is 73.54 percent confident that CT scan is abnormal\n",
            "This model is 31.93 percent confident that CT scan is normal\n",
            "This model is 68.07 percent confident that CT scan is abnormal\n",
            "This model is 61.15 percent confident that CT scan is normal\n",
            "This model is 38.85 percent confident that CT scan is abnormal\n",
            "This model is 7.57 percent confident that CT scan is normal\n",
            "This model is 92.43 percent confident that CT scan is abnormal\n",
            "This model is 18.76 percent confident that CT scan is normal\n",
            "This model is 81.24 percent confident that CT scan is abnormal\n",
            "This model is 43.53 percent confident that CT scan is normal\n",
            "This model is 56.47 percent confident that CT scan is abnormal\n",
            "This model is 26.88 percent confident that CT scan is normal\n",
            "This model is 73.12 percent confident that CT scan is abnormal\n",
            "This model is 37.12 percent confident that CT scan is normal\n",
            "This model is 62.88 percent confident that CT scan is abnormal\n",
            "This model is 19.23 percent confident that CT scan is normal\n",
            "This model is 80.77 percent confident that CT scan is abnormal\n",
            "This model is 22.73 percent confident that CT scan is normal\n",
            "This model is 77.27 percent confident that CT scan is abnormal\n",
            "This model is 27.89 percent confident that CT scan is normal\n",
            "This model is 72.11 percent confident that CT scan is abnormal\n",
            "This model is 16.78 percent confident that CT scan is normal\n",
            "This model is 83.22 percent confident that CT scan is abnormal\n",
            "This model is 21.91 percent confident that CT scan is normal\n",
            "This model is 78.09 percent confident that CT scan is abnormal\n",
            "This model is 5.50 percent confident that CT scan is normal\n",
            "This model is 94.50 percent confident that CT scan is abnormal\n",
            "This model is 81.19 percent confident that CT scan is normal\n",
            "This model is 18.81 percent confident that CT scan is abnormal\n",
            "This model is 14.76 percent confident that CT scan is normal\n",
            "This model is 85.24 percent confident that CT scan is abnormal\n",
            "This model is 24.37 percent confident that CT scan is normal\n",
            "This model is 75.63 percent confident that CT scan is abnormal\n",
            "This model is 64.61 percent confident that CT scan is normal\n",
            "This model is 35.39 percent confident that CT scan is abnormal\n",
            "This model is 39.47 percent confident that CT scan is normal\n",
            "This model is 60.53 percent confident that CT scan is abnormal\n",
            "This model is 24.69 percent confident that CT scan is normal\n",
            "This model is 75.31 percent confident that CT scan is abnormal\n",
            "This model is 11.85 percent confident that CT scan is normal\n",
            "This model is 88.15 percent confident that CT scan is abnormal\n",
            "This model is 26.96 percent confident that CT scan is normal\n",
            "This model is 73.04 percent confident that CT scan is abnormal\n",
            "This model is 46.13 percent confident that CT scan is normal\n",
            "This model is 53.87 percent confident that CT scan is abnormal\n",
            "This model is 20.73 percent confident that CT scan is normal\n",
            "This model is 79.27 percent confident that CT scan is abnormal\n",
            "This model is 17.74 percent confident that CT scan is normal\n",
            "This model is 82.26 percent confident that CT scan is abnormal\n",
            "This model is 16.52 percent confident that CT scan is normal\n",
            "This model is 83.48 percent confident that CT scan is abnormal\n",
            "This model is 30.62 percent confident that CT scan is normal\n",
            "This model is 69.38 percent confident that CT scan is abnormal\n",
            "This model is 3.47 percent confident that CT scan is normal\n",
            "This model is 96.53 percent confident that CT scan is abnormal\n",
            "This model is 16.62 percent confident that CT scan is normal\n",
            "This model is 83.38 percent confident that CT scan is abnormal\n",
            "This model is 28.80 percent confident that CT scan is normal\n",
            "This model is 71.20 percent confident that CT scan is abnormal\n",
            "This model is 23.67 percent confident that CT scan is normal\n",
            "This model is 76.33 percent confident that CT scan is abnormal\n",
            "This model is 38.72 percent confident that CT scan is normal\n",
            "This model is 61.28 percent confident that CT scan is abnormal\n",
            "This model is 31.97 percent confident that CT scan is normal\n",
            "This model is 68.03 percent confident that CT scan is abnormal\n",
            "This model is 49.41 percent confident that CT scan is normal\n",
            "This model is 50.59 percent confident that CT scan is abnormal\n",
            "This model is 61.33 percent confident that CT scan is normal\n",
            "This model is 38.67 percent confident that CT scan is abnormal\n",
            "This model is 30.41 percent confident that CT scan is normal\n",
            "This model is 69.59 percent confident that CT scan is abnormal\n",
            "This model is 40.97 percent confident that CT scan is normal\n",
            "This model is 59.03 percent confident that CT scan is abnormal\n",
            "This model is 26.07 percent confident that CT scan is normal\n",
            "This model is 73.93 percent confident that CT scan is abnormal\n",
            "This model is 28.13 percent confident that CT scan is normal\n",
            "This model is 71.87 percent confident that CT scan is abnormal\n",
            "This model is 57.30 percent confident that CT scan is normal\n",
            "This model is 42.70 percent confident that CT scan is abnormal\n",
            "This model is 26.57 percent confident that CT scan is normal\n",
            "This model is 73.43 percent confident that CT scan is abnormal\n",
            "This model is 16.14 percent confident that CT scan is normal\n",
            "This model is 83.86 percent confident that CT scan is abnormal\n",
            "This model is 11.47 percent confident that CT scan is normal\n",
            "This model is 88.53 percent confident that CT scan is abnormal\n",
            "This model is 41.57 percent confident that CT scan is normal\n",
            "This model is 58.43 percent confident that CT scan is abnormal\n",
            "This model is 35.97 percent confident that CT scan is normal\n",
            "This model is 64.03 percent confident that CT scan is abnormal\n",
            "This model is 55.63 percent confident that CT scan is normal\n",
            "This model is 44.37 percent confident that CT scan is abnormal\n",
            "This model is 4.62 percent confident that CT scan is normal\n",
            "This model is 95.38 percent confident that CT scan is abnormal\n",
            "This model is 3.51 percent confident that CT scan is normal\n",
            "This model is 96.49 percent confident that CT scan is abnormal\n",
            "This model is 47.11 percent confident that CT scan is normal\n",
            "This model is 52.89 percent confident that CT scan is abnormal\n",
            "This model is 64.14 percent confident that CT scan is normal\n",
            "This model is 35.86 percent confident that CT scan is abnormal\n"
          ],
          "name": "stdout"
        },
        {
          "output_type": "execute_result",
          "data": {
            "text/html": [
              "<div>\n",
              "<style scoped>\n",
              "    .dataframe tbody tr th:only-of-type {\n",
              "        vertical-align: middle;\n",
              "    }\n",
              "\n",
              "    .dataframe tbody tr th {\n",
              "        vertical-align: top;\n",
              "    }\n",
              "\n",
              "    .dataframe thead th {\n",
              "        text-align: right;\n",
              "    }\n",
              "</style>\n",
              "<table border=\"1\" class=\"dataframe\">\n",
              "  <thead>\n",
              "    <tr style=\"text-align: right;\">\n",
              "      <th></th>\n",
              "      <th>0</th>\n",
              "      <th>1</th>\n",
              "    </tr>\n",
              "  </thead>\n",
              "  <tbody>\n",
              "    <tr>\n",
              "      <th>0</th>\n",
              "      <td>5d9dff8db2a8f5c55430cfda670ccbf0</td>\n",
              "      <td>1</td>\n",
              "    </tr>\n",
              "    <tr>\n",
              "      <th>1</th>\n",
              "      <td>451fb9a76ca9a9f1b91b5e22640dc620</td>\n",
              "      <td>0</td>\n",
              "    </tr>\n",
              "    <tr>\n",
              "      <th>2</th>\n",
              "      <td>b04d4ede3fffc7ac1835ac5b08898dca</td>\n",
              "      <td>0</td>\n",
              "    </tr>\n",
              "    <tr>\n",
              "      <th>3</th>\n",
              "      <td>2ecccfc3be2446ac932cefc2883d8a43</td>\n",
              "      <td>0</td>\n",
              "    </tr>\n",
              "    <tr>\n",
              "      <th>4</th>\n",
              "      <td>4b41e9428153a83152bdd73c020a6002</td>\n",
              "      <td>0</td>\n",
              "    </tr>\n",
              "  </tbody>\n",
              "</table>\n",
              "</div>"
            ],
            "text/plain": [
              "                                  0  1\n",
              "0  5d9dff8db2a8f5c55430cfda670ccbf0  1\n",
              "1  451fb9a76ca9a9f1b91b5e22640dc620  0\n",
              "2  b04d4ede3fffc7ac1835ac5b08898dca  0\n",
              "3  2ecccfc3be2446ac932cefc2883d8a43  0\n",
              "4  4b41e9428153a83152bdd73c020a6002  0"
            ]
          },
          "metadata": {
            "tags": []
          },
          "execution_count": 60
        }
      ]
    },
    {
      "cell_type": "code",
      "metadata": {
        "colab": {
          "base_uri": "https://localhost:8080/"
        },
        "id": "XIeV_IqNxqyb",
        "outputId": "f17d6db4-9001-4578-8c1c-7b8b4aea5aa0"
      },
      "source": [
        "data_decision.shape"
      ],
      "execution_count": 61,
      "outputs": [
        {
          "output_type": "execute_result",
          "data": {
            "text/plain": [
              "(210, 2)"
            ]
          },
          "metadata": {
            "tags": []
          },
          "execution_count": 61
        }
      ]
    },
    {
      "cell_type": "code",
      "metadata": {
        "id": "rMyN9HWwxqyc"
      },
      "source": [
        "data_decision.to_csv(\"data_decision.csv\", sep = ',', \n",
        "                     header = False,  columns = None, \n",
        "                     index = False, index_label = '0',)"
      ],
      "execution_count": 62,
      "outputs": []
    },
    {
      "cell_type": "code",
      "metadata": {
        "colab": {
          "base_uri": "https://localhost:8080/",
          "height": 204
        },
        "id": "EzPro4_3wPrV",
        "outputId": "7aefcd95-378b-43d8-b3e8-27f1c6f70463"
      },
      "source": [
        "df = pd.read_csv(\"data_decision.csv\")\n",
        "df.head()"
      ],
      "execution_count": 63,
      "outputs": [
        {
          "output_type": "execute_result",
          "data": {
            "text/html": [
              "<div>\n",
              "<style scoped>\n",
              "    .dataframe tbody tr th:only-of-type {\n",
              "        vertical-align: middle;\n",
              "    }\n",
              "\n",
              "    .dataframe tbody tr th {\n",
              "        vertical-align: top;\n",
              "    }\n",
              "\n",
              "    .dataframe thead th {\n",
              "        text-align: right;\n",
              "    }\n",
              "</style>\n",
              "<table border=\"1\" class=\"dataframe\">\n",
              "  <thead>\n",
              "    <tr style=\"text-align: right;\">\n",
              "      <th></th>\n",
              "      <th>5d9dff8db2a8f5c55430cfda670ccbf0</th>\n",
              "      <th>1</th>\n",
              "    </tr>\n",
              "  </thead>\n",
              "  <tbody>\n",
              "    <tr>\n",
              "      <th>0</th>\n",
              "      <td>451fb9a76ca9a9f1b91b5e22640dc620</td>\n",
              "      <td>0</td>\n",
              "    </tr>\n",
              "    <tr>\n",
              "      <th>1</th>\n",
              "      <td>b04d4ede3fffc7ac1835ac5b08898dca</td>\n",
              "      <td>0</td>\n",
              "    </tr>\n",
              "    <tr>\n",
              "      <th>2</th>\n",
              "      <td>2ecccfc3be2446ac932cefc2883d8a43</td>\n",
              "      <td>0</td>\n",
              "    </tr>\n",
              "    <tr>\n",
              "      <th>3</th>\n",
              "      <td>4b41e9428153a83152bdd73c020a6002</td>\n",
              "      <td>0</td>\n",
              "    </tr>\n",
              "    <tr>\n",
              "      <th>4</th>\n",
              "      <td>42fae378e907f646ee19c71d436c68d5</td>\n",
              "      <td>0</td>\n",
              "    </tr>\n",
              "  </tbody>\n",
              "</table>\n",
              "</div>"
            ],
            "text/plain": [
              "   5d9dff8db2a8f5c55430cfda670ccbf0  1\n",
              "0  451fb9a76ca9a9f1b91b5e22640dc620  0\n",
              "1  b04d4ede3fffc7ac1835ac5b08898dca  0\n",
              "2  2ecccfc3be2446ac932cefc2883d8a43  0\n",
              "3  4b41e9428153a83152bdd73c020a6002  0\n",
              "4  42fae378e907f646ee19c71d436c68d5  0"
            ]
          },
          "metadata": {
            "tags": []
          },
          "execution_count": 63
        }
      ]
    },
    {
      "cell_type": "code",
      "metadata": {
        "colab": {
          "base_uri": "https://localhost:8080/"
        },
        "id": "55thh2Ezxqyi",
        "outputId": "73a1846f-0c30-46fa-fec9-78817bc7abfa"
      },
      "source": [
        "import csv\n",
        "with open(\"data_decision.csv\", 'r') as f_obj:\n",
        "    read = csv.reader(f_obj)\n",
        "    try:\n",
        "        read == None\n",
        "        print('Data')\n",
        "    except:\n",
        "        print('Data is empty')"
      ],
      "execution_count": 64,
      "outputs": [
        {
          "output_type": "stream",
          "text": [
            "Data\n"
          ],
          "name": "stdout"
        }
      ]
    },
    {
      "cell_type": "code",
      "metadata": {
        "colab": {
          "base_uri": "https://localhost:8080/"
        },
        "id": "1UQfg7wUwX1I",
        "outputId": "24067948-61e6-4ba7-a317-363a62bea6d6"
      },
      "source": [
        "t_finish = dt.datetime.now() - t_start\n",
        "t_finish.seconds"
      ],
      "execution_count": 65,
      "outputs": [
        {
          "output_type": "execute_result",
          "data": {
            "text/plain": [
              "777"
            ]
          },
          "metadata": {
            "tags": []
          },
          "execution_count": 65
        }
      ]
    }
  ]
}