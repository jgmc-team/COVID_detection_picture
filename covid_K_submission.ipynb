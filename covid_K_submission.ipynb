{
  "nbformat": 4,
  "nbformat_minor": 0,
  "metadata": {
    "colab": {
      "name": "covid_K_submission.ipynb",
      "provenance": [],
      "collapsed_sections": []
    },
    "kernelspec": {
      "display_name": "Python 3",
      "language": "python",
      "name": "python3"
    },
    "language_info": {
      "codemirror_mode": {
        "name": "ipython",
        "version": 3
      },
      "file_extension": ".py",
      "mimetype": "text/x-python",
      "name": "python",
      "nbconvert_exporter": "python",
      "pygments_lexer": "ipython3",
      "version": "3.7.6"
    },
    "latex_envs": {
      "LaTeX_envs_menu_present": true,
      "autoclose": false,
      "autocomplete": true,
      "bibliofile": "biblio.bib",
      "cite_by": "apalike",
      "current_citInitial": 1,
      "eqLabelWithNumbers": true,
      "eqNumInitial": 1,
      "hotkeys": {
        "equation": "Ctrl-E",
        "itemize": "Ctrl-I"
      },
      "labels_anchors": false,
      "latex_user_defs": false,
      "report_style_numbering": false,
      "user_envs_cfg": false
    }
  },
  "cells": [
    {
      "cell_type": "code",
      "metadata": {
        "id": "5imFZ-jPk5sx"
      },
      "source": [
        "import os\n",
        "import gzip\n",
        "import numba\n",
        "import zipfile\n",
        "\n",
        "import nibabel as nib\n",
        "from scipy import ndimage\n",
        "import scipy.special as sc\n",
        "\n",
        "import numpy as np\n",
        "from numba import jit\n",
        "from numba import njit\n",
        "import threading as tr\n",
        "\n",
        "import tensorflow as tf\n",
        "from tensorflow import keras\n",
        "from tensorflow.keras import layers\n",
        "import matplotlib.pyplot as plt\n",
        "\n",
        "import pandas as pd\n",
        "import datetime as dt\n",
        "### numba warrnings ###########\n",
        "from numba import NumbaDeprecationWarning, NumbaPendingDeprecationWarning\n",
        "import warnings\n",
        "\n",
        "warnings.simplefilter('ignore', category=NumbaDeprecationWarning)\n",
        "warnings.simplefilter('ignore', category=NumbaPendingDeprecationWarning)"
      ],
      "execution_count": 1,
      "outputs": []
    },
    {
      "cell_type": "code",
      "metadata": {
        "id": "xDC_IhsQlAa-"
      },
      "source": [
        ""
      ],
      "execution_count": 1,
      "outputs": []
    },
    {
      "cell_type": "code",
      "metadata": {
        "colab": {
          "base_uri": "https://localhost:8080/"
        },
        "id": "ANl6EyaElA1U",
        "outputId": "787106f0-46d9-47ab-e7e1-7ca6006aab07"
      },
      "source": [
        "from google.colab import drive\n",
        "drive.mount('/content/drive')"
      ],
      "execution_count": 2,
      "outputs": [
        {
          "output_type": "stream",
          "text": [
            "Drive already mounted at /content/drive; to attempt to forcibly remount, call drive.mount(\"/content/drive\", force_remount=True).\n"
          ],
          "name": "stdout"
        }
      ]
    },
    {
      "cell_type": "code",
      "metadata": {
        "id": "y6IcyxoIxqxU"
      },
      "source": [
        "df_decision = pd.read_csv(\"/content/drive/MyDrive/JN/NN/COVID_detection_picture/data/new_data_decision.csv\", header = None)\n",
        "df_validation = pd.read_csv(\"/content/drive/MyDrive/JN/NN/COVID_detection_picture/data/data_validate.csv\", header = None)"
      ],
      "execution_count": 3,
      "outputs": []
    },
    {
      "cell_type": "code",
      "metadata": {
        "colab": {
          "base_uri": "https://localhost:8080/",
          "height": 204
        },
        "id": "JE6v7Zv6xqxW",
        "outputId": "94f680a0-edd3-4e2f-d706-73c17edc25f1"
      },
      "source": [
        "df_validation.head()"
      ],
      "execution_count": 4,
      "outputs": [
        {
          "output_type": "execute_result",
          "data": {
            "text/html": [
              "<div>\n",
              "<style scoped>\n",
              "    .dataframe tbody tr th:only-of-type {\n",
              "        vertical-align: middle;\n",
              "    }\n",
              "\n",
              "    .dataframe tbody tr th {\n",
              "        vertical-align: top;\n",
              "    }\n",
              "\n",
              "    .dataframe thead th {\n",
              "        text-align: right;\n",
              "    }\n",
              "</style>\n",
              "<table border=\"1\" class=\"dataframe\">\n",
              "  <thead>\n",
              "    <tr style=\"text-align: right;\">\n",
              "      <th></th>\n",
              "      <th>0</th>\n",
              "      <th>1</th>\n",
              "    </tr>\n",
              "  </thead>\n",
              "  <tbody>\n",
              "    <tr>\n",
              "      <th>0</th>\n",
              "      <td>0d2c2e2355ef003b59db4af6cae2bf07</td>\n",
              "      <td>0</td>\n",
              "    </tr>\n",
              "    <tr>\n",
              "      <th>1</th>\n",
              "      <td>7a3066790cf024972d51480e095e976c</td>\n",
              "      <td>0</td>\n",
              "    </tr>\n",
              "    <tr>\n",
              "      <th>2</th>\n",
              "      <td>6ff9db5460fd6d2d050f77ee2976fdca</td>\n",
              "      <td>0</td>\n",
              "    </tr>\n",
              "    <tr>\n",
              "      <th>3</th>\n",
              "      <td>3b070df8068fc42b35b32257d664c369</td>\n",
              "      <td>0</td>\n",
              "    </tr>\n",
              "    <tr>\n",
              "      <th>4</th>\n",
              "      <td>7bc7e3ba48fe95a901481d3dc294bddc</td>\n",
              "      <td>0</td>\n",
              "    </tr>\n",
              "  </tbody>\n",
              "</table>\n",
              "</div>"
            ],
            "text/plain": [
              "                                  0  1\n",
              "0  0d2c2e2355ef003b59db4af6cae2bf07  0\n",
              "1  7a3066790cf024972d51480e095e976c  0\n",
              "2  6ff9db5460fd6d2d050f77ee2976fdca  0\n",
              "3  3b070df8068fc42b35b32257d664c369  0\n",
              "4  7bc7e3ba48fe95a901481d3dc294bddc  0"
            ]
          },
          "metadata": {
            "tags": []
          },
          "execution_count": 4
        }
      ]
    },
    {
      "cell_type": "code",
      "metadata": {
        "colab": {
          "base_uri": "https://localhost:8080/",
          "height": 204
        },
        "id": "mpNMjoM9xqxY",
        "outputId": "3bdeb953-b0d8-4236-e486-d28f8e52ee97"
      },
      "source": [
        "df_decision.head()"
      ],
      "execution_count": 5,
      "outputs": [
        {
          "output_type": "execute_result",
          "data": {
            "text/html": [
              "<div>\n",
              "<style scoped>\n",
              "    .dataframe tbody tr th:only-of-type {\n",
              "        vertical-align: middle;\n",
              "    }\n",
              "\n",
              "    .dataframe tbody tr th {\n",
              "        vertical-align: top;\n",
              "    }\n",
              "\n",
              "    .dataframe thead th {\n",
              "        text-align: right;\n",
              "    }\n",
              "</style>\n",
              "<table border=\"1\" class=\"dataframe\">\n",
              "  <thead>\n",
              "    <tr style=\"text-align: right;\">\n",
              "      <th></th>\n",
              "      <th>0</th>\n",
              "      <th>1</th>\n",
              "    </tr>\n",
              "  </thead>\n",
              "  <tbody>\n",
              "    <tr>\n",
              "      <th>0</th>\n",
              "      <td>55c0543ab410f3c3ce6687ebebad1821</td>\n",
              "      <td>1</td>\n",
              "    </tr>\n",
              "    <tr>\n",
              "      <th>1</th>\n",
              "      <td>2d5125b195fd987966f09441a207a61d</td>\n",
              "      <td>1</td>\n",
              "    </tr>\n",
              "    <tr>\n",
              "      <th>2</th>\n",
              "      <td>6f10da723511d7bf513878652ed07f4d</td>\n",
              "      <td>1</td>\n",
              "    </tr>\n",
              "    <tr>\n",
              "      <th>3</th>\n",
              "      <td>0f142314b332ce9efb8df615f5482df3</td>\n",
              "      <td>1</td>\n",
              "    </tr>\n",
              "    <tr>\n",
              "      <th>4</th>\n",
              "      <td>afc895f528c791d932ff0c2cfbd5ff21</td>\n",
              "      <td>1</td>\n",
              "    </tr>\n",
              "  </tbody>\n",
              "</table>\n",
              "</div>"
            ],
            "text/plain": [
              "                                  0  1\n",
              "0  55c0543ab410f3c3ce6687ebebad1821  1\n",
              "1  2d5125b195fd987966f09441a207a61d  1\n",
              "2  6f10da723511d7bf513878652ed07f4d  1\n",
              "3  0f142314b332ce9efb8df615f5482df3  1\n",
              "4  afc895f528c791d932ff0c2cfbd5ff21  1"
            ]
          },
          "metadata": {
            "tags": []
          },
          "execution_count": 5
        }
      ]
    },
    {
      "cell_type": "code",
      "metadata": {
        "id": "vo6KQLS8xqxd"
      },
      "source": [
        "t_start = dt.datetime.now()"
      ],
      "execution_count": 6,
      "outputs": []
    },
    {
      "cell_type": "code",
      "metadata": {
        "id": "IYv49S5Zs2mB"
      },
      "source": [
        "import traceback\n",
        "import contextlib\n",
        "\n",
        "# Some helper code to demonstrate the kinds of errors you might encounter.\n",
        "@contextlib.contextmanager\n",
        "def assert_raises(error_class):\n",
        "    try:\n",
        "        yield\n",
        "    except error_class as e:\n",
        "        print('Caught expected exception \\n  {}:'.format(error_class))\n",
        "        traceback.print_exc(limit=2)\n",
        "    except Exception as e:\n",
        "        raise e\n",
        "    else:\n",
        "        raise Exception('Expected {} to be raised but no error was raised!'.format(error_class))"
      ],
      "execution_count": 7,
      "outputs": []
    },
    {
      "cell_type": "code",
      "metadata": {
        "id": "wiZqxDaXlAJ4"
      },
      "source": [
        "# # Build model.\n",
        "# @tf.function(input_signature=(tf.TensorSpec(shape=[None], dtype=tf.int32),))\n",
        "def create_model_():\n",
        "#     model = get_model_8L_(width=128, height=128, depth = 64)\n",
        "    # Loads the weights\n",
        "#     loaded_model = keras.models.load_model('/content/drive/MyDrive/JN/NN/COVID_detection_picture/Keras/model/model_ex-083_acc-0_951409.h5')\n",
        "    #loaded_model = keras.models.load_model('/content/drive/MyDrive/JN/NN/COVID_detection_picture/Keras/model/model_keras_5L.h5')\n",
        "     loaded_model = keras.models.load_model('/content/drive/MyDrive/JN/NN/COVID_detection_picture/Keras/model/model_keras_F1_0819.h5')\n",
        "    # model.load_weights(checkpoint_path)\n",
        "     return loaded_model\n",
        "    # model.summary()\n",
        "loaded_model = create_model_()"
      ],
      "execution_count": 8,
      "outputs": []
    },
    {
      "cell_type": "code",
      "metadata": {
        "id": "d5NnZaRFlEwU"
      },
      "source": [
        "def read_nifti_file(filepath):\n",
        "    \"\"\"Read and load volume\"\"\"\n",
        "    # Read file\n",
        "    scan = nib.load(filepath)\n",
        "    # Get raw data\n",
        "    scan = scan.get_fdata()\n",
        "    return scan\n",
        "def normalize(volume):\n",
        "    \"\"\"Normalize the volume\"\"\"\n",
        "    min = -1000\n",
        "    max = 400\n",
        "    volume[volume < min] = min\n",
        "    volume[volume > max] = max\n",
        "    volume = (volume - min) / (max - min)\n",
        "    volume = volume.astype(\"float32\")\n",
        "    return volume\n",
        "\n",
        "# from numba import ndimage\n",
        "\n",
        "# @jit(parallel=True, cache=True, )\n",
        "def resize_volume(img):\n",
        "    \"\"\"Resize across z-axis\"\"\"\n",
        "    # Set the desired depth\n",
        "    # desired_depth = 64 #old\n",
        "    desired_depth = 64\n",
        "    desired_width = 128\n",
        "    desired_height = 128\n",
        "    # Get current depth\n",
        "    current_depth = img.shape[-1]\n",
        "    current_width = img.shape[0]\n",
        "    current_height = img.shape[1]\n",
        "    # Compute depth factor\n",
        "    depth = current_depth / desired_depth\n",
        "    width = current_width / desired_width\n",
        "    height = current_height / desired_height\n",
        "    depth_factor = 1 / depth\n",
        "    width_factor = 1 / width\n",
        "    height_factor = 1 / height\n",
        "    # Rotate\n",
        "    # img = ndimage.rotate(img, 90, reshape=False)\n",
        "    img = np.rot90(img)\n",
        "    # Resize across z-axis\n",
        "    img = ndimage.zoom(img, (width_factor, height_factor, depth_factor), order=1)\n",
        "    return img\n",
        "\n",
        "\n",
        "def process_scan(path):\n",
        "    \"\"\"Read and resize volume\"\"\"\n",
        "    # Read scan\n",
        "    volume = read_nifti_file(path)\n",
        "    # Normalize\n",
        "    volume = normalize(volume)\n",
        "    # Resize width, height and depth\n",
        "    volume = resize_volume(volume)\n",
        "    return volume\n",
        "### TESTING BLOCK #####################\n",
        "# test_image = process_scan(test_image)\n",
        "# test_image.shape\n",
        "######################################"
      ],
      "execution_count": 9,
      "outputs": []
    },
    {
      "cell_type": "code",
      "metadata": {
        "id": "ENa-SYYlxqxk"
      },
      "source": [
        "image = process_scan(\"/content/drive/MyDrive/JN/NN/COVID_detection_picture/MRI/health_0a38b4c71a46ce68c8b48c95b93619b2.nii\")"
      ],
      "execution_count": 10,
      "outputs": []
    },
    {
      "cell_type": "code",
      "metadata": {
        "colab": {
          "base_uri": "https://localhost:8080/"
        },
        "id": "QxBtlJ1Yxqxl",
        "outputId": "326b6201-99ec-4ebd-c931-9a4a11d8c703"
      },
      "source": [
        "loaded_model.predict(np.expand_dims(image, axis=0))"
      ],
      "execution_count": 11,
      "outputs": [
        {
          "output_type": "execute_result",
          "data": {
            "text/plain": [
              "array([[0.11529317]], dtype=float32)"
            ]
          },
          "metadata": {
            "tags": []
          },
          "execution_count": 11
        }
      ]
    },
    {
      "cell_type": "code",
      "metadata": {
        "id": "d-bN1BlAxqxm"
      },
      "source": [
        "image = process_scan(\"/content/drive/MyDrive/JN/NN/COVID_detection_picture/MRI/sick_7c983eabf45915f3e7e9cae2aa9a5569.nii\")"
      ],
      "execution_count": 12,
      "outputs": []
    },
    {
      "cell_type": "code",
      "metadata": {
        "colab": {
          "base_uri": "https://localhost:8080/"
        },
        "id": "pEi-LF8nxqxm",
        "outputId": "d5d707fe-70dd-4fda-e18c-4788ac0fc568"
      },
      "source": [
        "loaded_model.predict(np.expand_dims(image, axis=0))"
      ],
      "execution_count": 13,
      "outputs": [
        {
          "output_type": "execute_result",
          "data": {
            "text/plain": [
              "array([[0.5004264]], dtype=float32)"
            ]
          },
          "metadata": {
            "tags": []
          },
          "execution_count": 13
        }
      ]
    },
    {
      "cell_type": "code",
      "metadata": {
        "id": "8SyAwDHnlJT7"
      },
      "source": [
        "def main(path):\n",
        "    label_image = ['normal', 'abnormal']\n",
        "    image = process_scan(path)\n",
        "    prediction = loaded_model.predict(np.expand_dims(image, axis=0))[0];\n",
        "    scores = [1 - prediction[0], prediction[0]]\n",
        "    class_names = [\"normal\", \"abnormal\"]\n",
        "    for score, name in zip(scores, class_names):\n",
        "        print(f\"This model is {100 * score:.2f} percent confident that CT scan is {name}\")\n",
        "    if scores[0] > scores[1]:\n",
        "        return [\"0\", str(scores[0])]\n",
        "    else:\n",
        "        return [\"1\", str(scores[1])]"
      ],
      "execution_count": 14,
      "outputs": []
    },
    {
      "cell_type": "code",
      "metadata": {
        "colab": {
          "base_uri": "https://localhost:8080/"
        },
        "id": "D1nYCrsmxqxv",
        "outputId": "be1b4df8-8886-474e-8ce8-860983d313f9"
      },
      "source": [
        "main(\"/content/drive/MyDrive/JN/NN/COVID_detection_picture/MRI/health_0a38b4c71a46ce68c8b48c95b93619b2.nii\")"
      ],
      "execution_count": 15,
      "outputs": [
        {
          "output_type": "stream",
          "text": [
            "This model is 88.47 percent confident that CT scan is normal\n",
            "This model is 11.53 percent confident that CT scan is abnormal\n"
          ],
          "name": "stdout"
        },
        {
          "output_type": "execute_result",
          "data": {
            "text/plain": [
              "['0', '0.8847068250179291']"
            ]
          },
          "metadata": {
            "tags": []
          },
          "execution_count": 15
        }
      ]
    },
    {
      "cell_type": "code",
      "metadata": {
        "colab": {
          "base_uri": "https://localhost:8080/"
        },
        "id": "yqzMVqdDxqyP",
        "outputId": "22fd86a5-d894-476e-b890-aff5cc110b5b"
      },
      "source": [
        "main(\"/content/drive/MyDrive/JN/NN/COVID_detection_picture/MRI/sick_7c7160149aec1ebf15b28166f5458c49.nii\")"
      ],
      "execution_count": 16,
      "outputs": [
        {
          "output_type": "stream",
          "text": [
            "This model is 61.34 percent confident that CT scan is normal\n",
            "This model is 38.66 percent confident that CT scan is abnormal\n"
          ],
          "name": "stdout"
        },
        {
          "output_type": "execute_result",
          "data": {
            "text/plain": [
              "['0', '0.6134120523929596']"
            ]
          },
          "metadata": {
            "tags": []
          },
          "execution_count": 16
        }
      ]
    },
    {
      "cell_type": "code",
      "metadata": {
        "colab": {
          "base_uri": "https://localhost:8080/",
          "height": 35
        },
        "id": "NK8rkjKdpEgZ",
        "outputId": "52bb4ef6-c9db-4f58-da28-011676d255d9"
      },
      "source": [
        "\n",
        "path = \"/content/drive/MyDrive/JN/NN/COVID_detection_picture/README/test_mosmed/\"\n",
        "path"
      ],
      "execution_count": 17,
      "outputs": [
        {
          "output_type": "execute_result",
          "data": {
            "application/vnd.google.colaboratory.intrinsic+json": {
              "type": "string"
            },
            "text/plain": [
              "'/content/drive/MyDrive/JN/NN/COVID_detection_picture/README/test_mosmed/'"
            ]
          },
          "metadata": {
            "tags": []
          },
          "execution_count": 17
        }
      ]
    },
    {
      "cell_type": "code",
      "metadata": {
        "colab": {
          "base_uri": "https://localhost:8080/"
        },
        "id": "rR0_CLGixqyV",
        "outputId": "f8a77022-42e4-4f01-db1c-695af92d803e"
      },
      "source": [
        "len(os.listdir(path))"
      ],
      "execution_count": 18,
      "outputs": [
        {
          "output_type": "execute_result",
          "data": {
            "text/plain": [
              "210"
            ]
          },
          "metadata": {
            "tags": []
          },
          "execution_count": 18
        }
      ]
    },
    {
      "cell_type": "code",
      "metadata": {
        "id": "-_7BS9i_xqyV"
      },
      "source": [
        "# ### создаем энкодер для файлов gzip\n",
        "# def encoder_gzip2nii_(path, output_path = None):\n",
        "# #     global PROJECT_DIR\n",
        "#     os.chdir(path)\n",
        "#     for item in os.listdir(path):\n",
        "#         # print(item)\n",
        "#         if (item.find('.')) > 0:\n",
        "#             # print(str(item.find('.')))\n",
        "#             continue\n",
        "#         else:\n",
        "#             if item.endswith(\".gzip\"):\n",
        "#                 print('Dot not find, GZIP find')\n",
        "#                 input = gzip.GzipFile(item)\n",
        "#                 # print(item)\n",
        "#                 data = input.read()\n",
        "#                 input.close()\n",
        "#             elif item.endswith(\".zip\"):\n",
        "#                 print('Dot not find, ZIP find')\n",
        "#                 input = zipfile.ZipFile.extract(item)\n",
        "#                 # print(item)\n",
        "#                 data = input.read()\n",
        "#                 input.close()\n",
        "#             elif item.endswith(\"\") and (item.find('.') == -1):\n",
        "#                 print('Dot not find, GZIP find')\n",
        "#                 input = gzip.GzipFile(item)\n",
        "#                 # print(item)\n",
        "#                 data = input.read()\n",
        "#                 input.close()\n",
        "#             file_output = path + item + \".nii\"\n",
        "#             output = open(file_output, 'wb')\n",
        "#             output.write(data)\n",
        "#             output.close()\n",
        "#             os.remove(item)\n",
        "# encoder_gzip2nii_(path)"
      ],
      "execution_count": 19,
      "outputs": []
    },
    {
      "cell_type": "code",
      "metadata": {
        "id": "BpYX_UZroYbQ"
      },
      "source": [
        ""
      ],
      "execution_count": 19,
      "outputs": []
    },
    {
      "cell_type": "code",
      "metadata": {
        "colab": {
          "base_uri": "https://localhost:8080/",
          "height": 1000
        },
        "id": "Yi3QCo5klNaY",
        "outputId": "4b03a8c4-e9e8-4520-c25b-9519ea1471f8"
      },
      "source": [
        "### TEST MODEL # AFTER TESTING COMMENT THIS BLOCK ###\n",
        "# print(os.getcwd()) # check path to project folder\n",
        "# path = \"/C:/Users/Admin/Documents/COVID_detection_picture/MRI/\" # full path to image.nii \n",
        "# path = os.getcwd() + \"/MRI/sick_7ff18f5d3de11b9ae7a9e5d651313fbd.nii\" # check classification\n",
        "# print(path) # check full path to image .nii\n",
        "data_decision = pd.DataFrame([], columns = [])\n",
        "for idx, item in enumerate(os.listdir(path)):\n",
        "    if idx <= 500:\n",
        "#         print(idx)\n",
        "#         print()\n",
        "        clf = main(path + item)\n",
        "#         print(item.split(\".\")[:-1], clf)\n",
        "        data_decision = data_decision.append({\"0\" : str(item.split(\".\")[:-1]).strip(\"[' ']\"), \"1\" : clf[0]}, ignore_index = True)\n",
        "#         data_decision.loc[str(item.split(\".\")[:-1]).strip(\"[' ']\")] = clf[0]\n",
        "#         data_decision.loc[idx] = [[str(item.split(\".\")[:-1]).strip(\"[' ']\")], clf[0]]\n",
        "#         print()\n",
        "####################################################\n",
        "data_decision.head()"
      ],
      "execution_count": 20,
      "outputs": [
        {
          "output_type": "stream",
          "text": [
            "This model is 90.68 percent confident that CT scan is normal\n",
            "This model is 9.32 percent confident that CT scan is abnormal\n",
            "This model is 61.79 percent confident that CT scan is normal\n",
            "This model is 38.21 percent confident that CT scan is abnormal\n",
            "This model is 86.93 percent confident that CT scan is normal\n",
            "This model is 13.07 percent confident that CT scan is abnormal\n",
            "This model is 86.26 percent confident that CT scan is normal\n",
            "This model is 13.74 percent confident that CT scan is abnormal\n",
            "This model is 63.71 percent confident that CT scan is normal\n",
            "This model is 36.29 percent confident that CT scan is abnormal\n",
            "This model is 95.26 percent confident that CT scan is normal\n",
            "This model is 4.74 percent confident that CT scan is abnormal\n",
            "This model is 76.52 percent confident that CT scan is normal\n",
            "This model is 23.48 percent confident that CT scan is abnormal\n",
            "This model is 80.80 percent confident that CT scan is normal\n",
            "This model is 19.20 percent confident that CT scan is abnormal\n",
            "This model is 94.21 percent confident that CT scan is normal\n",
            "This model is 5.79 percent confident that CT scan is abnormal\n",
            "This model is 92.69 percent confident that CT scan is normal\n",
            "This model is 7.31 percent confident that CT scan is abnormal\n",
            "This model is 68.31 percent confident that CT scan is normal\n",
            "This model is 31.69 percent confident that CT scan is abnormal\n",
            "This model is 83.42 percent confident that CT scan is normal\n",
            "This model is 16.58 percent confident that CT scan is abnormal\n",
            "This model is 97.26 percent confident that CT scan is normal\n",
            "This model is 2.74 percent confident that CT scan is abnormal\n",
            "This model is 91.86 percent confident that CT scan is normal\n",
            "This model is 8.14 percent confident that CT scan is abnormal\n",
            "This model is 84.25 percent confident that CT scan is normal\n",
            "This model is 15.75 percent confident that CT scan is abnormal\n",
            "This model is 82.91 percent confident that CT scan is normal\n",
            "This model is 17.09 percent confident that CT scan is abnormal\n",
            "This model is 71.52 percent confident that CT scan is normal\n",
            "This model is 28.48 percent confident that CT scan is abnormal\n",
            "This model is 70.01 percent confident that CT scan is normal\n",
            "This model is 29.99 percent confident that CT scan is abnormal\n",
            "This model is 86.06 percent confident that CT scan is normal\n",
            "This model is 13.94 percent confident that CT scan is abnormal\n",
            "This model is 49.31 percent confident that CT scan is normal\n",
            "This model is 50.69 percent confident that CT scan is abnormal\n",
            "This model is 72.65 percent confident that CT scan is normal\n",
            "This model is 27.35 percent confident that CT scan is abnormal\n",
            "This model is 73.13 percent confident that CT scan is normal\n",
            "This model is 26.87 percent confident that CT scan is abnormal\n",
            "This model is 71.47 percent confident that CT scan is normal\n",
            "This model is 28.53 percent confident that CT scan is abnormal\n",
            "This model is 68.68 percent confident that CT scan is normal\n",
            "This model is 31.32 percent confident that CT scan is abnormal\n",
            "This model is 78.97 percent confident that CT scan is normal\n",
            "This model is 21.03 percent confident that CT scan is abnormal\n",
            "This model is 71.16 percent confident that CT scan is normal\n",
            "This model is 28.84 percent confident that CT scan is abnormal\n",
            "This model is 74.25 percent confident that CT scan is normal\n",
            "This model is 25.75 percent confident that CT scan is abnormal\n",
            "This model is 77.86 percent confident that CT scan is normal\n",
            "This model is 22.14 percent confident that CT scan is abnormal\n",
            "This model is 82.21 percent confident that CT scan is normal\n",
            "This model is 17.79 percent confident that CT scan is abnormal\n",
            "This model is 85.10 percent confident that CT scan is normal\n",
            "This model is 14.90 percent confident that CT scan is abnormal\n",
            "This model is 76.49 percent confident that CT scan is normal\n",
            "This model is 23.51 percent confident that CT scan is abnormal\n",
            "This model is 73.56 percent confident that CT scan is normal\n",
            "This model is 26.44 percent confident that CT scan is abnormal\n",
            "This model is 55.47 percent confident that CT scan is normal\n",
            "This model is 44.53 percent confident that CT scan is abnormal\n",
            "This model is 84.56 percent confident that CT scan is normal\n",
            "This model is 15.44 percent confident that CT scan is abnormal\n",
            "This model is 72.71 percent confident that CT scan is normal\n",
            "This model is 27.29 percent confident that CT scan is abnormal\n",
            "This model is 43.99 percent confident that CT scan is normal\n",
            "This model is 56.01 percent confident that CT scan is abnormal\n",
            "This model is 26.39 percent confident that CT scan is normal\n",
            "This model is 73.61 percent confident that CT scan is abnormal\n",
            "This model is 73.44 percent confident that CT scan is normal\n",
            "This model is 26.56 percent confident that CT scan is abnormal\n",
            "This model is 71.71 percent confident that CT scan is normal\n",
            "This model is 28.29 percent confident that CT scan is abnormal\n",
            "This model is 78.30 percent confident that CT scan is normal\n",
            "This model is 21.70 percent confident that CT scan is abnormal\n",
            "This model is 59.30 percent confident that CT scan is normal\n",
            "This model is 40.70 percent confident that CT scan is abnormal\n",
            "This model is 86.61 percent confident that CT scan is normal\n",
            "This model is 13.39 percent confident that CT scan is abnormal\n",
            "This model is 72.32 percent confident that CT scan is normal\n",
            "This model is 27.68 percent confident that CT scan is abnormal\n",
            "This model is 54.15 percent confident that CT scan is normal\n",
            "This model is 45.85 percent confident that CT scan is abnormal\n",
            "This model is 48.73 percent confident that CT scan is normal\n",
            "This model is 51.27 percent confident that CT scan is abnormal\n",
            "This model is 73.13 percent confident that CT scan is normal\n",
            "This model is 26.87 percent confident that CT scan is abnormal\n",
            "This model is 53.95 percent confident that CT scan is normal\n",
            "This model is 46.05 percent confident that CT scan is abnormal\n",
            "This model is 64.64 percent confident that CT scan is normal\n",
            "This model is 35.36 percent confident that CT scan is abnormal\n",
            "This model is 46.94 percent confident that CT scan is normal\n",
            "This model is 53.06 percent confident that CT scan is abnormal\n",
            "This model is 50.98 percent confident that CT scan is normal\n",
            "This model is 49.02 percent confident that CT scan is abnormal\n",
            "This model is 32.21 percent confident that CT scan is normal\n",
            "This model is 67.79 percent confident that CT scan is abnormal\n",
            "This model is 57.33 percent confident that CT scan is normal\n",
            "This model is 42.67 percent confident that CT scan is abnormal\n",
            "This model is 64.60 percent confident that CT scan is normal\n",
            "This model is 35.40 percent confident that CT scan is abnormal\n",
            "This model is 14.67 percent confident that CT scan is normal\n",
            "This model is 85.33 percent confident that CT scan is abnormal\n",
            "This model is 58.63 percent confident that CT scan is normal\n",
            "This model is 41.37 percent confident that CT scan is abnormal\n",
            "This model is 54.80 percent confident that CT scan is normal\n",
            "This model is 45.20 percent confident that CT scan is abnormal\n",
            "This model is 66.86 percent confident that CT scan is normal\n",
            "This model is 33.14 percent confident that CT scan is abnormal\n",
            "This model is 68.83 percent confident that CT scan is normal\n",
            "This model is 31.17 percent confident that CT scan is abnormal\n",
            "This model is 21.36 percent confident that CT scan is normal\n",
            "This model is 78.64 percent confident that CT scan is abnormal\n",
            "This model is 60.13 percent confident that CT scan is normal\n",
            "This model is 39.87 percent confident that CT scan is abnormal\n",
            "This model is 49.78 percent confident that CT scan is normal\n",
            "This model is 50.22 percent confident that CT scan is abnormal\n",
            "This model is 65.04 percent confident that CT scan is normal\n",
            "This model is 34.96 percent confident that CT scan is abnormal\n",
            "This model is 53.98 percent confident that CT scan is normal\n",
            "This model is 46.02 percent confident that CT scan is abnormal\n",
            "This model is 44.92 percent confident that CT scan is normal\n",
            "This model is 55.08 percent confident that CT scan is abnormal\n",
            "This model is 52.83 percent confident that CT scan is normal\n",
            "This model is 47.17 percent confident that CT scan is abnormal\n",
            "This model is 40.26 percent confident that CT scan is normal\n",
            "This model is 59.74 percent confident that CT scan is abnormal\n",
            "This model is 38.96 percent confident that CT scan is normal\n",
            "This model is 61.04 percent confident that CT scan is abnormal\n",
            "This model is 82.49 percent confident that CT scan is normal\n",
            "This model is 17.51 percent confident that CT scan is abnormal\n",
            "This model is 73.57 percent confident that CT scan is normal\n",
            "This model is 26.43 percent confident that CT scan is abnormal\n",
            "This model is 48.07 percent confident that CT scan is normal\n",
            "This model is 51.93 percent confident that CT scan is abnormal\n",
            "This model is 30.75 percent confident that CT scan is normal\n",
            "This model is 69.25 percent confident that CT scan is abnormal\n",
            "This model is 73.70 percent confident that CT scan is normal\n",
            "This model is 26.30 percent confident that CT scan is abnormal\n",
            "This model is 55.00 percent confident that CT scan is normal\n",
            "This model is 45.00 percent confident that CT scan is abnormal\n",
            "This model is 40.56 percent confident that CT scan is normal\n",
            "This model is 59.44 percent confident that CT scan is abnormal\n",
            "This model is 61.96 percent confident that CT scan is normal\n",
            "This model is 38.04 percent confident that CT scan is abnormal\n",
            "This model is 43.51 percent confident that CT scan is normal\n",
            "This model is 56.49 percent confident that CT scan is abnormal\n",
            "This model is 49.73 percent confident that CT scan is normal\n",
            "This model is 50.27 percent confident that CT scan is abnormal\n",
            "This model is 51.53 percent confident that CT scan is normal\n",
            "This model is 48.47 percent confident that CT scan is abnormal\n",
            "This model is 62.00 percent confident that CT scan is normal\n",
            "This model is 38.00 percent confident that CT scan is abnormal\n",
            "This model is 29.19 percent confident that CT scan is normal\n",
            "This model is 70.81 percent confident that CT scan is abnormal\n",
            "This model is 43.15 percent confident that CT scan is normal\n",
            "This model is 56.85 percent confident that CT scan is abnormal\n",
            "This model is 47.07 percent confident that CT scan is normal\n",
            "This model is 52.93 percent confident that CT scan is abnormal\n",
            "This model is 64.32 percent confident that CT scan is normal\n",
            "This model is 35.68 percent confident that CT scan is abnormal\n",
            "This model is 45.61 percent confident that CT scan is normal\n",
            "This model is 54.39 percent confident that CT scan is abnormal\n",
            "This model is 57.19 percent confident that CT scan is normal\n",
            "This model is 42.81 percent confident that CT scan is abnormal\n",
            "This model is 72.44 percent confident that CT scan is normal\n",
            "This model is 27.56 percent confident that CT scan is abnormal\n",
            "This model is 69.54 percent confident that CT scan is normal\n",
            "This model is 30.46 percent confident that CT scan is abnormal\n",
            "This model is 41.05 percent confident that CT scan is normal\n",
            "This model is 58.95 percent confident that CT scan is abnormal\n",
            "This model is 50.07 percent confident that CT scan is normal\n",
            "This model is 49.93 percent confident that CT scan is abnormal\n",
            "This model is 75.86 percent confident that CT scan is normal\n",
            "This model is 24.14 percent confident that CT scan is abnormal\n",
            "This model is 53.04 percent confident that CT scan is normal\n",
            "This model is 46.96 percent confident that CT scan is abnormal\n",
            "This model is 71.24 percent confident that CT scan is normal\n",
            "This model is 28.76 percent confident that CT scan is abnormal\n",
            "This model is 34.37 percent confident that CT scan is normal\n",
            "This model is 65.63 percent confident that CT scan is abnormal\n",
            "This model is 69.12 percent confident that CT scan is normal\n",
            "This model is 30.88 percent confident that CT scan is abnormal\n",
            "This model is 58.65 percent confident that CT scan is normal\n",
            "This model is 41.35 percent confident that CT scan is abnormal\n",
            "This model is 59.17 percent confident that CT scan is normal\n",
            "This model is 40.83 percent confident that CT scan is abnormal\n",
            "This model is 76.87 percent confident that CT scan is normal\n",
            "This model is 23.13 percent confident that CT scan is abnormal\n",
            "This model is 26.28 percent confident that CT scan is normal\n",
            "This model is 73.72 percent confident that CT scan is abnormal\n",
            "This model is 27.17 percent confident that CT scan is normal\n",
            "This model is 72.83 percent confident that CT scan is abnormal\n",
            "This model is 77.12 percent confident that CT scan is normal\n",
            "This model is 22.88 percent confident that CT scan is abnormal\n",
            "This model is 76.22 percent confident that CT scan is normal\n",
            "This model is 23.78 percent confident that CT scan is abnormal\n",
            "This model is 69.16 percent confident that CT scan is normal\n",
            "This model is 30.84 percent confident that CT scan is abnormal\n",
            "This model is 79.28 percent confident that CT scan is normal\n",
            "This model is 20.72 percent confident that CT scan is abnormal\n",
            "This model is 67.91 percent confident that CT scan is normal\n",
            "This model is 32.09 percent confident that CT scan is abnormal\n",
            "This model is 48.58 percent confident that CT scan is normal\n",
            "This model is 51.42 percent confident that CT scan is abnormal\n",
            "This model is 54.47 percent confident that CT scan is normal\n",
            "This model is 45.53 percent confident that CT scan is abnormal\n",
            "This model is 66.37 percent confident that CT scan is normal\n",
            "This model is 33.63 percent confident that CT scan is abnormal\n",
            "This model is 57.79 percent confident that CT scan is normal\n",
            "This model is 42.21 percent confident that CT scan is abnormal\n",
            "This model is 46.65 percent confident that CT scan is normal\n",
            "This model is 53.35 percent confident that CT scan is abnormal\n",
            "This model is 61.92 percent confident that CT scan is normal\n",
            "This model is 38.08 percent confident that CT scan is abnormal\n",
            "This model is 46.55 percent confident that CT scan is normal\n",
            "This model is 53.45 percent confident that CT scan is abnormal\n",
            "This model is 50.50 percent confident that CT scan is normal\n",
            "This model is 49.50 percent confident that CT scan is abnormal\n",
            "This model is 68.89 percent confident that CT scan is normal\n",
            "This model is 31.11 percent confident that CT scan is abnormal\n",
            "This model is 61.19 percent confident that CT scan is normal\n",
            "This model is 38.81 percent confident that CT scan is abnormal\n",
            "This model is 49.44 percent confident that CT scan is normal\n",
            "This model is 50.56 percent confident that CT scan is abnormal\n",
            "This model is 54.13 percent confident that CT scan is normal\n",
            "This model is 45.87 percent confident that CT scan is abnormal\n",
            "This model is 74.98 percent confident that CT scan is normal\n",
            "This model is 25.02 percent confident that CT scan is abnormal\n",
            "This model is 50.51 percent confident that CT scan is normal\n",
            "This model is 49.49 percent confident that CT scan is abnormal\n",
            "This model is 67.99 percent confident that CT scan is normal\n",
            "This model is 32.01 percent confident that CT scan is abnormal\n",
            "This model is 24.49 percent confident that CT scan is normal\n",
            "This model is 75.51 percent confident that CT scan is abnormal\n",
            "This model is 64.44 percent confident that CT scan is normal\n",
            "This model is 35.56 percent confident that CT scan is abnormal\n",
            "This model is 37.87 percent confident that CT scan is normal\n",
            "This model is 62.13 percent confident that CT scan is abnormal\n",
            "This model is 55.04 percent confident that CT scan is normal\n",
            "This model is 44.96 percent confident that CT scan is abnormal\n",
            "This model is 65.12 percent confident that CT scan is normal\n",
            "This model is 34.88 percent confident that CT scan is abnormal\n",
            "This model is 47.14 percent confident that CT scan is normal\n",
            "This model is 52.86 percent confident that CT scan is abnormal\n",
            "This model is 64.74 percent confident that CT scan is normal\n",
            "This model is 35.26 percent confident that CT scan is abnormal\n",
            "This model is 40.92 percent confident that CT scan is normal\n",
            "This model is 59.08 percent confident that CT scan is abnormal\n",
            "This model is 55.67 percent confident that CT scan is normal\n",
            "This model is 44.33 percent confident that CT scan is abnormal\n",
            "This model is 41.31 percent confident that CT scan is normal\n",
            "This model is 58.69 percent confident that CT scan is abnormal\n",
            "This model is 81.08 percent confident that CT scan is normal\n",
            "This model is 18.92 percent confident that CT scan is abnormal\n",
            "This model is 81.15 percent confident that CT scan is normal\n",
            "This model is 18.85 percent confident that CT scan is abnormal\n",
            "This model is 71.40 percent confident that CT scan is normal\n",
            "This model is 28.60 percent confident that CT scan is abnormal\n",
            "This model is 77.89 percent confident that CT scan is normal\n",
            "This model is 22.11 percent confident that CT scan is abnormal\n",
            "This model is 47.14 percent confident that CT scan is normal\n",
            "This model is 52.86 percent confident that CT scan is abnormal\n",
            "This model is 51.32 percent confident that CT scan is normal\n",
            "This model is 48.68 percent confident that CT scan is abnormal\n",
            "This model is 64.42 percent confident that CT scan is normal\n",
            "This model is 35.58 percent confident that CT scan is abnormal\n",
            "This model is 62.49 percent confident that CT scan is normal\n",
            "This model is 37.51 percent confident that CT scan is abnormal\n",
            "This model is 74.45 percent confident that CT scan is normal\n",
            "This model is 25.55 percent confident that CT scan is abnormal\n",
            "This model is 61.21 percent confident that CT scan is normal\n",
            "This model is 38.79 percent confident that CT scan is abnormal\n",
            "This model is 48.55 percent confident that CT scan is normal\n",
            "This model is 51.45 percent confident that CT scan is abnormal\n",
            "This model is 14.31 percent confident that CT scan is normal\n",
            "This model is 85.69 percent confident that CT scan is abnormal\n",
            "This model is 56.09 percent confident that CT scan is normal\n",
            "This model is 43.91 percent confident that CT scan is abnormal\n",
            "This model is 46.36 percent confident that CT scan is normal\n",
            "This model is 53.64 percent confident that CT scan is abnormal\n",
            "This model is 57.88 percent confident that CT scan is normal\n",
            "This model is 42.12 percent confident that CT scan is abnormal\n",
            "This model is 58.00 percent confident that CT scan is normal\n",
            "This model is 42.00 percent confident that CT scan is abnormal\n",
            "This model is 49.83 percent confident that CT scan is normal\n",
            "This model is 50.17 percent confident that CT scan is abnormal\n",
            "This model is 57.65 percent confident that CT scan is normal\n",
            "This model is 42.35 percent confident that CT scan is abnormal\n",
            "This model is 54.83 percent confident that CT scan is normal\n",
            "This model is 45.17 percent confident that CT scan is abnormal\n",
            "This model is 55.92 percent confident that CT scan is normal\n",
            "This model is 44.08 percent confident that CT scan is abnormal\n",
            "This model is 24.58 percent confident that CT scan is normal\n",
            "This model is 75.42 percent confident that CT scan is abnormal\n",
            "This model is 72.53 percent confident that CT scan is normal\n",
            "This model is 27.47 percent confident that CT scan is abnormal\n",
            "This model is 51.40 percent confident that CT scan is normal\n",
            "This model is 48.60 percent confident that CT scan is abnormal\n",
            "This model is 68.09 percent confident that CT scan is normal\n",
            "This model is 31.91 percent confident that CT scan is abnormal\n",
            "This model is 47.26 percent confident that CT scan is normal\n",
            "This model is 52.74 percent confident that CT scan is abnormal\n",
            "This model is 32.46 percent confident that CT scan is normal\n",
            "This model is 67.54 percent confident that CT scan is abnormal\n",
            "This model is 83.74 percent confident that CT scan is normal\n",
            "This model is 16.26 percent confident that CT scan is abnormal\n",
            "This model is 50.35 percent confident that CT scan is normal\n",
            "This model is 49.65 percent confident that CT scan is abnormal\n",
            "This model is 62.54 percent confident that CT scan is normal\n",
            "This model is 37.46 percent confident that CT scan is abnormal\n",
            "This model is 61.42 percent confident that CT scan is normal\n",
            "This model is 38.58 percent confident that CT scan is abnormal\n",
            "This model is 41.38 percent confident that CT scan is normal\n",
            "This model is 58.62 percent confident that CT scan is abnormal\n",
            "This model is 74.99 percent confident that CT scan is normal\n",
            "This model is 25.01 percent confident that CT scan is abnormal\n",
            "This model is 84.20 percent confident that CT scan is normal\n",
            "This model is 15.80 percent confident that CT scan is abnormal\n",
            "This model is 81.71 percent confident that CT scan is normal\n",
            "This model is 18.29 percent confident that CT scan is abnormal\n",
            "This model is 54.86 percent confident that CT scan is normal\n",
            "This model is 45.14 percent confident that CT scan is abnormal\n",
            "This model is 48.73 percent confident that CT scan is normal\n",
            "This model is 51.27 percent confident that CT scan is abnormal\n",
            "This model is 86.54 percent confident that CT scan is normal\n",
            "This model is 13.46 percent confident that CT scan is abnormal\n",
            "This model is 42.07 percent confident that CT scan is normal\n",
            "This model is 57.93 percent confident that CT scan is abnormal\n",
            "This model is 78.77 percent confident that CT scan is normal\n",
            "This model is 21.23 percent confident that CT scan is abnormal\n",
            "This model is 44.93 percent confident that CT scan is normal\n",
            "This model is 55.07 percent confident that CT scan is abnormal\n",
            "This model is 89.10 percent confident that CT scan is normal\n",
            "This model is 10.90 percent confident that CT scan is abnormal\n",
            "This model is 34.57 percent confident that CT scan is normal\n",
            "This model is 65.43 percent confident that CT scan is abnormal\n",
            "This model is 43.34 percent confident that CT scan is normal\n",
            "This model is 56.66 percent confident that CT scan is abnormal\n",
            "This model is 23.42 percent confident that CT scan is normal\n",
            "This model is 76.58 percent confident that CT scan is abnormal\n",
            "This model is 52.58 percent confident that CT scan is normal\n",
            "This model is 47.42 percent confident that CT scan is abnormal\n",
            "This model is 50.37 percent confident that CT scan is normal\n",
            "This model is 49.63 percent confident that CT scan is abnormal\n",
            "This model is 48.03 percent confident that CT scan is normal\n",
            "This model is 51.97 percent confident that CT scan is abnormal\n",
            "This model is 40.25 percent confident that CT scan is normal\n",
            "This model is 59.75 percent confident that CT scan is abnormal\n",
            "This model is 60.31 percent confident that CT scan is normal\n",
            "This model is 39.69 percent confident that CT scan is abnormal\n",
            "This model is 82.72 percent confident that CT scan is normal\n",
            "This model is 17.28 percent confident that CT scan is abnormal\n",
            "This model is 77.58 percent confident that CT scan is normal\n",
            "This model is 22.42 percent confident that CT scan is abnormal\n",
            "This model is 83.27 percent confident that CT scan is normal\n",
            "This model is 16.73 percent confident that CT scan is abnormal\n",
            "This model is 64.52 percent confident that CT scan is normal\n",
            "This model is 35.48 percent confident that CT scan is abnormal\n",
            "This model is 69.66 percent confident that CT scan is normal\n",
            "This model is 30.34 percent confident that CT scan is abnormal\n",
            "This model is 73.31 percent confident that CT scan is normal\n",
            "This model is 26.69 percent confident that CT scan is abnormal\n",
            "This model is 49.80 percent confident that CT scan is normal\n",
            "This model is 50.20 percent confident that CT scan is abnormal\n",
            "This model is 50.28 percent confident that CT scan is normal\n",
            "This model is 49.72 percent confident that CT scan is abnormal\n",
            "This model is 39.72 percent confident that CT scan is normal\n",
            "This model is 60.28 percent confident that CT scan is abnormal\n",
            "This model is 53.01 percent confident that CT scan is normal\n",
            "This model is 46.99 percent confident that CT scan is abnormal\n",
            "This model is 17.13 percent confident that CT scan is normal\n",
            "This model is 82.87 percent confident that CT scan is abnormal\n",
            "This model is 48.75 percent confident that CT scan is normal\n",
            "This model is 51.25 percent confident that CT scan is abnormal\n",
            "This model is 74.70 percent confident that CT scan is normal\n",
            "This model is 25.30 percent confident that CT scan is abnormal\n",
            "This model is 42.04 percent confident that CT scan is normal\n",
            "This model is 57.96 percent confident that CT scan is abnormal\n",
            "This model is 58.88 percent confident that CT scan is normal\n",
            "This model is 41.12 percent confident that CT scan is abnormal\n",
            "This model is 53.72 percent confident that CT scan is normal\n",
            "This model is 46.28 percent confident that CT scan is abnormal\n",
            "This model is 59.54 percent confident that CT scan is normal\n",
            "This model is 40.46 percent confident that CT scan is abnormal\n",
            "This model is 30.64 percent confident that CT scan is normal\n",
            "This model is 69.36 percent confident that CT scan is abnormal\n",
            "This model is 63.19 percent confident that CT scan is normal\n",
            "This model is 36.81 percent confident that CT scan is abnormal\n",
            "This model is 71.08 percent confident that CT scan is normal\n",
            "This model is 28.92 percent confident that CT scan is abnormal\n",
            "This model is 28.08 percent confident that CT scan is normal\n",
            "This model is 71.92 percent confident that CT scan is abnormal\n",
            "This model is 29.39 percent confident that CT scan is normal\n",
            "This model is 70.61 percent confident that CT scan is abnormal\n",
            "This model is 70.88 percent confident that CT scan is normal\n",
            "This model is 29.12 percent confident that CT scan is abnormal\n",
            "This model is 58.71 percent confident that CT scan is normal\n",
            "This model is 41.29 percent confident that CT scan is abnormal\n",
            "This model is 61.72 percent confident that CT scan is normal\n",
            "This model is 38.28 percent confident that CT scan is abnormal\n",
            "This model is 42.08 percent confident that CT scan is normal\n",
            "This model is 57.92 percent confident that CT scan is abnormal\n",
            "This model is 44.21 percent confident that CT scan is normal\n",
            "This model is 55.79 percent confident that CT scan is abnormal\n",
            "This model is 61.32 percent confident that CT scan is normal\n",
            "This model is 38.68 percent confident that CT scan is abnormal\n",
            "This model is 71.21 percent confident that CT scan is normal\n",
            "This model is 28.79 percent confident that CT scan is abnormal\n",
            "This model is 58.81 percent confident that CT scan is normal\n",
            "This model is 41.19 percent confident that CT scan is abnormal\n",
            "This model is 60.12 percent confident that CT scan is normal\n",
            "This model is 39.88 percent confident that CT scan is abnormal\n",
            "This model is 88.72 percent confident that CT scan is normal\n",
            "This model is 11.28 percent confident that CT scan is abnormal\n"
          ],
          "name": "stdout"
        },
        {
          "output_type": "execute_result",
          "data": {
            "text/html": [
              "<div>\n",
              "<style scoped>\n",
              "    .dataframe tbody tr th:only-of-type {\n",
              "        vertical-align: middle;\n",
              "    }\n",
              "\n",
              "    .dataframe tbody tr th {\n",
              "        vertical-align: top;\n",
              "    }\n",
              "\n",
              "    .dataframe thead th {\n",
              "        text-align: right;\n",
              "    }\n",
              "</style>\n",
              "<table border=\"1\" class=\"dataframe\">\n",
              "  <thead>\n",
              "    <tr style=\"text-align: right;\">\n",
              "      <th></th>\n",
              "      <th>0</th>\n",
              "      <th>1</th>\n",
              "    </tr>\n",
              "  </thead>\n",
              "  <tbody>\n",
              "    <tr>\n",
              "      <th>0</th>\n",
              "      <td>2bdf912317531b7e04b69f1341745263</td>\n",
              "      <td>0</td>\n",
              "    </tr>\n",
              "    <tr>\n",
              "      <th>1</th>\n",
              "      <td>5d9dff8db2a8f5c55430cfda670ccbf0</td>\n",
              "      <td>0</td>\n",
              "    </tr>\n",
              "    <tr>\n",
              "      <th>2</th>\n",
              "      <td>451fb9a76ca9a9f1b91b5e22640dc620</td>\n",
              "      <td>0</td>\n",
              "    </tr>\n",
              "    <tr>\n",
              "      <th>3</th>\n",
              "      <td>afc895f528c791d932ff0c2cfbd5ff21</td>\n",
              "      <td>0</td>\n",
              "    </tr>\n",
              "    <tr>\n",
              "      <th>4</th>\n",
              "      <td>d722c5de0139536981f0d916587d63b3</td>\n",
              "      <td>0</td>\n",
              "    </tr>\n",
              "  </tbody>\n",
              "</table>\n",
              "</div>"
            ],
            "text/plain": [
              "                                  0  1\n",
              "0  2bdf912317531b7e04b69f1341745263  0\n",
              "1  5d9dff8db2a8f5c55430cfda670ccbf0  0\n",
              "2  451fb9a76ca9a9f1b91b5e22640dc620  0\n",
              "3  afc895f528c791d932ff0c2cfbd5ff21  0\n",
              "4  d722c5de0139536981f0d916587d63b3  0"
            ]
          },
          "metadata": {
            "tags": []
          },
          "execution_count": 20
        }
      ]
    },
    {
      "cell_type": "code",
      "metadata": {
        "colab": {
          "base_uri": "https://localhost:8080/"
        },
        "id": "XIeV_IqNxqyb",
        "outputId": "578edf8f-7b1b-4882-93f8-7a00b8386475"
      },
      "source": [
        "data_decision.shape"
      ],
      "execution_count": 21,
      "outputs": [
        {
          "output_type": "execute_result",
          "data": {
            "text/plain": [
              "(210, 2)"
            ]
          },
          "metadata": {
            "tags": []
          },
          "execution_count": 21
        }
      ]
    },
    {
      "cell_type": "code",
      "metadata": {
        "id": "rMyN9HWwxqyc"
      },
      "source": [
        "data_decision.to_csv(\"data_decision.csv\", sep = ',', \n",
        "                     header = False,  columns = None, \n",
        "                     index = False, index_label = '0',)"
      ],
      "execution_count": 22,
      "outputs": []
    },
    {
      "cell_type": "code",
      "metadata": {
        "colab": {
          "base_uri": "https://localhost:8080/",
          "height": 204
        },
        "id": "EzPro4_3wPrV",
        "outputId": "dea4be41-fb39-450d-caa2-13da794f8169"
      },
      "source": [
        "df = pd.read_csv(\"data_decision.csv\")\n",
        "df.head()"
      ],
      "execution_count": 23,
      "outputs": [
        {
          "output_type": "execute_result",
          "data": {
            "text/html": [
              "<div>\n",
              "<style scoped>\n",
              "    .dataframe tbody tr th:only-of-type {\n",
              "        vertical-align: middle;\n",
              "    }\n",
              "\n",
              "    .dataframe tbody tr th {\n",
              "        vertical-align: top;\n",
              "    }\n",
              "\n",
              "    .dataframe thead th {\n",
              "        text-align: right;\n",
              "    }\n",
              "</style>\n",
              "<table border=\"1\" class=\"dataframe\">\n",
              "  <thead>\n",
              "    <tr style=\"text-align: right;\">\n",
              "      <th></th>\n",
              "      <th>2bdf912317531b7e04b69f1341745263</th>\n",
              "      <th>0</th>\n",
              "    </tr>\n",
              "  </thead>\n",
              "  <tbody>\n",
              "    <tr>\n",
              "      <th>0</th>\n",
              "      <td>5d9dff8db2a8f5c55430cfda670ccbf0</td>\n",
              "      <td>0</td>\n",
              "    </tr>\n",
              "    <tr>\n",
              "      <th>1</th>\n",
              "      <td>451fb9a76ca9a9f1b91b5e22640dc620</td>\n",
              "      <td>0</td>\n",
              "    </tr>\n",
              "    <tr>\n",
              "      <th>2</th>\n",
              "      <td>afc895f528c791d932ff0c2cfbd5ff21</td>\n",
              "      <td>0</td>\n",
              "    </tr>\n",
              "    <tr>\n",
              "      <th>3</th>\n",
              "      <td>d722c5de0139536981f0d916587d63b3</td>\n",
              "      <td>0</td>\n",
              "    </tr>\n",
              "    <tr>\n",
              "      <th>4</th>\n",
              "      <td>25c98bca3c60245b4b54d2e7ada4467a</td>\n",
              "      <td>0</td>\n",
              "    </tr>\n",
              "  </tbody>\n",
              "</table>\n",
              "</div>"
            ],
            "text/plain": [
              "   2bdf912317531b7e04b69f1341745263  0\n",
              "0  5d9dff8db2a8f5c55430cfda670ccbf0  0\n",
              "1  451fb9a76ca9a9f1b91b5e22640dc620  0\n",
              "2  afc895f528c791d932ff0c2cfbd5ff21  0\n",
              "3  d722c5de0139536981f0d916587d63b3  0\n",
              "4  25c98bca3c60245b4b54d2e7ada4467a  0"
            ]
          },
          "metadata": {
            "tags": []
          },
          "execution_count": 23
        }
      ]
    },
    {
      "cell_type": "code",
      "metadata": {
        "colab": {
          "base_uri": "https://localhost:8080/"
        },
        "id": "55thh2Ezxqyi",
        "outputId": "250cf38f-3ce5-4147-ce50-fae221889fa1"
      },
      "source": [
        "import csv\n",
        "with open(\"data_decision.csv\", 'r') as f_obj:\n",
        "    read = csv.reader(f_obj)\n",
        "    try:\n",
        "        read == None\n",
        "        print('Data')\n",
        "    except:\n",
        "        print('Data is empty')"
      ],
      "execution_count": 24,
      "outputs": [
        {
          "output_type": "stream",
          "text": [
            "Data\n"
          ],
          "name": "stdout"
        }
      ]
    },
    {
      "cell_type": "code",
      "metadata": {
        "colab": {
          "base_uri": "https://localhost:8080/"
        },
        "id": "1UQfg7wUwX1I",
        "outputId": "ef3c21cd-2844-4924-8a7f-5a96927b396f"
      },
      "source": [
        "t_finish = dt.datetime.now() - t_start\n",
        "t_finish.seconds"
      ],
      "execution_count": 25,
      "outputs": [
        {
          "output_type": "execute_result",
          "data": {
            "text/plain": [
              "390"
            ]
          },
          "metadata": {
            "tags": []
          },
          "execution_count": 25
        }
      ]
    }
  ]
}