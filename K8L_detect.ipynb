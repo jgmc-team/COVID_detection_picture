{
 "cells": [
  {
   "cell_type": "code",
   "execution_count": 1,
   "id": "express-separate",
   "metadata": {
    "executionInfo": {
     "elapsed": 820,
     "status": "ok",
     "timestamp": 1613507905022,
     "user": {
      "displayName": "Диана С",
      "photoUrl": "",
      "userId": "10343442678953401424"
     },
     "user_tz": -180
    },
    "id": "aware-champagne"
   },
   "outputs": [],
   "source": [
    "#  !pip install -q pyyaml h5py\n",
    "# !pip install https://github.com/ipython-contrib/jupyter_contrib_nbextensions/tarball/master\n",
    "# !pip install jupyter_nbextensions_configurator\n",
    "# !jupyter contrib nbextension install --user\n",
    "# !jupyter nbextensions_configurator enable --user"
   ]
  },
  {
   "cell_type": "code",
   "execution_count": 2,
   "id": "military-jamaica",
   "metadata": {
    "executionInfo": {
     "elapsed": 1164,
     "status": "ok",
     "timestamp": 1613507905374,
     "user": {
      "displayName": "Диана С",
      "photoUrl": "",
      "userId": "10343442678953401424"
     },
     "user_tz": -180
    },
    "id": "blind-finish"
   },
   "outputs": [],
   "source": [
    "import datetime as dt\n",
    "# t_start = dt.datetime.now()"
   ]
  },
  {
   "cell_type": "code",
   "execution_count": 3,
   "id": "whole-gasoline",
   "metadata": {
    "colab": {
     "base_uri": "https://localhost:8080/"
    },
    "executionInfo": {
     "elapsed": 30961,
     "status": "ok",
     "timestamp": 1613507935184,
     "user": {
      "displayName": "Диана С",
      "photoUrl": "",
      "userId": "10343442678953401424"
     },
     "user_tz": -180
    },
    "id": "Yc1ZXnfjoEtK",
    "outputId": "dd4e1b56-cf43-431b-9619-bfa8de4b6b7a"
   },
   "outputs": [],
   "source": [
    "try:\n",
    "    from google.colab import drive\n",
    "    drive.mount('/content/drive')\n",
    "    ABS_PATH = '/content/drive/MyDrive/JN/NN/COVID_detection_picture'\n",
    "except ModuleNotFoundError:\n",
    "    from os import getcwd\n",
    "    ABS_PATH = getcwd()"
   ]
  },
  {
   "cell_type": "code",
   "execution_count": 4,
   "id": "early-cotton",
   "metadata": {
    "executionInfo": {
     "elapsed": 33831,
     "status": "ok",
     "timestamp": 1613507938057,
     "user": {
      "displayName": "Диана С",
      "photoUrl": "",
      "userId": "10343442678953401424"
     },
     "user_tz": -180
    },
    "id": "relevant-saudi"
   },
   "outputs": [],
   "source": [
    "import os\n",
    "import gzip\n",
    "import numba\n",
    "import zipfile\n",
    "\n",
    "import nibabel as nib\n",
    "from scipy import ndimage\n",
    "import scipy.special as sc\n",
    "\n",
    "import numpy as np\n",
    "from numba import jit\n",
    "from numba import njit\n",
    "import threading as tr\n",
    "\n",
    "import tensorflow as tf\n",
    "from tensorflow import keras\n",
    "from tensorflow.keras import layers\n",
    "import matplotlib.pyplot as plt\n",
    "\n",
    "\n",
    "### numba warrnings ###########\n",
    "from numba import NumbaDeprecationWarning, NumbaPendingDeprecationWarning\n",
    "import warnings\n",
    "\n",
    "warnings.simplefilter('ignore', category=NumbaDeprecationWarning)\n",
    "warnings.simplefilter('ignore', category=NumbaPendingDeprecationWarning)"
   ]
  },
  {
   "cell_type": "code",
   "execution_count": 5,
   "id": "worst-karen",
   "metadata": {
    "executionInfo": {
     "elapsed": 33831,
     "status": "ok",
     "timestamp": 1613507938060,
     "user": {
      "displayName": "Диана С",
      "photoUrl": "",
      "userId": "10343442678953401424"
     },
     "user_tz": -180
    },
    "id": "compliant-appliance"
   },
   "outputs": [],
   "source": [
    "# def get_model_8L_(width=128, height=128, depth=64):\n",
    "#     \"\"\"Build a 3D convolutional neural network model.\"\"\"\n",
    "\n",
    "#     inputs = keras.Input((width, height, depth, 1))\n",
    "\n",
    "#     x = layers.Conv3D(filters=64, kernel_size=3, activation=\"relu\")(inputs)\n",
    "#     x = layers.MaxPool3D(pool_size=2)(x)\n",
    "#     x = layers.BatchNormalization(center=True, scale=True)(x)\n",
    "#     \n",
    "\n",
    "#     x = layers.Conv3D(filters=64, kernel_size=3, activation=\"relu\")(x)\n",
    "#     x = layers.MaxPool3D(pool_size=2)(x)\n",
    "#     x = layers.BatchNormalization(center=True, scale=True)(x)\n",
    "#    \n",
    "\n",
    "\n",
    "#     ### add 64N layer ##################################################\n",
    "#     x = layers.Conv3D(filters=64, kernel_size=3, activation=\"relu\")(x)\n",
    "#     x = layers.MaxPool3D(pool_size=2)(x)\n",
    "#     x = layers.BatchNormalization(center=True, scale=True)(x)\n",
    "#  \n",
    "\n",
    "#     x = layers.Conv3D(filters=128, kernel_size=3, activation=\"relu\")(x)\n",
    "#     x = layers.MaxPool3D(pool_size=1)(x)\n",
    "#     x = layers.BatchNormalization(center=True, scale=True)(x)\n",
    "#    \n",
    "\n",
    "#     x = layers.Conv3D(filters=256, kernel_size=3, activation=\"relu\")(x)\n",
    "#     x = layers.MaxPool3D(pool_size=2)(x)\n",
    "#     x = layers.BatchNormalization()(x)\n",
    "\n",
    "#     x = layers.GlobalAveragePooling3D()(x)\n",
    "#     x = layers.Dense(units=512, activation=\"relu\")(x)\n",
    "#     x = layers.Dropout(0.3)(x)\n",
    "\n",
    "#     outputs = layers.Dense(units=1, activation=\"sigmoid\")(x)\n",
    "\n",
    "#     # Define the model.\n",
    "#     model = keras.Model(inputs, outputs, name=\"3dcnn\")\n",
    "#     return model"
   ]
  },
  {
   "cell_type": "code",
   "execution_count": 6,
   "id": "postal-kitty",
   "metadata": {
    "executionInfo": {
     "elapsed": 35960,
     "status": "ok",
     "timestamp": 1613507940193,
     "user": {
      "displayName": "Диана С",
      "photoUrl": "",
      "userId": "10343442678953401424"
     },
     "user_tz": -180
    },
    "id": "promising-bhutan"
   },
   "outputs": [],
   "source": [
    "# @tf.function(input_signature=(tf.TensorSpec(shape=[None], dtype=tf.int32),))\n",
    "def create_model_():\n",
    "    # Loads the weights\n",
    "    loaded_model = keras.models.load_model(ABS_PATH + \"/Keras/model/model_keras_F1_0819.h5\")\n",
    "    # model.load_weights(checkpoint_path)\n",
    "    return loaded_model\n",
    "    # model.summary()\n",
    "loaded_model = create_model_()"
   ]
  },
  {
   "cell_type": "code",
   "execution_count": 7,
   "id": "royal-practice",
   "metadata": {
    "executionInfo": {
     "elapsed": 35963,
     "status": "ok",
     "timestamp": 1613507940199,
     "user": {
      "displayName": "Диана С",
      "photoUrl": "",
      "userId": "10343442678953401424"
     },
     "user_tz": -180
    },
    "id": "limited-reynolds"
   },
   "outputs": [],
   "source": [
    "def read_nifti_file(filepath):\n",
    "    \"\"\"Read and load volume\"\"\"\n",
    "    # Read file\n",
    "    scan = nib.load(filepath)\n",
    "    # Get raw data\n",
    "    scan = scan.get_fdata()\n",
    "    return scan\n",
    "def normalize(volume):\n",
    "    \"\"\"Normalize the volume\"\"\"\n",
    "    min = -1000\n",
    "    max = 400\n",
    "    volume[volume < min] = min\n",
    "    volume[volume > max] = max\n",
    "    volume = (volume - min) / (max - min)\n",
    "    volume = volume.astype(\"float32\")\n",
    "    return volume\n",
    "\n",
    "# @jit(parallel=True, cache=True, )\n",
    "def resize_volume(img):\n",
    "    \"\"\"Resize across z-axis\"\"\"\n",
    "    # Set the desired depth\n",
    "    # desired_depth = 64 #old\n",
    "    desired_depth = 64\n",
    "    desired_width = 128\n",
    "    desired_height = 128\n",
    "    # Get current depth\n",
    "    current_depth = img.shape[-1]\n",
    "    current_width = img.shape[0]\n",
    "    current_height = img.shape[1]\n",
    "    # Compute depth factor\n",
    "    depth = current_depth / desired_depth\n",
    "    width = current_width / desired_width\n",
    "    height = current_height / desired_height\n",
    "    depth_factor = 1 / depth\n",
    "    width_factor = 1 / width\n",
    "    height_factor = 1 / height\n",
    "    # Rotate\n",
    "    # img = ndimage.rotate(img, 90, reshape=False)\n",
    "    img = np.rot90(img)\n",
    "    # Resize across z-axis\n",
    "    img = ndimage.zoom(img, (width_factor, height_factor, depth_factor), order=1)\n",
    "    return img\n",
    "\n",
    "\n",
    "def process_scan(path):\n",
    "    \"\"\"Read and resize volume\"\"\"\n",
    "    # Read scan\n",
    "    volume = read_nifti_file(path)\n",
    "    # Normalize\n",
    "    volume = normalize(volume)\n",
    "    # Resize width, height and depth\n",
    "    volume = resize_volume(volume)\n",
    "    return volume\n",
    "### TESTING BLOCK #####################\n",
    "# test_image = process_scan(test_image)\n",
    "# test_image.shape\n",
    "######################################"
   ]
  },
  {
   "cell_type": "code",
   "execution_count": 8,
   "id": "impressed-louisville",
   "metadata": {
    "executionInfo": {
     "elapsed": 35960,
     "status": "ok",
     "timestamp": 1613507940200,
     "user": {
      "displayName": "Диана С",
      "photoUrl": "",
      "userId": "10343442678953401424"
     },
     "user_tz": -180
    },
    "id": "valued-alignment"
   },
   "outputs": [],
   "source": [
    "def main(path):\n",
    "    label_image = ['normal', 'abnormal']\n",
    "    image = process_scan(path)\n",
    "    prediction = loaded_model.predict(np.expand_dims(image, axis=0))[0];\n",
    "    scores = [1 - prediction[0], prediction[0]]\n",
    "    if scores[0] > scores[1]:\n",
    "        return [label_image[0], str(scores[0])]\n",
    "    else:\n",
    "        return [label_image[1], str(scores[1])]\n"
   ]
  },
  {
   "cell_type": "code",
   "execution_count": 9,
   "id": "embedded-hygiene",
   "metadata": {
    "executionInfo": {
     "elapsed": 35958,
     "status": "ok",
     "timestamp": 1613507940201,
     "user": {
      "displayName": "Диана С",
      "photoUrl": "",
      "userId": "10343442678953401424"
     },
     "user_tz": -180
    },
    "id": "renewable-lebanon"
   },
   "outputs": [],
   "source": [
    "### TEST MODEL # AFTER TESTING COMMENT THIS BLOCK ###\n",
    "# print(os.getcwd()) # check path to project folder\n",
    "# path = os.getcwd() + \"/MRI/test_MRI.nii\" # full path to image.nii \n",
    "# path = os.getcwd() + \"/MRI/sick_7ff18f5d3de11b9ae7a9e5d651313fbd.nii\" # check classification\n",
    "# print(path) # check full path to image .nii\n",
    "# main(path)\n",
    "####################################################"
   ]
  },
  {
   "cell_type": "code",
   "execution_count": 10,
   "id": "featured-oxide",
   "metadata": {
    "executionInfo": {
     "elapsed": 35956,
     "status": "ok",
     "timestamp": 1613507940202,
     "user": {
      "displayName": "Диана С",
      "photoUrl": "",
      "userId": "10343442678953401424"
     },
     "user_tz": -180
    },
    "id": "interesting-dallas"
   },
   "outputs": [],
   "source": [
    "### THIS BLOCK VIEWING IMAGE FOR VISUAL CONTROLL ##########################\n",
    "# test_image = path + lst_images[0]\n",
    "# prediction = loaded_model.predict(np.expand_dims(test_image, axis=0))[0]\n",
    "# scores = [1 - prediction[0], prediction[0]]\n",
    "def plot_result(path):\n",
    "    image = process_scan(path)\n",
    "    prediction = create_model_().predict(np.expand_dims(image, axis=0))[0];\n",
    "    scores = [1 - prediction[0], prediction[0]]\n",
    "    scores_lst = []\n",
    "    for score, name in zip(scores, class_names):\n",
    "        scores_lst.append([score, name])\n",
    "    if scores_lst[0][0] > scores_lst[1][0]:\n",
    "        print(f\"MRI is {100 * scores_lst[0][0]:.2f}% is: {scores_lst[0][1]} | Dim.:\", image.shape)\n",
    "    else:    \n",
    "        print(f\"MRI is {100 * scores_lst[1][0]:.2f}% is: {scores_lst[1][1]} | Dim.:\", image.shape)\n",
    "    plt.imshow(np.squeeze(image[:, :, 2]), cmap=\"gray\")\n",
    "    plt.show()"
   ]
  },
  {
   "cell_type": "code",
   "execution_count": 11,
   "id": "flush-royalty",
   "metadata": {
    "executionInfo": {
     "elapsed": 35954,
     "status": "ok",
     "timestamp": 1613507940204,
     "user": {
      "displayName": "Диана С",
      "photoUrl": "",
      "userId": "10343442678953401424"
     },
     "user_tz": -180
    },
    "id": "unknown-gamma"
   },
   "outputs": [],
   "source": [
    "# t_finish = dt.datetime.now() - t_start\n",
    "# t_finish.seconds"
   ]
  },
  {
   "cell_type": "code",
   "execution_count": 12,
   "id": "seeing-morocco",
   "metadata": {
    "colab": {
     "base_uri": "https://localhost:8080/"
    },
    "executionInfo": {
     "elapsed": 39735,
     "status": "ok",
     "timestamp": 1613507943993,
     "user": {
      "displayName": "Диана С",
      "photoUrl": "",
      "userId": "10343442678953401424"
     },
     "user_tz": -180
    },
    "id": "drawn-oklahoma",
    "outputId": "82e079f9-163e-4bf9-9765-bf9382493c13"
   },
   "outputs": [
    {
     "data": {
      "text/plain": [
       "['abnormal', '0.90283895']"
      ]
     },
     "execution_count": 12,
     "metadata": {},
     "output_type": "execute_result"
    }
   ],
   "source": [
    "main(ABS_PATH + \"/MRI/sick_7c7160149aec1ebf15b28166f5458c49.nii\")"
   ]
  },
  {
   "cell_type": "code",
   "execution_count": 13,
   "id": "adaptive-treasurer",
   "metadata": {
    "executionInfo": {
     "elapsed": 39736,
     "status": "ok",
     "timestamp": 1613507943997,
     "user": {
      "displayName": "Диана С",
      "photoUrl": "",
      "userId": "10343442678953401424"
     },
     "user_tz": -180
    },
    "id": "bottom-impact"
   },
   "outputs": [],
   "source": [
    "#!ipynb-py-convert K8L_detect.ipynb K8L_detect.py"
   ]
  },
  {
   "cell_type": "code",
   "execution_count": null,
   "id": "south-organizer",
   "metadata": {},
   "outputs": [],
   "source": []
  }
 ],
 "metadata": {
  "colab": {
   "collapsed_sections": [],
   "name": "K8L_detect.ipynb",
   "provenance": []
  },
  "kernelspec": {
   "display_name": "Python 3",
   "language": "python",
   "name": "python3"
  },
  "language_info": {
   "codemirror_mode": {
    "name": "ipython",
    "version": 3
   },
   "file_extension": ".py",
   "mimetype": "text/x-python",
   "name": "python",
   "nbconvert_exporter": "python",
   "pygments_lexer": "ipython3",
   "version": "3.7.10"
  },
  "latex_envs": {
   "LaTeX_envs_menu_present": true,
   "autoclose": false,
   "autocomplete": true,
   "bibliofile": "biblio.bib",
   "cite_by": "apalike",
   "current_citInitial": 1,
   "eqLabelWithNumbers": true,
   "eqNumInitial": 1,
   "hotkeys": {
    "equation": "Ctrl-E",
    "itemize": "Ctrl-I"
   },
   "labels_anchors": false,
   "latex_user_defs": false,
   "report_style_numbering": false,
   "user_envs_cfg": false
  }
 },
 "nbformat": 4,
 "nbformat_minor": 5
}
