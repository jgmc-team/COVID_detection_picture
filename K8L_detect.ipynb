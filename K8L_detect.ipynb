{
  "nbformat": 4,
  "nbformat_minor": 5,
  "metadata": {
    "colab": {
      "name": "K8L_detect.ipynb",
      "provenance": [],
      "collapsed_sections": []
    },
    "kernelspec": {
      "display_name": "Python 3",
      "language": "python",
      "name": "python3"
    },
    "language_info": {
      "codemirror_mode": {
        "name": "ipython",
        "version": 3
      },
      "file_extension": ".py",
      "mimetype": "text/x-python",
      "name": "python",
      "nbconvert_exporter": "python",
      "pygments_lexer": "ipython3",
      "version": "3.7.10"
    },
    "latex_envs": {
      "LaTeX_envs_menu_present": true,
      "autoclose": false,
      "autocomplete": true,
      "bibliofile": "biblio.bib",
      "cite_by": "apalike",
      "current_citInitial": 1,
      "eqLabelWithNumbers": true,
      "eqNumInitial": 1,
      "hotkeys": {
        "equation": "Ctrl-E",
        "itemize": "Ctrl-I"
      },
      "labels_anchors": false,
      "latex_user_defs": false,
      "report_style_numbering": false,
      "user_envs_cfg": false
    }
  },
  "cells": [
    {
      "cell_type": "code",
      "metadata": {
        "id": "express-separate"
      },
      "source": [
        "#  !pip install -q pyyaml h5py\n",
        "# !pip install https://github.com/ipython-contrib/jupyter_contrib_nbextensions/tarball/master\n",
        "# !pip install jupyter_nbextensions_configurator\n",
        "# !jupyter contrib nbextension install --user\n",
        "# !jupyter nbextensions_configurator enable --user"
      ],
      "id": "express-separate",
      "execution_count": 17,
      "outputs": []
    },
    {
      "cell_type": "code",
      "metadata": {
        "id": "military-jamaica"
      },
      "source": [
        "import datetime as dt\n",
        "# t_start = dt.datetime.now()"
      ],
      "id": "military-jamaica",
      "execution_count": 18,
      "outputs": []
    },
    {
      "cell_type": "code",
      "metadata": {
        "id": "whole-gasoline",
        "colab": {
          "base_uri": "https://localhost:8080/"
        },
        "outputId": "c21c08d6-f88f-4c6e-edf5-075e09735d44"
      },
      "source": [
        "try:\n",
        "    from google.colab import drive\n",
        "    drive.mount('/content/drive')\n",
        "    ABS_PATH = '/content/drive/MyDrive/JN/NN/COVID_detection_picture'\n",
        "except ModuleNotFoundError:\n",
        "    from os import getcwd\n",
        "    ABS_PATH = getcwd()"
      ],
      "id": "whole-gasoline",
      "execution_count": 19,
      "outputs": [
        {
          "output_type": "stream",
          "text": [
            "Drive already mounted at /content/drive; to attempt to forcibly remount, call drive.mount(\"/content/drive\", force_remount=True).\n"
          ],
          "name": "stdout"
        }
      ]
    },
    {
      "cell_type": "code",
      "metadata": {
        "id": "early-cotton"
      },
      "source": [
        "import os\n",
        "import gzip\n",
        "import numba\n",
        "import zipfile\n",
        "\n",
        "import nibabel as nib\n",
        "from scipy import ndimage\n",
        "import scipy.special as sc\n",
        "\n",
        "import numpy as np\n",
        "from numba import jit\n",
        "from numba import njit\n",
        "import threading as tr\n",
        "\n",
        "import tensorflow as tf\n",
        "from tensorflow import keras\n",
        "from tensorflow.keras import layers\n",
        "import matplotlib.pyplot as plt\n",
        "\n",
        "\n",
        "### numba warrnings ###########\n",
        "from numba import NumbaDeprecationWarning, NumbaPendingDeprecationWarning\n",
        "import warnings\n",
        "\n",
        "warnings.simplefilter('ignore', category=NumbaDeprecationWarning)\n",
        "warnings.simplefilter('ignore', category=NumbaPendingDeprecationWarning)"
      ],
      "id": "early-cotton",
      "execution_count": 20,
      "outputs": []
    },
    {
      "cell_type": "code",
      "metadata": {
        "id": "worst-karen"
      },
      "source": [
        "# def get_model_8L_(width=128, height=128, depth=64):\n",
        "#     \"\"\"Build a 3D convolutional neural network model.\"\"\"\n",
        "\n",
        "#     inputs = keras.Input((width, height, depth, 1))\n",
        "\n",
        "#     x = layers.Conv3D(filters=64, kernel_size=3, activation=\"relu\")(inputs)\n",
        "#     x = layers.MaxPool3D(pool_size=2)(x)\n",
        "#     x = layers.BatchNormalization(center=True, scale=True)(x)\n",
        "#     \n",
        "\n",
        "#     x = layers.Conv3D(filters=64, kernel_size=3, activation=\"relu\")(x)\n",
        "#     x = layers.MaxPool3D(pool_size=2)(x)\n",
        "#     x = layers.BatchNormalization(center=True, scale=True)(x)\n",
        "#    \n",
        "\n",
        "\n",
        "#     ### add 64N layer ##################################################\n",
        "#     x = layers.Conv3D(filters=64, kernel_size=3, activation=\"relu\")(x)\n",
        "#     x = layers.MaxPool3D(pool_size=2)(x)\n",
        "#     x = layers.BatchNormalization(center=True, scale=True)(x)\n",
        "#  \n",
        "\n",
        "#     x = layers.Conv3D(filters=128, kernel_size=3, activation=\"relu\")(x)\n",
        "#     x = layers.MaxPool3D(pool_size=1)(x)\n",
        "#     x = layers.BatchNormalization(center=True, scale=True)(x)\n",
        "#    \n",
        "\n",
        "#     x = layers.Conv3D(filters=256, kernel_size=3, activation=\"relu\")(x)\n",
        "#     x = layers.MaxPool3D(pool_size=2)(x)\n",
        "#     x = layers.BatchNormalization()(x)\n",
        "\n",
        "#     x = layers.GlobalAveragePooling3D()(x)\n",
        "#     x = layers.Dense(units=512, activation=\"relu\")(x)\n",
        "#     x = layers.Dropout(0.3)(x)\n",
        "\n",
        "#     outputs = layers.Dense(units=1, activation=\"sigmoid\")(x)\n",
        "\n",
        "#     # Define the model.\n",
        "#     model = keras.Model(inputs, outputs, name=\"3dcnn\")\n",
        "#     return model"
      ],
      "id": "worst-karen",
      "execution_count": 21,
      "outputs": []
    },
    {
      "cell_type": "code",
      "metadata": {
        "id": "postal-kitty"
      },
      "source": [
        "# @tf.function(input_signature=(tf.TensorSpec(shape=[None], dtype=tf.int32),))\n",
        "def create_model_():\n",
        "    # Loads the weights\n",
        "    loaded_model = keras.models.load_model(ABS_PATH + \"/Keras/model/model_keras_F1_0819.h5\")\n",
        "    # model.load_weights(checkpoint_path)\n",
        "    return loaded_model\n",
        "    # model.summary()\n",
        "loaded_model = create_model_()"
      ],
      "id": "postal-kitty",
      "execution_count": 22,
      "outputs": []
    },
    {
      "cell_type": "code",
      "metadata": {
        "id": "royal-practice"
      },
      "source": [
        "def read_nifti_file(filepath):\n",
        "    \"\"\"Read and load volume\"\"\"\n",
        "    # Read file\n",
        "    scan = nib.load(filepath)\n",
        "    # Get raw data\n",
        "    scan = scan.get_fdata()\n",
        "    return scan\n",
        "def normalize(volume):\n",
        "    \"\"\"Normalize the volume\"\"\"\n",
        "    min = -1000\n",
        "    max = 400\n",
        "    volume[volume < min] = min\n",
        "    volume[volume > max] = max\n",
        "    volume = (volume - min) / (max - min)\n",
        "    volume = volume.astype(\"float32\")\n",
        "    return volume\n",
        "\n",
        "# @jit(parallel=True, cache=True, )\n",
        "def resize_volume(img):\n",
        "    \"\"\"Resize across z-axis\"\"\"\n",
        "    # Set the desired depth\n",
        "    # desired_depth = 64 #old\n",
        "    desired_depth = 64\n",
        "    desired_width = 128\n",
        "    desired_height = 128\n",
        "    # Get current depth\n",
        "    current_depth = img.shape[-1]\n",
        "    current_width = img.shape[0]\n",
        "    current_height = img.shape[1]\n",
        "    # Compute depth factor\n",
        "    depth = current_depth / desired_depth\n",
        "    width = current_width / desired_width\n",
        "    height = current_height / desired_height\n",
        "    depth_factor = 1 / depth\n",
        "    width_factor = 1 / width\n",
        "    height_factor = 1 / height\n",
        "    # Rotate\n",
        "    # img = ndimage.rotate(img, 90, reshape=False)\n",
        "    img = np.rot90(img)\n",
        "    # Resize across z-axis\n",
        "    img = ndimage.zoom(img, (width_factor, height_factor, depth_factor), order=1)\n",
        "    return img\n",
        "\n",
        "\n",
        "def process_scan(path):\n",
        "    \"\"\"Read and resize volume\"\"\"\n",
        "    # Read scan\n",
        "    volume = read_nifti_file(path)\n",
        "    # Normalize\n",
        "    volume = normalize(volume)\n",
        "    # Resize width, height and depth\n",
        "    volume = resize_volume(volume)\n",
        "    return volume\n",
        "### TESTING BLOCK #####################\n",
        "# test_image = process_scan(test_image)\n",
        "# test_image.shape\n",
        "######################################"
      ],
      "id": "royal-practice",
      "execution_count": 23,
      "outputs": []
    },
    {
      "cell_type": "code",
      "metadata": {
        "id": "impressed-louisville"
      },
      "source": [
        "def main(path):\n",
        "    label_image = ['normal', 'abnormal']\n",
        "    image = process_scan(path)\n",
        "    prediction = loaded_model.predict(np.expand_dims(image, axis=0))[0];\n",
        "    scores = [1 - prediction[0], prediction[0]]\n",
        "    if scores[0] > scores[1]:\n",
        "        return [label_image[0], str(scores[0])]\n",
        "    else:\n",
        "        return [label_image[1], str(scores[1])]\n"
      ],
      "id": "impressed-louisville",
      "execution_count": 24,
      "outputs": []
    },
    {
      "cell_type": "code",
      "metadata": {
        "id": "embedded-hygiene"
      },
      "source": [
        "### TEST MODEL # AFTER TESTING COMMENT THIS BLOCK ###\n",
        "# print(os.getcwd()) # check path to project folder\n",
        "# path = os.getcwd() + \"/MRI/test_MRI.nii\" # full path to image.nii \n",
        "# path = os.getcwd() + \"/MRI/sick_7ff18f5d3de11b9ae7a9e5d651313fbd.nii\" # check classification\n",
        "# print(path) # check full path to image .nii\n",
        "# main(path)\n",
        "####################################################"
      ],
      "id": "embedded-hygiene",
      "execution_count": 25,
      "outputs": []
    },
    {
      "cell_type": "code",
      "metadata": {
        "id": "featured-oxide"
      },
      "source": [
        "### THIS BLOCK VIEWING IMAGE FOR VISUAL CONTROLL ##########################\n",
        "# test_image = path + lst_images[0]\n",
        "# prediction = loaded_model.predict(np.expand_dims(test_image, axis=0))[0]\n",
        "# scores = [1 - prediction[0], prediction[0]]\n",
        "def plot_result(path):\n",
        "    image = process_scan(path)\n",
        "    prediction = create_model_().predict(np.expand_dims(image, axis=0))[0];\n",
        "    scores = [1 - prediction[0], prediction[0]]\n",
        "    scores_lst = []\n",
        "    for score, name in zip(scores, class_names):\n",
        "        scores_lst.append([score, name])\n",
        "    if scores_lst[0][0] > scores_lst[1][0]:\n",
        "        print(f\"MRI is {100 * scores_lst[0][0]:.2f}% is: {scores_lst[0][1]} | Dim.:\", image.shape)\n",
        "    else:    \n",
        "        print(f\"MRI is {100 * scores_lst[1][0]:.2f}% is: {scores_lst[1][1]} | Dim.:\", image.shape)\n",
        "    plt.imshow(np.squeeze(image[:, :, 2]), cmap=\"gray\")\n",
        "    plt.show()"
      ],
      "id": "featured-oxide",
      "execution_count": 26,
      "outputs": []
    },
    {
      "cell_type": "code",
      "metadata": {
        "id": "flush-royalty"
      },
      "source": [
        "# t_finish = dt.datetime.now() - t_start\n",
        "# t_finish.seconds"
      ],
      "id": "flush-royalty",
      "execution_count": 27,
      "outputs": []
    },
    {
      "cell_type": "code",
      "metadata": {
        "colab": {
          "base_uri": "https://localhost:8080/"
        },
        "id": "seeing-morocco",
        "outputId": "29893cc0-54e4-4a39-e813-5156f0bec05c"
      },
      "source": [
        "main(ABS_PATH + \"/MRI/sick_7c983eabf45915f3e7e9cae2aa9a5569.nii\")"
      ],
      "id": "seeing-morocco",
      "execution_count": 28,
      "outputs": [
        {
          "output_type": "execute_result",
          "data": {
            "text/plain": [
              "['abnormal', '0.68781924']"
            ]
          },
          "metadata": {
            "tags": []
          },
          "execution_count": 28
        }
      ]
    },
    {
      "cell_type": "code",
      "metadata": {
        "id": "adaptive-treasurer"
      },
      "source": [
        "#!ipynb-py-convert K8L_detect.ipynb K8L_detect.py"
      ],
      "id": "adaptive-treasurer",
      "execution_count": 29,
      "outputs": []
    },
    {
      "cell_type": "code",
      "metadata": {
        "id": "south-organizer"
      },
      "source": [
        ""
      ],
      "id": "south-organizer",
      "execution_count": 29,
      "outputs": []
    }
  ]
}