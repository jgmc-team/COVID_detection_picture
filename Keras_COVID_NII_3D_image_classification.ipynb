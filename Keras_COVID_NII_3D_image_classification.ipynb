{
 "cells": [
  {
   "cell_type": "code",
   "execution_count": null,
   "metadata": {
    "id": "6cNBdI8frswV"
   },
   "outputs": [],
   "source": []
  },
  {
   "cell_type": "code",
   "execution_count": 2,
   "metadata": {
    "id": "5okTDv9DA3JF"
   },
   "outputs": [
    {
     "name": "stdout",
     "output_type": "stream",
     "text": [
      "Collecting tensorflow\n",
      "  Downloading tensorflow-2.4.1-cp37-cp37m-win_amd64.whl (370.7 MB)\n",
      "Collecting grpcio~=1.32.0\n",
      "  Downloading grpcio-1.32.0-cp37-cp37m-win_amd64.whl (2.5 MB)\n",
      "Collecting protobuf>=3.9.2\n",
      "  Downloading protobuf-3.15.1-cp37-cp37m-win_amd64.whl (904 kB)\n",
      "Requirement already satisfied: typing-extensions~=3.7.4 in c:\\users\\admin\\anaconda3\\envs\\jupyterlab-debugger\\lib\\site-packages (from tensorflow) (3.7.4.3)\n",
      "Collecting tensorboard~=2.4\n",
      "  Using cached tensorboard-2.4.1-py3-none-any.whl (10.6 MB)\n",
      "Collecting google-pasta~=0.2\n",
      "  Using cached google_pasta-0.2.0-py3-none-any.whl (57 kB)\n",
      "Collecting h5py~=2.10.0\n",
      "  Downloading h5py-2.10.0-cp37-cp37m-win_amd64.whl (2.5 MB)\n",
      "Collecting numpy~=1.19.2\n",
      "  Downloading numpy-1.19.5-cp37-cp37m-win_amd64.whl (13.2 MB)\n",
      "Collecting gast==0.3.3\n",
      "  Using cached gast-0.3.3-py2.py3-none-any.whl (9.7 kB)\n",
      "Collecting tensorflow-estimator<2.5.0,>=2.4.0\n",
      "  Using cached tensorflow_estimator-2.4.0-py2.py3-none-any.whl (462 kB)\n",
      "Collecting absl-py~=0.10\n",
      "  Using cached absl_py-0.11.0-py3-none-any.whl (127 kB)\n",
      "Requirement already satisfied: six~=1.15.0 in c:\\users\\admin\\anaconda3\\envs\\jupyterlab-debugger\\lib\\site-packages (from tensorflow) (1.15.0)\n",
      "Requirement already satisfied: wheel~=0.35 in c:\\users\\admin\\anaconda3\\envs\\jupyterlab-debugger\\lib\\site-packages (from tensorflow) (0.36.2)\n",
      "Collecting keras-preprocessing~=1.1.2\n",
      "  Using cached Keras_Preprocessing-1.1.2-py2.py3-none-any.whl (42 kB)\n",
      "Collecting astunparse~=1.6.3\n",
      "  Using cached astunparse-1.6.3-py2.py3-none-any.whl (12 kB)\n",
      "Collecting opt-einsum~=3.3.0\n",
      "  Using cached opt_einsum-3.3.0-py3-none-any.whl (65 kB)\n",
      "Collecting termcolor~=1.1.0\n",
      "  Using cached termcolor-1.1.0.tar.gz (3.9 kB)\n",
      "Collecting flatbuffers~=1.12.0\n",
      "  Using cached flatbuffers-1.12-py2.py3-none-any.whl (15 kB)\n",
      "Requirement already satisfied: wrapt~=1.12.1 in c:\\users\\admin\\anaconda3\\envs\\jupyterlab-debugger\\lib\\site-packages (from tensorflow) (1.12.1)\n",
      "Collecting markdown>=2.6.8\n",
      "  Using cached Markdown-3.3.3-py3-none-any.whl (96 kB)\n",
      "Requirement already satisfied: requests<3,>=2.21.0 in c:\\users\\admin\\anaconda3\\envs\\jupyterlab-debugger\\lib\\site-packages (from tensorboard~=2.4->tensorflow) (2.25.1)\n",
      "Collecting google-auth-oauthlib<0.5,>=0.4.1\n",
      "  Using cached google_auth_oauthlib-0.4.2-py2.py3-none-any.whl (18 kB)\n",
      "Collecting tensorboard-plugin-wit>=1.6.0\n",
      "  Using cached tensorboard_plugin_wit-1.8.0-py3-none-any.whl (781 kB)\n",
      "Requirement already satisfied: werkzeug>=0.11.15 in c:\\users\\admin\\anaconda3\\envs\\jupyterlab-debugger\\lib\\site-packages (from tensorboard~=2.4->tensorflow) (1.0.1)\n",
      "Requirement already satisfied: setuptools>=41.0.0 in c:\\users\\admin\\anaconda3\\envs\\jupyterlab-debugger\\lib\\site-packages (from tensorboard~=2.4->tensorflow) (49.6.0.post20210108)\n",
      "Collecting google-auth<2,>=1.6.3\n",
      "  Downloading google_auth-1.27.0-py2.py3-none-any.whl (135 kB)\n",
      "Collecting rsa<5,>=3.1.4\n",
      "  Downloading rsa-4.7.1-py3-none-any.whl (36 kB)\n",
      "Collecting cachetools<5.0,>=2.0.0\n",
      "  Using cached cachetools-4.2.1-py3-none-any.whl (12 kB)\n",
      "Collecting pyasn1-modules>=0.2.1\n",
      "  Using cached pyasn1_modules-0.2.8-py2.py3-none-any.whl (155 kB)\n",
      "Collecting requests-oauthlib>=0.7.0\n",
      "  Using cached requests_oauthlib-1.3.0-py2.py3-none-any.whl (23 kB)\n",
      "Requirement already satisfied: importlib-metadata in c:\\users\\admin\\anaconda3\\envs\\jupyterlab-debugger\\lib\\site-packages (from markdown>=2.6.8->tensorboard~=2.4->tensorflow) (3.4.0)\n",
      "Collecting pyasn1<0.5.0,>=0.4.6\n",
      "  Using cached pyasn1-0.4.8-py2.py3-none-any.whl (77 kB)\n",
      "Requirement already satisfied: idna<3,>=2.5 in c:\\users\\admin\\anaconda3\\envs\\jupyterlab-debugger\\lib\\site-packages (from requests<3,>=2.21.0->tensorboard~=2.4->tensorflow) (2.10)\n",
      "Requirement already satisfied: urllib3<1.27,>=1.21.1 in c:\\users\\admin\\anaconda3\\envs\\jupyterlab-debugger\\lib\\site-packages (from requests<3,>=2.21.0->tensorboard~=2.4->tensorflow) (1.26.3)\n",
      "Requirement already satisfied: chardet<5,>=3.0.2 in c:\\users\\admin\\anaconda3\\envs\\jupyterlab-debugger\\lib\\site-packages (from requests<3,>=2.21.0->tensorboard~=2.4->tensorflow) (4.0.0)\n",
      "Requirement already satisfied: certifi>=2017.4.17 in c:\\users\\admin\\anaconda3\\envs\\jupyterlab-debugger\\lib\\site-packages (from requests<3,>=2.21.0->tensorboard~=2.4->tensorflow) (2020.12.5)\n",
      "Collecting oauthlib>=3.0.0\n",
      "  Using cached oauthlib-3.1.0-py2.py3-none-any.whl (147 kB)\n",
      "Requirement already satisfied: zipp>=0.5 in c:\\users\\admin\\anaconda3\\envs\\jupyterlab-debugger\\lib\\site-packages (from importlib-metadata->markdown>=2.6.8->tensorboard~=2.4->tensorflow) (3.4.0)\n",
      "Building wheels for collected packages: termcolor\n",
      "  Building wheel for termcolor (setup.py): started\n",
      "  Building wheel for termcolor (setup.py): finished with status 'done'\n",
      "  Created wheel for termcolor: filename=termcolor-1.1.0-py3-none-any.whl size=4829 sha256=89eaee65e4a196a6b041cab6c21f4ba6ebd3f21895b4f3e47ea0111d80fe6d1d\n",
      "  Stored in directory: c:\\users\\admin\\appdata\\local\\pip\\cache\\wheels\\3f\\e3\\ec\\8a8336ff196023622fbcb36de0c5a5c218cbb24111d1d4c7f2\n",
      "Successfully built termcolor\n",
      "Installing collected packages: pyasn1, rsa, pyasn1-modules, oauthlib, cachetools, requests-oauthlib, google-auth, tensorboard-plugin-wit, protobuf, numpy, markdown, grpcio, google-auth-oauthlib, absl-py, termcolor, tensorflow-estimator, tensorboard, opt-einsum, keras-preprocessing, h5py, google-pasta, gast, flatbuffers, astunparse, tensorflow\n",
      "  Attempting uninstall: numpy\n",
      "    Found existing installation: numpy 1.20.1\n",
      "    Uninstalling numpy-1.20.1:\n",
      "      Successfully uninstalled numpy-1.20.1\n",
      "Successfully installed absl-py-0.11.0 astunparse-1.6.3 cachetools-4.2.1 flatbuffers-1.12 gast-0.3.3 google-auth-1.27.0 google-auth-oauthlib-0.4.2 google-pasta-0.2.0 grpcio-1.32.0 h5py-2.10.0 keras-preprocessing-1.1.2 markdown-3.3.3 numpy-1.19.5 oauthlib-3.1.0 opt-einsum-3.3.0 protobuf-3.15.1 pyasn1-0.4.8 pyasn1-modules-0.2.8 requests-oauthlib-1.3.0 rsa-4.7.1 tensorboard-2.4.1 tensorboard-plugin-wit-1.8.0 tensorflow-2.4.1 tensorflow-estimator-2.4.0 termcolor-1.1.0\n"
     ]
    }
   ],
   "source": [
    "#!pip install numba\n",
    "#!pip install numba-scipy\n",
    "#!pip install numba-special==0.1.0\n",
    "!pip install tensorflow\n",
    "#!pip install ipynb-py-convert"
   ]
  },
  {
   "cell_type": "code",
   "execution_count": 8,
   "metadata": {
    "id": "nYegDucw2Ihb"
   },
   "outputs": [],
   "source": [
    "import os\n",
    "import gzip\n",
    "import numba\n",
    "import zipfile\n",
    "import tqdm\n",
    "\n",
    "import numpy as np\n",
    "# import numba_scipy\n",
    "from numba import jit\n",
    "from numba import njit\n",
    "import threading as tr\n",
    "\n",
    "import tensorflow as tf\n",
    "from tensorflow import keras\n",
    "from tensorflow.keras import layers\n",
    "\n",
    "### numba warrnings ###########\n",
    "from numba import NumbaDeprecationWarning, NumbaPendingDeprecationWarning\n",
    "import warnings\n",
    "\n",
    "warnings.simplefilter('ignore', category=NumbaDeprecationWarning)\n",
    "warnings.simplefilter('ignore', category=NumbaPendingDeprecationWarning)"
   ]
  },
  {
   "cell_type": "code",
   "execution_count": 9,
   "metadata": {
    "id": "tQtRHaJNlDb7"
   },
   "outputs": [],
   "source": [
    "# from google.colab import files\n",
    "# uploaded = files.upload()"
   ]
  },
  {
   "cell_type": "code",
   "execution_count": 10,
   "metadata": {
    "id": "J6KsjK45Vg6r"
   },
   "outputs": [
    {
     "ename": "ModuleNotFoundError",
     "evalue": "No module named 'google.colab'",
     "output_type": "error",
     "traceback": [
      "\u001b[1;31m---------------------------------------------------------------------------\u001b[0m",
      "\u001b[1;31mModuleNotFoundError\u001b[0m                       Traceback (most recent call last)",
      "\u001b[1;32m<ipython-input-10-d5df0069828e>\u001b[0m in \u001b[0;36m<module>\u001b[1;34m\u001b[0m\n\u001b[1;32m----> 1\u001b[1;33m \u001b[1;32mfrom\u001b[0m \u001b[0mgoogle\u001b[0m\u001b[1;33m.\u001b[0m\u001b[0mcolab\u001b[0m \u001b[1;32mimport\u001b[0m \u001b[0mdrive\u001b[0m\u001b[1;33m\u001b[0m\u001b[1;33m\u001b[0m\u001b[0m\n\u001b[0m\u001b[0;32m      2\u001b[0m \u001b[0mdrive\u001b[0m\u001b[1;33m.\u001b[0m\u001b[0mmount\u001b[0m\u001b[1;33m(\u001b[0m\u001b[1;34m'/content/drive'\u001b[0m\u001b[1;33m)\u001b[0m\u001b[1;33m\u001b[0m\u001b[1;33m\u001b[0m\u001b[0m\n",
      "\u001b[1;31mModuleNotFoundError\u001b[0m: No module named 'google.colab'"
     ]
    }
   ],
   "source": [
    "from google.colab import drive\n",
    "drive.mount('/content/drive')"
   ]
  },
  {
   "cell_type": "code",
   "execution_count": null,
   "metadata": {
    "id": "16W2F-shBN9a"
   },
   "outputs": [],
   "source": [
    "### path to dataset ###########################################################\n",
    "#nii_filepath_healthy = \"/content/drive/MyDrive/JN/NN/COVID_detection_picture/dataset/healthy/\" #nii folder\n",
    "#nii_filepath_sick = \"/content/drive/MyDrive/JN/NN/COVID_detection_picture/dataset/sick/\" #7e55febce08fc5f0e53f6a6e6746e7a0.nii\" #nii folder"
   ]
  },
  {
   "cell_type": "code",
   "execution_count": null,
   "metadata": {
    "id": "j4afAL5qyY7k"
   },
   "outputs": [],
   "source": [
    "# ############################################\n",
    "# ### CONVERTER GZIP TO NIFTI ################\n",
    "# ############################################\n",
    "### создаем энкодер для файлов gzip\n",
    "def encoder_gzip2nii_(path, output_path = None):\n",
    "    os.chdir(path)\n",
    "    for item in os.listdir(path):\n",
    "        # print(item)\n",
    "        if (item.find('.')) > 0:\n",
    "            # print(str(item.find('.')))\n",
    "            continue\n",
    "        else:\n",
    "            print('Dot not find')\n",
    "            input = gzip.GzipFile(item)\n",
    "            # print(item)\n",
    "            data = input.read()\n",
    "            input.close()\n",
    "            # file_output = path + item + \".nii\"\n",
    "            file_output = path + item + \".nii\"\n",
    "            output = open(file_output, 'wb')\n",
    "            output.write(data)\n",
    "            output.close()\n",
    "            os.remove(item)\n",
    "# encoder_gzip2nii_(nii_filepath_sick, output_path = None)\n",
    "# encoder_gzip2nii_(nii_filepath_healthy, output_path = None)"
   ]
  },
  {
   "cell_type": "code",
   "execution_count": null,
   "metadata": {
    "id": "1PJ-GfGUMb2b"
   },
   "outputs": [],
   "source": [
    "import nibabel as nib\n",
    "from scipy import ndimage\n",
    "import scipy.special as sc\n",
    "# import numba_special"
   ]
  },
  {
   "cell_type": "code",
   "execution_count": null,
   "metadata": {
    "id": "cbtuuweB2Ihd"
   },
   "outputs": [],
   "source": [
    "def read_nifti_file(filepath):\n",
    "    scan = nib.load(filepath)\n",
    "    scan = scan.get_fdata()\n",
    "    return scan\n",
    "\n",
    "def normalize(volume):\n",
    "    min = -1000\n",
    "    max = 400\n",
    "    volume[volume < min] = min\n",
    "    volume[volume > max] = max\n",
    "    volume = (volume - min) / (max - min)\n",
    "    volume = volume.astype(\"float32\")\n",
    "    return volume\n",
    "\n",
    "# from numba import ndimage\n",
    "\n",
    "# @jit(parallel=True, cache=True, )\n",
    "def resize_volume(img):\n",
    "    desired_depth = 64\n",
    "    desired_width = 128\n",
    "    desired_height = 128\n",
    "    current_depth = img.shape[-1]\n",
    "    current_width = img.shape[0]\n",
    "    current_height = img.shape[1]\n",
    "    depth = current_depth / desired_depth\n",
    "    width = current_width / desired_width\n",
    "    height = current_height / desired_height\n",
    "    depth_factor = 1 / depth\n",
    "    width_factor = 1 / width\n",
    "    height_factor = 1 / height\n",
    "    img = np.rot90(img)\n",
    "    img = ndimage.zoom(img, (width_factor, height_factor, depth_factor), order=1)\n",
    "    return img\n",
    "\n",
    "def process_scan(path):\n",
    "    volume = read_nifti_file(path)\n",
    "    volume = normalize(volume)\n",
    "    volume = resize_volume(volume)\n",
    "    return volume"
   ]
  },
  {
   "cell_type": "code",
   "execution_count": null,
   "metadata": {
    "colab": {
     "base_uri": "https://localhost:8080/",
     "height": 223
    },
    "executionInfo": {
     "elapsed": 32529,
     "status": "error",
     "timestamp": 1613582774316,
     "user": {
      "displayName": "Диана С",
      "photoUrl": "",
      "userId": "10343442678953401424"
     },
     "user_tz": -180
    },
    "id": "LcPjMci2nPLc",
    "outputId": "f236aec2-844b-492d-d628-1815f80879ad"
   },
   "outputs": [],
   "source": [
    "#normal_scan_paths = [\n",
    "#    os.path.join(os.getcwd(),\n",
    "#                 nii_filepath_healthy, x) for x in os.listdir(nii_filepath_healthy)\n",
    "#]\n",
    "\n",
    "#abnormal_scan_paths = [\n",
    "#    os.path.join(os.getcwd(), \n",
    "#                 nii_filepath_sick, x) for x in os.listdir(nii_filepath_sick)]\n",
    "\n",
    "#print(\"CT scans with normal lung tissue: \" + str(len(normal_scan_paths)))\n",
    "#print(\"CT scans with abnormal lung tissue: \" + str(len(abnormal_scan_paths)))"
   ]
  },
  {
   "cell_type": "code",
   "execution_count": null,
   "metadata": {
    "id": "78ap6dIHLYof"
   },
   "outputs": [],
   "source": [
    "# value = len(normal_scan_paths)\n",
    "# abnormal_scan_paths = abnormal_scan_paths[:value]\n",
    "# len(abnormal_scan_paths)"
   ]
  },
  {
   "cell_type": "code",
   "execution_count": null,
   "metadata": {
    "id": "r8efjOEIK-Da"
   },
   "outputs": [],
   "source": [
    "### decoder dataset from MRI-image to Numpy Ziparray ##############################################\n",
    "try:\n",
    "    os.path.exists(\"/content/drive/MyDrive/JN/NN/COVID_detection_picture/data/healthy.npz\")\n",
    "    os.path.exists(\"/content/drive/MyDrive/JN/NN/COVID_detection_picture/data/sick.npz\")\n",
    "    check_h = np.load(\"/content/drive/MyDrive/JN/NN/COVID_detection_picture/data/healthy.npz\")[\"arr\"]\n",
    "    check_s = np.load(\"/content/drive/MyDrive/JN/NN/COVID_detection_picture/data/sick.npz\")[\"arr\"]\n",
    "    try:\n",
    "        normal_scans = check_h\n",
    "        abnormal_scans = check_s\n",
    "    except:\n",
    "        print('Check please, datasets. Do you have NPZ files?')\n",
    "except:\n",
    "    from multiprocessing import Pool\n",
    "    import time\n",
    "    import tqdm\n",
    "    if __name__ == '__main__':\n",
    "        with Pool() as p:\n",
    "            normal_scans = np.squeeze(np.array(list(tqdm.tqdm(p.imap(process_scan, normal_scan_paths[:value]), total = value))))\n",
    "            abnormal_scans = np.squeeze(np.array(list(tqdm.tqdm(p.imap(process_scan, abnormal_scan_paths), total = value))))\n",
    "\n",
    "            \n",
    "            np.savez_compressed(\"/content/drive/MyDrive/JN/NN/COVID_detection_picture/data/healthy.npz\", \n",
    "                                arr = normal_scans)\n",
    "            np.savez_compressed(\"/content/drive/MyDrive/JN/NN/COVID_detection_picture/data/sick.npz\", \n",
    "                                arr = abnormal_scans)"
   ]
  },
  {
   "cell_type": "code",
   "execution_count": null,
   "metadata": {
    "id": "hALpB9Fhaqt1"
   },
   "outputs": [],
   "source": [
    "normal_scans.shape, abnormal_scans.shape"
   ]
  },
  {
   "cell_type": "code",
   "execution_count": null,
   "metadata": {
    "id": "oiyuuo4R6vbX"
   },
   "outputs": [],
   "source": [
    "# filepath_sick = \"/content/drive/MyDrive/JN/NN/COVID_detection_picture/dataset/train/sick/\" #7e55febce08fc5f0e53f6a6e6746e7a0.nii\" #nii folder\n",
    "# filepath_healthy = \"/content/drive/MyDrive/JN/NN/COVID_detection_picture/dataset/train/healthy/\" #7e55febce08fc5f0e53f6a6e6746e7a0.nii\" #nii folder\n",
    "# image_folder_sick = \"/content/drive/MyDrive/JN/NN/COVID_detection_picture/test_model/sick/jpg/\"\n",
    "# image_folder_healthy = \"/content/drive/MyDrive/JN/NN/COVID_detection_picture/test_model/healthy/jpg/\""
   ]
  },
  {
   "cell_type": "code",
   "execution_count": null,
   "metadata": {
    "id": "aGhjQDRADTc8"
   },
   "outputs": [],
   "source": [
    "### LABEL's for CLASS #####################\n",
    "### abnormal == 1 | normal == 0.\n",
    "###########################################\n",
    "from numba import cuda\n",
    "@jit(nopython=True)\n",
    "def build_labels(abnormal_scans, normal_scans):\n",
    "    abnormal_labels = np.array([1 for _ in range(len(abnormal_scans))])\n",
    "    normal_labels = np.array([0 for _ in range(len(normal_scans))])\n",
    "    return abnormal_labels, normal_labels\n",
    "abnormal_labels, normal_labels = build_labels(abnormal_scans, normal_scans)"
   ]
  },
  {
   "cell_type": "code",
   "execution_count": null,
   "metadata": {
    "id": "Gn-4NjsuNU_m"
   },
   "outputs": [],
   "source": [
    "len(normal_labels), len(abnormal_labels), "
   ]
  },
  {
   "cell_type": "code",
   "execution_count": null,
   "metadata": {
    "id": "CU62RVio2Ihi"
   },
   "outputs": [],
   "source": [
    "### Split data in the ratio 70-30 for training and validation.\n",
    "def spliter_data(abnormal_scans, abnormal_labels, normal_scans, normal_labels, split_size):\n",
    "    value = len(abnormal_scans) - int(len(abnormal_scans) * split_size)\n",
    "    # X = np.concatenate((abnormal_scans, normal_scans), axis = 0)\n",
    "    # np.random.shuffle(X)\n",
    "    # print(split_size)\n",
    "    x_train = np.concatenate((abnormal_scans[: value], normal_scans[: value]), axis=0)\n",
    "    y_train = np.concatenate((abnormal_labels[: value], normal_labels[: value]), axis=0)\n",
    "    x_val = np.concatenate((abnormal_scans[value: ], normal_scans[value: ]), axis=0)\n",
    "    y_val = np.concatenate((abnormal_labels[value: ], normal_labels[value: ]), axis=0)\n",
    "    print(f\"Number of samples in train {x_train.shape[0]} and validation {x_val.shape[0]}.\")\n",
    "    return x_train, y_train, x_val, y_val\n",
    "split_size = 0.2\n",
    "x_train, y_train, x_val, y_val = spliter_data(abnormal_scans, \n",
    "                                              abnormal_labels, \n",
    "                                              normal_scans, \n",
    "                                              normal_labels, \n",
    "                                              split_size)\n",
    "x_train.shape, y_train.shape, x_val.shape, y_val.shape"
   ]
  },
  {
   "cell_type": "code",
   "execution_count": null,
   "metadata": {
    "id": "8CA71l9fC5s7"
   },
   "outputs": [],
   "source": [
    "# ## Data augmentation\n",
    "\n",
    "# The CT scans also augmented by rotating at random angles during training. Since\n",
    "# the data is stored in rank-3 tensors of shape `(samples, height, width, depth)`,\n",
    "# we add a dimension of size 1 at axis 4 to be able to perform 3D convolutions on\n",
    "# the data. The new shape is thus `(samples, height, width, depth, 1)`. There are\n",
    "# different kinds of preprocessing and augmentation techniques out there,\n",
    "# this example shows a few simple ones to get started."
   ]
  },
  {
   "cell_type": "code",
   "execution_count": null,
   "metadata": {
    "id": "InyCsEun2Ihk"
   },
   "outputs": [],
   "source": [
    "import random\n",
    "\n",
    "from scipy import ndimage\n",
    "\n",
    "\n",
    "@tf.function\n",
    "def rotate(volume):\n",
    "    \"\"\"Rotate the volume by a few degrees\"\"\"\n",
    "\n",
    "    def scipy_rotate(volume):\n",
    "        # define some rotation angles\n",
    "        angles = [-20, -10, -5, 5, 10, 20]\n",
    "        # pick angles at random\n",
    "        angle = random.choice(angles)\n",
    "        # rotate volume\n",
    "        volume = ndimage.rotate(volume, angle, reshape=False)\n",
    "        volume[volume < 0] = 0\n",
    "        volume[volume > 1] = 1\n",
    "        return volume\n",
    "\n",
    "    augmented_volume = tf.numpy_function(scipy_rotate, [volume], tf.float32)\n",
    "    return augmented_volume\n",
    "\n",
    "\n",
    "def train_preprocessing(volume, label):\n",
    "    volume = rotate(volume)\n",
    "    volume = tf.expand_dims(volume, axis=3)\n",
    "    return volume, label\n",
    "\n",
    "\n",
    "def validation_preprocessing(volume, label):\n",
    "    volume = tf.expand_dims(volume, axis=3)\n",
    "    return volume, label\n"
   ]
  },
  {
   "cell_type": "code",
   "execution_count": null,
   "metadata": {
    "id": "dOka09fiKpYv"
   },
   "outputs": [],
   "source": [
    "# Define data loaders.\n",
    "train_loader = tf.data.Dataset.from_tensor_slices((x_train, y_train))\n",
    "validation_loader = tf.data.Dataset.from_tensor_slices((x_val, y_val))\n",
    "train_loader, validation_loader"
   ]
  },
  {
   "cell_type": "code",
   "execution_count": null,
   "metadata": {
    "id": "q7MCkvCm2Ihm"
   },
   "outputs": [],
   "source": [
    "### convertation to size 128x128x64 and rotation data ###\n",
    "batch_size = 2 # old =2\n",
    "train_dataset = (train_loader.shuffle(len(x_train)).map(train_preprocessing).batch(batch_size).prefetch(batch_size))\n",
    "validation_dataset = (validation_loader.shuffle(len(x_val)).map(validation_preprocessing).batch(batch_size).prefetch(batch_size))\n",
    "len(train_dataset), len(validation_dataset)"
   ]
  },
  {
   "cell_type": "markdown",
   "metadata": {
    "id": "4zIRyY1t2Ihn"
   },
   "source": [
    "Visualize an augmented CT scan."
   ]
  },
  {
   "cell_type": "code",
   "execution_count": null,
   "metadata": {
    "id": "Ref4OwTe2Iho"
   },
   "outputs": [],
   "source": [
    "import matplotlib.pyplot as plt\n",
    "\n",
    "data = train_dataset.take(1)\n",
    "images, labels = list(data)[0]\n",
    "images = images.numpy()\n",
    "image = images[0]\n",
    "print(\"Dimension of the CT scan is:\", image.shape)\n",
    "plt.imshow(np.squeeze(image[:, :, 30]), cmap=\"gray\");"
   ]
  },
  {
   "cell_type": "code",
   "execution_count": null,
   "metadata": {
    "id": "Qnlg5k_T2Ihp"
   },
   "outputs": [],
   "source": [
    "def plot_slices(num_rows, num_columns, width, height, data):\n",
    "    \"\"\"Plot a montage of 20 CT slices\"\"\"\n",
    "    data = np.rot90(np.array(data))\n",
    "    data = np.transpose(data)\n",
    "    data = np.reshape(data, (num_rows, num_columns, width, height))\n",
    "    rows_data, columns_data = data.shape[0], data.shape[1]\n",
    "    heights = [slc[0].shape[0] for slc in data]\n",
    "    widths = [slc.shape[1] for slc in data[0]]\n",
    "    fig_width = 12.0\n",
    "    fig_height = fig_width * sum(heights) / sum(widths)\n",
    "    f, axarr = plt.subplots(\n",
    "        rows_data,\n",
    "        columns_data,\n",
    "        figsize=(fig_width, fig_height),\n",
    "        gridspec_kw={\"height_ratios\": heights},\n",
    "    )\n",
    "    for i in range(rows_data):\n",
    "        for j in range(columns_data):\n",
    "            axarr[i, j].imshow(data[i][j], cmap=\"gray\")\n",
    "            axarr[i, j].axis(\"off\")\n",
    "    plt.subplots_adjust(wspace=0, hspace=0, left=0, right=1, bottom=0, top=1)\n",
    "    plt.show()\n",
    "\n",
    "plot_slices(4, 10, 128, 128, image[:, :, :40])"
   ]
  },
  {
   "cell_type": "code",
   "execution_count": null,
   "metadata": {
    "id": "lEGVv4amfr36"
   },
   "outputs": [],
   "source": []
  },
  {
   "cell_type": "code",
   "execution_count": null,
   "metadata": {
    "id": "EXeoaewy-ZKG"
   },
   "outputs": [],
   "source": [
    "# def get_model(width=128, height=128, depth=64):\n",
    "  # \"\"\"Build a 3D convolutional neural network model.\"\"\"\n",
    "\n",
    "  #  inputs = keras.Input((width, height, depth, 1))\n",
    "\n",
    "  # x = layers.Conv3D(filters=64, kernel_size=(3, 3, 3), activation=\"relu\")(inputs)\n",
    "    #x = layers.MaxPool3D(pool_size=2)(x)\n",
    "    #x = layers.BatchNormalization()(x)\n",
    "    #x = layers.Dropout(0.2)(x)\n",
    "\n",
    "   # x = layers.Conv3D(filters=64, kernel_size=(3, 3, 3), activation=\"relu\")(x)\n",
    "   # x = layers.MaxPool3D(pool_size=2)(x)\n",
    "    #x = layers.BatchNormalization()(x)\n",
    "    #x = layers.Dropout(0.5)(x)\n",
    "   \n",
    "  #  x = layers.Conv3D(filters=64, kernel_size=(3, 3, 3), activation=\"relu\")(x)\n",
    "   # x = layers.MaxPool3D(pool_size=2)(x)\n",
    "    #x = layers.BatchNormalization(center=True, scale=True)(x)\n",
    "    #x = layers.Dropout(0.3)(x)\n",
    "\n",
    "  #  x = layers.Conv3D(filters=128, kernel_size=(3, 3, 3), activation=\"relu\")(x)\n",
    "   # x = layers.MaxPool3D(pool_size=2)(x)\n",
    "   #x = layers.BatchNormalization()(x)\n",
    "\n",
    "   # x = layers.Conv3D(filters=256, kernel_size=(3, 3, 3), activation=\"relu\")(x)\n",
    "   # x = layers.MaxPool3D(pool_size=2)(x)\n",
    "   # x = layers.BatchNormalization()(x)\n",
    "\n",
    "   ## x = layers.GlobalAveragePooling3D()(x)\n",
    "    #x = layers.Dense(units=512, activation=\"relu\")(x)\n",
    "   # x = layers.Dropout(0.3)(x)\n",
    "\n",
    "    #outputs = layers.Dense(units=1, activation=\"sigmoid\")(x)\n",
    "\n",
    "    # Define the model.\n",
    "  #  model = keras.Model(inputs, outputs, name=\"3dcnn\")\n",
    "  #  return model\n",
    "\n",
    "\n",
    "# Build model.\n",
    "#model = get_model(width=128, height=128, depth=64)\n",
    "#model.summary()"
   ]
  },
  {
   "cell_type": "code",
   "execution_count": null,
   "metadata": {
    "id": "3GNpMd-daeRF"
   },
   "outputs": [],
   "source": [
    "def get_model_8L_(width=128, height=128, depth=64):\n",
    "       \"\"\"Build a 3D convolutional neural network model.\"\"\"\n",
    "       inputs = keras.Input((width, height, depth, 1))\n",
    "\n",
    "       x = layers.Conv3D(filters=64, kernel_size=3, activation=\"relu\")(inputs)\n",
    "       x = layers.MaxPool3D(pool_size=2)(x)\n",
    "       x = layers.BatchNormalization(center=True, scale=True)(x)\n",
    "  \n",
    "\n",
    "       x = layers.Conv3D(filters=64, kernel_size=3, activation=\"relu\")(x)\n",
    "       x = layers.MaxPool3D(pool_size=2)(x)\n",
    "       x = layers.BatchNormalization(center=True, scale=True)(x)\n",
    "       \n",
    "\n",
    "      ### add 64N layer ##################################################\n",
    "       x = layers.Conv3D(filters=64, kernel_size=3, activation=\"relu\")(x)\n",
    "       x = layers.MaxPool3D(pool_size=2)(x)\n",
    "       x = layers.BatchNormalization(center=True, scale=True)(x)\n",
    "      \n",
    "\n",
    "       x = layers.Conv3D(filters=128, kernel_size=3, activation=\"relu\")(x)\n",
    "       x = layers.MaxPool3D(pool_size=1)(x)\n",
    "       x = layers.BatchNormalization(center=True, scale=True)(x)\n",
    "       \n",
    "\n",
    "       x = layers.Conv3D(filters=256, kernel_size=3, activation=\"relu\")(x)\n",
    "       x = layers.MaxPool3D(pool_size=2)(x)\n",
    "       x = layers.BatchNormalization()(x)\n",
    "\n",
    "       x = layers.GlobalAveragePooling3D()(x)\n",
    "       x = layers.Dense(units=512, activation=\"relu\")(x)\n",
    "       x = layers.Dropout(0.3)(x)\n",
    "\n",
    "       outputs = layers.Dense(units=1, activation=\"sigmoid\")(x)\n",
    "      # outputs = layers.Dense(units=1, activation=\"tanh\", )(x)\n",
    "      # outputs = layers.Dense(units=1, activation=\"relu\", )(x)\n",
    "\n",
    "       model = keras.Model(inputs, outputs, name=\"3dcnn\")\n",
    "       return model\n",
    "\n",
    "model = get_model_8L_()\n",
    "model.summary()\n"
   ]
  },
  {
   "cell_type": "code",
   "execution_count": null,
   "metadata": {
    "id": "Qh8wS0OLXkV-"
   },
   "outputs": [],
   "source": [
    "# from keras import backend as K\n",
    "\n",
    "# def recall_m(y_true, y_pred):\n",
    "#     true_positives = K.sum(K.round(K.clip(y_true * y_pred, 0, 1)))\n",
    "#     possible_positives = K.sum(K.round(K.clip(y_true, 0, 1)))\n",
    "#     recall = true_positives / (possible_positives + K.epsilon())\n",
    "#     return recall\n",
    "\n",
    "# def precision_m(y_true, y_pred):\n",
    "#     true_positives = K.sum(K.round(K.clip(y_true * y_pred, 0, 1)))\n",
    "#     predicted_positives = K.sum(K.round(K.clip(y_pred, 0, 1)))\n",
    "#     precision = true_positives / (predicted_positives + K.epsilon())\n",
    "#     return precision\n",
    "\n",
    "# def f1_m(y_true, y_pred):\n",
    "#     precision = precision_m(y_true, y_pred)\n",
    "#     recall = recall_m(y_true, y_pred)\n",
    "#     return 2*((precision*recall)/(precision+recall+K.epsilon()))"
   ]
  },
  {
   "cell_type": "code",
   "execution_count": null,
   "metadata": {
    "id": "-2bDKQtW-tkC"
   },
   "outputs": [],
   "source": [
    "# ### initial model\n",
    "# # model = get_model(width=128, height=128, depth = 64)\n",
    "# model = get_model_8L_(width=128, height=128, depth = 64)\n",
    "# model.summary()"
   ]
  },
  {
   "cell_type": "code",
   "execution_count": null,
   "metadata": {
    "id": "ADU1GC1o2Ihr"
   },
   "outputs": [],
   "source": [
    "# Compile model.\n",
    "\n",
    "metrics = [\n",
    "    keras.metrics.FalseNegatives(name=\"fn\"),\n",
    "    keras.metrics.FalsePositives(name=\"fp\"),\n",
    "    keras.metrics.TrueNegatives(name=\"tn\"),\n",
    "    keras.metrics.TruePositives(name=\"tp\"),\n",
    "    keras.metrics.Precision(name=\"precision\"),\n",
    "    keras.metrics.Recall(name=\"recall\"),\n",
    "    keras.metrics.Accuracy(name='acc'),\n",
    "    keras.metrics.BinaryAccuracy(name='b_acc')\n",
    "]\n",
    "\n",
    "initial_learning_rate = 0.0015 #0.001 ~val_loss=65! #0.0015 F1=0.68\n",
    "lr_schedule = keras.optimizers.schedules.ExponentialDecay(\n",
    "    initial_learning_rate, decay_steps=100000, decay_rate=0.96, staircase=True)\n",
    "\n",
    "#model.compile(loss = \"binary_crossentropy\",\n",
    "#              optimizer = keras.optimizers.Adam(learning_rate = lr_schedule),\n",
    "#              metrics = metrics)\n",
    "\n",
    "# model.compile(loss = \"binary_crossentropy\",\n",
    "#               optimizer = 'rmsprop',\n",
    "#               metrics = metrics)\n",
    "\n",
    "model.compile(loss = \"binary_crossentropy\",\n",
    "              optimizer = keras.optimizers.SGD(lr=0.0015),\n",
    "              metrics = metrics)\n",
    "# Define callbacks.\n",
    "checkpoint_path = \"/content/drive/MyDrive/JN/NN/COVID_detection_picture/Keras/model/\"\n",
    "checkpoint_dir = os.path.dirname(checkpoint_path)\n",
    "checkpoint_cb = keras.callbacks.ModelCheckpoint(checkpoint_dir, \n",
    "                                                save_best_only = True,\n",
    "                                                verbose = 1)\n",
    "early_stopping_cb = keras.callbacks.EarlyStopping(monitor=\"val_acc\", patience = 15)\n",
    "\n",
    "# Train the model, doing validation at the end of each epoch\n",
    "epochs = 100\n",
    "model.fit(train_dataset,\n",
    "          validation_data = (validation_dataset),\n",
    "          epochs = epochs,\n",
    "          shuffle = True,\n",
    "          verbose = 2,\n",
    "        #   batch_size = 32,\n",
    "          callbacks=[checkpoint_cb, early_stopping_cb]\n",
    "          )"
   ]
  },
  {
   "cell_type": "code",
   "execution_count": null,
   "metadata": {
    "id": "X3sUDf-_PmJL"
   },
   "outputs": [],
   "source": [
    "history = model.history.history\n",
    "# history"
   ]
  },
  {
   "cell_type": "code",
   "execution_count": null,
   "metadata": {
    "id": "S_xe1kY22Ihs"
   },
   "outputs": [],
   "source": [
    "fig, ax = plt.subplots(1, 2, figsize=(20, 6))\n",
    "ax = ax.ravel()\n",
    "\n",
    "for i, metric in enumerate([\"b_acc\", \"loss\"]):\n",
    "    ax[i].plot(model.history.history[metric])\n",
    "    ax[i].plot(model.history.history[\"val_\" + metric])\n",
    "    ax[i].set_title(\"Model {}\".format(metric))\n",
    "    ax[i].set_xlabel(\"epochs\")\n",
    "    ax[i].set_ylabel(metric)\n",
    "    ax[i].legend([\"train\", \"val\"])"
   ]
  },
  {
   "cell_type": "code",
   "execution_count": null,
   "metadata": {
    "id": "WKszIqdETOn-"
   },
   "outputs": [],
   "source": [
    "y_pred_float = [model.predict(np.expand_dims(x_val[i], axis=0))[0][0] for i in range(0, x_val.shape[0])]\n",
    "y_pred = np.array([(lambda i: np.int64(1) if model.predict(np.expand_dims(x_val[i], axis = 0))[0][0] > 0.5 else np.int64(0))(i) for i in range(0, x_val.shape[0])])"
   ]
  },
  {
   "cell_type": "code",
   "execution_count": null,
   "metadata": {
    "id": "ynNBMkJpSGLf"
   },
   "outputs": [],
   "source": [
    "from sklearn.metrics import confusion_matrix\n",
    "confusion_matrix(y_val, y_pred)"
   ]
  },
  {
   "cell_type": "code",
   "execution_count": null,
   "metadata": {
    "id": "PGSFAKNyWWmr"
   },
   "outputs": [],
   "source": [
    "from sklearn.metrics import classification_report\n",
    "target_names = ['class 0', 'class 1']\n",
    "print(classification_report(y_val, y_pred, target_names=target_names))"
   ]
  },
  {
   "cell_type": "code",
   "execution_count": null,
   "metadata": {
    "id": "4_JcwbfujimY"
   },
   "outputs": [],
   "source": [
    "from sklearn.metrics import roc_curve, auc\n",
    "roc_curve(y_val.ravel(), y_pred.ravel())\n"
   ]
  },
  {
   "cell_type": "code",
   "execution_count": null,
   "metadata": {
    "id": "yn1ly0nJycUB"
   },
   "outputs": [],
   "source": [
    "### https://scikit-learn.org/stable/auto_examples/model_selection/plot_roc.html\n",
    "import sklearn.metrics as metrics\n",
    "import numpy as np\n",
    "import matplotlib.pyplot as plt\n",
    "from itertools import cycle\n",
    "\n",
    "from sklearn import svm, datasets\n",
    "from sklearn.metrics import roc_curve, auc\n",
    "from sklearn.model_selection import train_test_split\n",
    "from sklearn.preprocessing import label_binarize\n",
    "from sklearn.multiclass import OneVsRestClassifier\n",
    "from scipy import interp\n",
    "from sklearn.metrics import roc_auc_score\n",
    "# First aggregate all false positive rates\n",
    "fpr = dict()\n",
    "tpr = dict()\n",
    "roc_auc = dict()\n",
    "\n",
    "lw = 2\n",
    "fpr, tpr, _ = roc_curve(y_val, y_pred)\n",
    "roc_auc = auc(fpr, tpr)\n",
    "# Compute micro-average ROC curve and ROC area\n",
    "# fpr[\"micro\"], tpr[\"micro\"], _ = roc_curve(y_val.ravel(), y_pred.ravel())\n",
    "fpr, tpr, _ = roc_curve(y_val.ravel(), y_pred.ravel())\n",
    "roc_auc = auc(fpr, tpr)\n",
    "all_fpr = np.unique(np.concatenate([fpr for i in range(y_val.shape[0])]))\n",
    "\n",
    "# Then interpolate all ROC curves at this points\n",
    "mean_tpr = np.zeros_like(all_fpr)\n",
    "mean_tpr = interp(all_fpr, fpr, tpr)\n",
    "\n",
    "# Finally average it and compute AUC\n",
    "mean_tpr /= 1\n",
    "\n",
    "fpr = all_fpr\n",
    "tpr = mean_tpr\n",
    "roc_auc = auc(fpr, tpr)\n",
    "\n",
    "# Plot all ROC curves\n",
    "plt.figure()\n",
    "plt.plot(fpr, tpr,\n",
    "         label='micro-average ROC curve (area = {0:0.2f})'\n",
    "               ''.format(roc_auc),\n",
    "         color='deeppink', linestyle=':', linewidth=4);\n",
    "\n",
    "colors = cycle(['aqua', 'darkorange', 'cornflowerblue'])\n",
    "for i, color in zip(range(1), colors):\n",
    "    plt.plot(fpr[i], tpr[i], color=color, lw=lw,\n",
    "             label='ROC curve of class {0} (area = {1:0.2f})'\n",
    "             ''.format(i, roc_auc));\n",
    "\n",
    "plt.plot([0, 1], [0, 1], 'k--', lw=lw);\n",
    "plt.xlim([0.0, 1.0])\n",
    "plt.ylim([0.0, 1.05])\n",
    "plt.xlabel('False Positive Rate')\n",
    "plt.ylabel('True Positive Rate')\n",
    "plt.title('Some extension of Receiver operating characteristic to multi-class')\n",
    "plt.legend(loc=\"lower right\")\n",
    "plt.show()"
   ]
  },
  {
   "cell_type": "code",
   "execution_count": null,
   "metadata": {
    "id": "suiLEUCGP-zb"
   },
   "outputs": [],
   "source": [
    "tf_rc = tf.keras.metrics.Recall()\n",
    "tf_rc.update_state(y_val, y_pred)\n",
    "RECALL = tf_rc.result().numpy()\n",
    "RECALL"
   ]
  },
  {
   "cell_type": "code",
   "execution_count": null,
   "metadata": {
    "id": "YJOvD48bP3kU"
   },
   "outputs": [],
   "source": [
    "tf_pr = tf.keras.metrics.Precision()\n",
    "tf_pr.update_state(y_val, y_pred)\n",
    "PRECISION = tf_pr.result().numpy()\n",
    "PRECISION"
   ]
  },
  {
   "cell_type": "code",
   "execution_count": null,
   "metadata": {
    "id": "8xjJOQ7DQEyj"
   },
   "outputs": [],
   "source": [
    "F1 = (2 * PRECISION * RECALL) / (PRECISION + RECALL)\n",
    "F1"
   ]
  },
  {
   "cell_type": "code",
   "execution_count": null,
   "metadata": {
    "id": "iNu3NWUuRTJS"
   },
   "outputs": [],
   "source": [
    "np.array(y_val).reshape(-1, 1).shape, np.array(y_pred).reshape(-1, 1).shape"
   ]
  },
  {
   "cell_type": "code",
   "execution_count": null,
   "metadata": {
    "id": "KmtXjz_EsH-3"
   },
   "outputs": [],
   "source": [
    "!pip install tensorflow_addons"
   ]
  },
  {
   "cell_type": "code",
   "execution_count": null,
   "metadata": {
    "id": "SZmhnF5uQjJl"
   },
   "outputs": [],
   "source": [
    "import tensorflow_addons as tfa\n",
    "\n",
    "metrics = tfa.metrics.MatthewsCorrelationCoefficient(num_classes= 1)\n",
    "metrics.update_state(np.array(y_val).reshape(-1, 1), np.array(y_pred).reshape(-1, 1))\n",
    "result = metrics.result()\n",
    "MCC = result.numpy()[0]\n",
    "MCC"
   ]
  },
  {
   "cell_type": "code",
   "execution_count": null,
   "metadata": {
    "id": "wy3VOi4HQZPG"
   },
   "outputs": [],
   "source": [
    "from sklearn.metrics import f1_score\n",
    "F1_score = f1_score(y_val, y_pred, average='weighted')\n",
    "F1_score"
   ]
  },
  {
   "cell_type": "code",
   "execution_count": null,
   "metadata": {
    "id": "i39zdkCzB3q5"
   },
   "outputs": [],
   "source": [
    "from sklearn.metrics import f1_score\n",
    "F1_score = f1_score(y_val, y_pred, average='binary')\n",
    "F1_score"
   ]
  },
  {
   "cell_type": "code",
   "execution_count": null,
   "metadata": {
    "id": "FlOIZgZv2ghC"
   },
   "outputs": [],
   "source": [
    "y_pred[:5], type(y_pred[0])"
   ]
  },
  {
   "cell_type": "code",
   "execution_count": null,
   "metadata": {
    "id": "waH0f_Q9c1VU"
   },
   "outputs": [],
   "source": [
    "mean_accuracy = np.mean([model.predict(np.expand_dims(x_val[i], axis=0))[0][0] for i in range(0, x_val.shape[0])])\n",
    "mean_accuracy"
   ]
  },
  {
   "cell_type": "code",
   "execution_count": null,
   "metadata": {
    "id": "NNiNw-m42Iht"
   },
   "outputs": [],
   "source": [
    "# Load best weights.\n",
    "# model.load_weights(\"3d_image_classification.h5\")\n",
    "# loaded_model = keras.models.load_model('C:/Users/Admin/Documents/COVID_detection_picture/Keras/model/model_keras_5L.h5')\n",
    "# loaded_model = keras.models.load_model('/content/drive/MyDrive/JN/NN/COVID_detection_picture/Keras/model/saved_model.pb')\n",
    "test_image = x_val[12]\n",
    "prediction = model.predict(np.expand_dims(test_image, axis=0))[0]\n",
    "scores = [1 - prediction[0], prediction[0]]\n",
    "\n",
    "class_names = [\"normal\", \"abnormal\"]\n",
    "for score, name in zip(scores, class_names):\n",
    "    print(f\"This model is {100 * score:.2f} percent confident that CT scan is {name}\")\n",
    "    image = test_image\n",
    "    print(\"Dimension of the CT scan is:\", image.shape)\n",
    "    plt.imshow(np.squeeze(image[:, :, 15]), cmap=\"gray\")"
   ]
  },
  {
   "cell_type": "code",
   "execution_count": 11,
   "metadata": {
    "id": "HNe06YkRaMXT"
   },
   "outputs": [
    {
     "ename": "NameError",
     "evalue": "name 'process_scan' is not defined",
     "output_type": "error",
     "traceback": [
      "\u001b[1;31m---------------------------------------------------------------------------\u001b[0m",
      "\u001b[1;31mNameError\u001b[0m                                 Traceback (most recent call last)",
      "\u001b[1;32m<ipython-input-11-b9cb4db5e4a5>\u001b[0m in \u001b[0;36m<module>\u001b[1;34m\u001b[0m\n\u001b[0;32m      4\u001b[0m \u001b[1;31m# loaded_model = keras.models.load_model('/content/drive/MyDrive/JN/NN/COVID_detection_picture/Keras/model/saved_model.pb')\u001b[0m\u001b[1;33m\u001b[0m\u001b[1;33m\u001b[0m\u001b[1;33m\u001b[0m\u001b[0m\n\u001b[0;32m      5\u001b[0m \u001b[0mpath_test_image\u001b[0m \u001b[1;33m=\u001b[0m \u001b[1;34m\"/content/drive/MyDrive/JN/NN/COVID_detection_picture/MRI/sick_nii/sick_7c7160149aec1ebf15b28166f5458c49.nii\"\u001b[0m\u001b[1;33m\u001b[0m\u001b[1;33m\u001b[0m\u001b[0m\n\u001b[1;32m----> 6\u001b[1;33m \u001b[0mtest_image\u001b[0m \u001b[1;33m=\u001b[0m \u001b[0mprocess_scan\u001b[0m\u001b[1;33m(\u001b[0m\u001b[0mpath_test_image\u001b[0m\u001b[1;33m)\u001b[0m\u001b[1;33m\u001b[0m\u001b[1;33m\u001b[0m\u001b[0m\n\u001b[0m\u001b[0;32m      7\u001b[0m \u001b[1;31m# model.load_weights(\"/C:/Users/Admin/Documents/COVID_detection_picture/Keras/model/model_keras_8L_0953.h5\")\u001b[0m\u001b[1;33m\u001b[0m\u001b[1;33m\u001b[0m\u001b[1;33m\u001b[0m\u001b[0m\n\u001b[0;32m      8\u001b[0m \u001b[0mprediction\u001b[0m \u001b[1;33m=\u001b[0m \u001b[0mmodel\u001b[0m\u001b[1;33m.\u001b[0m\u001b[0mpredict\u001b[0m\u001b[1;33m(\u001b[0m\u001b[0mnp\u001b[0m\u001b[1;33m.\u001b[0m\u001b[0mexpand_dims\u001b[0m\u001b[1;33m(\u001b[0m\u001b[0mtest_image\u001b[0m\u001b[1;33m,\u001b[0m \u001b[0maxis\u001b[0m\u001b[1;33m=\u001b[0m\u001b[1;36m0\u001b[0m\u001b[1;33m)\u001b[0m\u001b[1;33m)\u001b[0m\u001b[1;33m[\u001b[0m\u001b[1;36m0\u001b[0m\u001b[1;33m]\u001b[0m\u001b[1;33m\u001b[0m\u001b[1;33m\u001b[0m\u001b[0m\n",
      "\u001b[1;31mNameError\u001b[0m: name 'process_scan' is not defined"
     ]
    }
   ],
   "source": [
    "# Load best weights.\n",
    "# model.load_weights(\"3d_image_classification.h5\")\n",
    "# loaded_model = keras.models.load_model('/C:/Users/Admin/Documents/COVID_detection_picture/Keras/model/model_keras_5L.h5')\n",
    "# loaded_model = keras.models.load_model('/content/drive/MyDrive/JN/NN/COVID_detection_picture/Keras/model/saved_model.pb')\n",
    "path_test_image = \"/content/drive/MyDrive/JN/NN/COVID_detection_picture/MRI/sick_7c7160149aec1ebf15b28166f5458c49.nii\"\n",
    "test_image = process_scan(path_test_image)\n",
    "# model.load_weights(\"/C:/Users/Admin/Documents/COVID_detection_picture/Keras/model/model_keras_8L_0953.h5\")\n",
    "prediction = model.predict(np.expand_dims(test_image, axis=0))[0]\n",
    "scores = [1 - prediction[0], prediction[0]]\n",
    "\n",
    "class_names = [\"normal\", \"abnormal\"]\n",
    "for score, name in zip(scores, class_names):\n",
    "    print(f\"This model is {100 * score:.2f} percent confident that CT scan is {name}\")\n",
    "    image = test_image\n",
    "    print(\"Dimension of the CT scan is:\", image.shape)\n",
    "    plt.imshow(np.squeeze(image[:, :, 15]), cmap=\"gray\")"
   ]
  },
  {
   "cell_type": "code",
   "execution_count": null,
   "metadata": {
    "id": "0oACh2yKr5fJ"
   },
   "outputs": [],
   "source": [
    "# Load best weights.\n",
    "# model.load_weights(\"3d_image_classification.h5\")\n",
    "# loaded_model = keras.models.load_model('/C:/Users/Admin/Documents/COVID_detection_picture/Keras/model/model_keras_5L.h5')\n",
    "# loaded_model = keras.models.load_model('/content/drive/MyDrive/JN/NN/COVID_detection_picture/Keras/model/saved_model.pb')\n",
    "# path_test_image = \"/content/drive/MyDrive/JN/NN/COVID_detection_picture/dataset/healthy/010722f5ce3929f8d38c961f97da1974.nii\"\n",
    "path_test_image = \"/content/drive/MyDrive/JN/NN/COVID_detection_picture/MRI/healthy_nii/health_0a38b4c71a46ce68c8b48c95b93619b2.nii\"\n",
    "test_image = process_scan(path_test_image)\n",
    "prediction = model.predict(np.expand_dims(test_image, axis=0))[0]\n",
    "print(prediction)\n",
    "scores = [1 - prediction[0], prediction[0]]\n",
    "\n",
    "# class_names = [\"normal\", \"abnormal\"]\n",
    "for score, name in zip(scores, class_names):\n",
    "    print(f\"This model is {100 * score:.2f} percent confident that CT scan is {name}\")\n",
    "    image = test_image\n",
    "    print(\"Dimension of the CT scan is:\", image.shape)\n",
    "    plt.imshow(np.squeeze(image[:, :, 0]), cmap=\"gray\")"
   ]
  },
  {
   "cell_type": "code",
   "execution_count": null,
   "metadata": {
    "id": "3UhlztKsR6H2"
   },
   "outputs": [],
   "source": [
    "model.save(\"/content/drive/MyDrive/JN/NN/COVID_detection_picture/Keras/model/model_keras_F1_0819.pb\")\n",
    "model.save(\"/content/drive/MyDrive/JN/NN/COVID_detection_picture/Keras/model/model_keras_F1_0819.h5\")"
   ]
  },
  {
   "cell_type": "code",
   "execution_count": null,
   "metadata": {
    "id": "PC_-RPB5z122"
   },
   "outputs": [],
   "source": [
    "!ipynb-py-convert Keras_COVID_NII_3D_image_classification.ipynb.ipynb Keras_COVID_NII_3D_image_classification.ipynb.py"
   ]
  },
  {
   "cell_type": "code",
   "execution_count": null,
   "metadata": {
    "id": "Z3MCoQvenZBM"
   },
   "outputs": [],
   "source": [
    "# !pip install ipynb-py-convert"
   ]
  },
  {
   "cell_type": "code",
   "execution_count": null,
   "metadata": {
    "id": "leAuOWOVneRt"
   },
   "outputs": [],
   "source": []
  }
 ],
 "metadata": {
  "accelerator": "GPU",
  "colab": {
   "collapsed_sections": [],
   "name": "Keras_COVID_NII_3D_image_classification.ipynb",
   "provenance": [
    {
     "file_id": "https://github.com/keras-team/keras-io/blob/master/examples/vision/ipynb/3D_image_classification.ipynb",
     "timestamp": 1611751136268
    }
   ]
  },
  "kernelspec": {
   "display_name": "Python 3",
   "language": "python",
   "name": "python3"
  },
  "language_info": {
   "codemirror_mode": {
    "name": "ipython",
    "version": 3
   },
   "file_extension": ".py",
   "mimetype": "text/x-python",
   "name": "python",
   "nbconvert_exporter": "python",
   "pygments_lexer": "ipython3",
   "version": "3.7.10"
  },
  "latex_envs": {
   "LaTeX_envs_menu_present": true,
   "autoclose": false,
   "autocomplete": true,
   "bibliofile": "biblio.bib",
   "cite_by": "apalike",
   "current_citInitial": 1,
   "eqLabelWithNumbers": true,
   "eqNumInitial": 1,
   "hotkeys": {
    "equation": "Ctrl-E",
    "itemize": "Ctrl-I"
   },
   "labels_anchors": false,
   "latex_user_defs": false,
   "report_style_numbering": false,
   "user_envs_cfg": false
  }
 },
 "nbformat": 4,
 "nbformat_minor": 4
}
